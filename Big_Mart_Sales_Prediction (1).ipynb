{
 "cells": [
  {
   "cell_type": "code",
   "execution_count": 98,
   "id": "f6eb49bd",
   "metadata": {
    "colab": {
     "base_uri": "https://localhost:8080/"
    },
    "id": "f6eb49bd",
    "outputId": "7143b021-e19b-4da7-f85a-cd1c09d1a16c"
   },
   "outputs": [],
   "source": [
    "import numpy as np\n",
    "import pandas as pd\n",
    "import matplotlib.pyplot as plt\n",
    "import seaborn as sns\n",
    "import scipy.stats as stats\n",
    "import statsmodels.formula.api as sfa\n",
    "import statsmodels.api as smodels\n",
    "from sklearn.feature_selection import RFE\n",
    "from sklearn.model_selection import train_test_split\n",
    "from statsmodels.stats.outliers_influence import variance_inflation_factor\n",
    "from sklearn.preprocessing import PowerTransformer\n",
    "PT=PowerTransformer()\n",
    "from sklearn.metrics import r2_score,mean_squared_error\n",
    "from sklearn.model_selection import train_test_split\n",
    "from sklearn.model_selection import cross_val_score"
   ]
  },
  {
   "cell_type": "markdown",
   "id": "acb91ae7",
   "metadata": {
    "colab": {
     "base_uri": "https://localhost:8080/",
     "height": 73,
     "resources": {
      "http://localhost:8080/nbextensions/google.colab/files.js": {
       "data": "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",
       "headers": [
        [
         "content-type",
         "application/javascript"
        ]
       ],
       "ok": true,
       "status": 200,
       "status_text": ""
      }
     }
    },
    "id": "vH6zFzLs6OUY",
    "outputId": "80587b02-64d2-4a3a-824b-89271ef30998"
   },
   "source": [
    "from google.colab import files\n",
    "uploaded = files.upload()\n",
    "\n",
    "# Dataset is now stored in a Pandas Dataframe"
   ]
  },
  {
   "cell_type": "markdown",
   "id": "5d54b976",
   "metadata": {
    "id": "OxNuwkRa6Rfe"
   },
   "source": [
    "import io\n",
    "df = pd.read_csv(io.BytesIO(uploaded['train_v9rqX0R (1).csv']))\n",
    "# Dataset is now stored in a Pandas Dataframe"
   ]
  },
  {
   "cell_type": "raw",
   "id": "73d812e7",
   "metadata": {
    "id": "73d812e7"
   },
   "source": [
    "Variable\tDescription\n",
    "Item_Identifier\tUnique product ID\n",
    "\n",
    "Item_Weight\tWeight of product\n",
    "\n",
    "Item_Fat_Content\tWhether the product is low fat or not\n",
    "\n",
    "Item_Visibility\tThe % of total display area of all products in a store allocated to the particular product\n",
    "\n",
    "Item_Type\tThe category to which the product belongs\n",
    "\n",
    "Item_MRP\tMaximum Retail Price (list price) of the product\n",
    "\n",
    "Outlet_Identifier\tUnique store ID\n",
    "\n",
    "Outlet_Establishment_Year\tThe year in which store was established\n",
    "\n",
    "Outlet_Size\tThe size of the store in terms of ground area covered\n",
    "\n",
    "Outlet_Location_Type\tThe type of city in which the store is located\n",
    "\n",
    "Outlet_Type\tWhether the outlet is just a grocery store or some sort of supermarket\n",
    "\n",
    "Item_Outlet_Sales\tSales of the product in the particular store. This is the outcome variable to be predicted.\n",
    " "
   ]
  },
  {
   "cell_type": "code",
   "execution_count": 99,
   "id": "d7937841",
   "metadata": {
    "colab": {
     "base_uri": "https://localhost:8080/",
     "height": 313
    },
    "id": "d7937841",
    "outputId": "f27efb35-eb8e-4001-dc3e-ee800fb10a1b"
   },
   "outputs": [
    {
     "data": {
      "text/html": [
       "<div>\n",
       "<style scoped>\n",
       "    .dataframe tbody tr th:only-of-type {\n",
       "        vertical-align: middle;\n",
       "    }\n",
       "\n",
       "    .dataframe tbody tr th {\n",
       "        vertical-align: top;\n",
       "    }\n",
       "\n",
       "    .dataframe thead th {\n",
       "        text-align: right;\n",
       "    }\n",
       "</style>\n",
       "<table border=\"1\" class=\"dataframe\">\n",
       "  <thead>\n",
       "    <tr style=\"text-align: right;\">\n",
       "      <th></th>\n",
       "      <th>Item_Identifier</th>\n",
       "      <th>Item_Weight</th>\n",
       "      <th>Item_Fat_Content</th>\n",
       "      <th>Item_Visibility</th>\n",
       "      <th>Item_Type</th>\n",
       "      <th>Item_MRP</th>\n",
       "      <th>Outlet_Identifier</th>\n",
       "      <th>Outlet_Establishment_Year</th>\n",
       "      <th>Outlet_Size</th>\n",
       "      <th>Outlet_Location_Type</th>\n",
       "      <th>Outlet_Type</th>\n",
       "      <th>Item_Outlet_Sales</th>\n",
       "    </tr>\n",
       "  </thead>\n",
       "  <tbody>\n",
       "    <tr>\n",
       "      <th>0</th>\n",
       "      <td>FDA15</td>\n",
       "      <td>9.30</td>\n",
       "      <td>Low Fat</td>\n",
       "      <td>0.016047</td>\n",
       "      <td>Dairy</td>\n",
       "      <td>249.8092</td>\n",
       "      <td>OUT049</td>\n",
       "      <td>1999</td>\n",
       "      <td>Medium</td>\n",
       "      <td>Tier 1</td>\n",
       "      <td>Supermarket Type1</td>\n",
       "      <td>3735.1380</td>\n",
       "    </tr>\n",
       "    <tr>\n",
       "      <th>1</th>\n",
       "      <td>DRC01</td>\n",
       "      <td>5.92</td>\n",
       "      <td>Regular</td>\n",
       "      <td>0.019278</td>\n",
       "      <td>Soft Drinks</td>\n",
       "      <td>48.2692</td>\n",
       "      <td>OUT018</td>\n",
       "      <td>2009</td>\n",
       "      <td>Medium</td>\n",
       "      <td>Tier 3</td>\n",
       "      <td>Supermarket Type2</td>\n",
       "      <td>443.4228</td>\n",
       "    </tr>\n",
       "    <tr>\n",
       "      <th>2</th>\n",
       "      <td>FDN15</td>\n",
       "      <td>17.50</td>\n",
       "      <td>Low Fat</td>\n",
       "      <td>0.016760</td>\n",
       "      <td>Meat</td>\n",
       "      <td>141.6180</td>\n",
       "      <td>OUT049</td>\n",
       "      <td>1999</td>\n",
       "      <td>Medium</td>\n",
       "      <td>Tier 1</td>\n",
       "      <td>Supermarket Type1</td>\n",
       "      <td>2097.2700</td>\n",
       "    </tr>\n",
       "    <tr>\n",
       "      <th>3</th>\n",
       "      <td>FDX07</td>\n",
       "      <td>19.20</td>\n",
       "      <td>Regular</td>\n",
       "      <td>0.000000</td>\n",
       "      <td>Fruits and Vegetables</td>\n",
       "      <td>182.0950</td>\n",
       "      <td>OUT010</td>\n",
       "      <td>1998</td>\n",
       "      <td>NaN</td>\n",
       "      <td>Tier 3</td>\n",
       "      <td>Grocery Store</td>\n",
       "      <td>732.3800</td>\n",
       "    </tr>\n",
       "    <tr>\n",
       "      <th>4</th>\n",
       "      <td>NCD19</td>\n",
       "      <td>8.93</td>\n",
       "      <td>Low Fat</td>\n",
       "      <td>0.000000</td>\n",
       "      <td>Household</td>\n",
       "      <td>53.8614</td>\n",
       "      <td>OUT013</td>\n",
       "      <td>1987</td>\n",
       "      <td>High</td>\n",
       "      <td>Tier 3</td>\n",
       "      <td>Supermarket Type1</td>\n",
       "      <td>994.7052</td>\n",
       "    </tr>\n",
       "  </tbody>\n",
       "</table>\n",
       "</div>"
      ],
      "text/plain": [
       "  Item_Identifier  Item_Weight Item_Fat_Content  Item_Visibility  \\\n",
       "0           FDA15         9.30          Low Fat         0.016047   \n",
       "1           DRC01         5.92          Regular         0.019278   \n",
       "2           FDN15        17.50          Low Fat         0.016760   \n",
       "3           FDX07        19.20          Regular         0.000000   \n",
       "4           NCD19         8.93          Low Fat         0.000000   \n",
       "\n",
       "               Item_Type  Item_MRP Outlet_Identifier  \\\n",
       "0                  Dairy  249.8092            OUT049   \n",
       "1            Soft Drinks   48.2692            OUT018   \n",
       "2                   Meat  141.6180            OUT049   \n",
       "3  Fruits and Vegetables  182.0950            OUT010   \n",
       "4              Household   53.8614            OUT013   \n",
       "\n",
       "   Outlet_Establishment_Year Outlet_Size Outlet_Location_Type  \\\n",
       "0                       1999      Medium               Tier 1   \n",
       "1                       2009      Medium               Tier 3   \n",
       "2                       1999      Medium               Tier 1   \n",
       "3                       1998         NaN               Tier 3   \n",
       "4                       1987        High               Tier 3   \n",
       "\n",
       "         Outlet_Type  Item_Outlet_Sales  \n",
       "0  Supermarket Type1          3735.1380  \n",
       "1  Supermarket Type2           443.4228  \n",
       "2  Supermarket Type1          2097.2700  \n",
       "3      Grocery Store           732.3800  \n",
       "4  Supermarket Type1           994.7052  "
      ]
     },
     "execution_count": 99,
     "metadata": {},
     "output_type": "execute_result"
    }
   ],
   "source": [
    "df=pd.read_csv('C:/Users/naman/Downloads/naman python/ana lytics/loan prediction/bigmart sales/train_v9rqX0R (1).csv')\n",
    "df.head()   \n"
   ]
  },
  {
   "cell_type": "code",
   "execution_count": 100,
   "id": "2af84d9e",
   "metadata": {
    "colab": {
     "base_uri": "https://localhost:8080/"
    },
    "id": "2af84d9e",
    "outputId": "51154e59-e9c3-447c-b1c0-f7b3ffcb5645"
   },
   "outputs": [
    {
     "data": {
      "text/plain": [
       "Item_Weight                  0.082426\n",
       "Item_Visibility              1.167091\n",
       "Item_MRP                     0.127202\n",
       "Outlet_Establishment_Year   -0.396641\n",
       "Item_Outlet_Sales            1.177531\n",
       "dtype: float64"
      ]
     },
     "execution_count": 100,
     "metadata": {},
     "output_type": "execute_result"
    }
   ],
   "source": [
    "df.skew()"
   ]
  },
  {
   "cell_type": "code",
   "execution_count": 101,
   "id": "787e3893",
   "metadata": {
    "id": "787e3893"
   },
   "outputs": [],
   "source": [
    "df.set_index('Item_Identifier',inplace=True)"
   ]
  },
  {
   "cell_type": "code",
   "execution_count": 102,
   "id": "7576b7fa",
   "metadata": {
    "colab": {
     "base_uri": "https://localhost:8080/",
     "height": 569
    },
    "id": "7576b7fa",
    "outputId": "bf5e3d45-ea82-49b0-9293-cb22ccaae525"
   },
   "outputs": [
    {
     "data": {
      "text/plain": [
       "(array([1, 2, 3, 4, 5]),\n",
       " [Text(1, 0, 'Item_Weight'),\n",
       "  Text(2, 0, 'Item_Visibility'),\n",
       "  Text(3, 0, 'Item_MRP'),\n",
       "  Text(4, 0, 'Outlet_Establishment_Year'),\n",
       "  Text(5, 0, 'Item_Outlet_Sales')])"
      ]
     },
     "execution_count": 102,
     "metadata": {},
     "output_type": "execute_result"
    },
    {
     "data": {
      "image/png": "[encoded data removed]",
      "text/plain": [
       "<Figure size 576x432 with 1 Axes>"
      ]
     },
     "metadata": {
      "needs_background": "light"
     },
     "output_type": "display_data"
    }
   ],
   "source": [
    "plt.figure(figsize=[8,6])\n",
    "df.boxplot()\n",
    "plt.xticks(rotation=90)"
   ]
  },
  {
   "cell_type": "markdown",
   "id": "381edfcb",
   "metadata": {
    "id": "381edfcb"
   },
   "source": [
    "q1=df.quantile(0.25)\n",
    "q3=df.quantile(0.75)\n",
    "iqr=q3-q1\n",
    "\n",
    "ll=q1-1.5*iqr\n",
    "ul=q3+1.5*iqr\n",
    "\n",
    "df=df[~((df >ul ) | ( df <ll )).any(axis=1)]"
   ]
  },
  {
   "cell_type": "markdown",
   "id": "aZgYNq1l6ysS",
   "metadata": {
    "id": "aZgYNq1l6ysS"
   },
   "source": []
  },
  {
   "cell_type": "code",
   "execution_count": 103,
   "id": "0994d945",
   "metadata": {
    "colab": {
     "base_uri": "https://localhost:8080/",
     "height": 569
    },
    "id": "0994d945",
    "outputId": "d9295e5f-f210-440a-e8e3-c84217e9f669"
   },
   "outputs": [
    {
     "data": {
      "text/plain": [
       "(array([1, 2, 3, 4, 5]),\n",
       " [Text(1, 0, 'Item_Weight'),\n",
       "  Text(2, 0, 'Item_Visibility'),\n",
       "  Text(3, 0, 'Item_MRP'),\n",
       "  Text(4, 0, 'Outlet_Establishment_Year'),\n",
       "  Text(5, 0, 'Item_Outlet_Sales')])"
      ]
     },
     "execution_count": 103,
     "metadata": {},
     "output_type": "execute_result"
    },
    {
     "data": {
      "image/png": "[encoded data removed]",
      "text/plain": [
       "<Figure size 576x432 with 1 Axes>"
      ]
     },
     "metadata": {
      "needs_background": "light"
     },
     "output_type": "display_data"
    }
   ],
   "source": [
    "plt.figure(figsize=[8,6])\n",
    "df.boxplot()\n",
    "plt.xticks(rotation=90)"
   ]
  },
  {
   "cell_type": "code",
   "execution_count": 104,
   "id": "16ade0e9",
   "metadata": {
    "colab": {
     "base_uri": "https://localhost:8080/"
    },
    "id": "16ade0e9",
    "outputId": "be745232-2c22-402c-a083-bd7565668014"
   },
   "outputs": [
    {
     "data": {
      "text/plain": [
       "Item_Weight                  17.165317\n",
       "Item_Fat_Content              0.000000\n",
       "Item_Visibility               0.000000\n",
       "Item_Type                     0.000000\n",
       "Item_MRP                      0.000000\n",
       "Outlet_Identifier             0.000000\n",
       "Outlet_Establishment_Year     0.000000\n",
       "Outlet_Size                  28.276428\n",
       "Outlet_Location_Type          0.000000\n",
       "Outlet_Type                   0.000000\n",
       "Item_Outlet_Sales             0.000000\n",
       "dtype: float64"
      ]
     },
     "execution_count": 104,
     "metadata": {},
     "output_type": "execute_result"
    }
   ],
   "source": [
    "df.isnull().sum()/len(df)*100"
   ]
  },
  {
   "cell_type": "markdown",
   "id": "3813f2d0",
   "metadata": {
    "id": "3813f2d0"
   },
   "source": [
    "df=df.dropna(subset=['Item_Weight','Outlet_Size'])"
   ]
  },
  {
   "cell_type": "markdown",
   "id": "46c41e88",
   "metadata": {
    "id": "46c41e88",
    "outputId": "50946b24-5edb-44e2-85e3-ff668b31b208"
   },
   "source": [
    "df.isnull().sum()/len(df)*100"
   ]
  },
  {
   "cell_type": "code",
   "execution_count": 105,
   "id": "23be533c",
   "metadata": {
    "colab": {
     "base_uri": "https://localhost:8080/",
     "height": 518
    },
    "id": "23be533c",
    "outputId": "eeae980c-2e55-440e-abf1-936d97725d85"
   },
   "outputs": [
    {
     "data": {
      "text/plain": [
       "<AxesSubplot:>"
      ]
     },
     "execution_count": 105,
     "metadata": {},
     "output_type": "execute_result"
    },
    {
     "data": {
      "image/png": "[encoded data removed]",
      "text/plain": [
       "<Figure size 576x432 with 2 Axes>"
      ]
     },
     "metadata": {
      "needs_background": "light"
     },
     "output_type": "display_data"
    }
   ],
   "source": [
    "plt.figure(figsize=[8,6])\n",
    "sns.heatmap(df.corr()[df.corr()>0.6],annot=True)"
   ]
  },
  {
   "cell_type": "code",
   "execution_count": 106,
   "id": "7a2e99c1",
   "metadata": {
    "colab": {
     "base_uri": "https://localhost:8080/",
     "height": 455
    },
    "id": "7a2e99c1",
    "outputId": "d5499c0d-337e-4e5e-92bf-5e09b5e6cf26"
   },
   "outputs": [
    {
     "data": {
      "text/html": [
       "<div>\n",
       "<style scoped>\n",
       "    .dataframe tbody tr th:only-of-type {\n",
       "        vertical-align: middle;\n",
       "    }\n",
       "\n",
       "    .dataframe tbody tr th {\n",
       "        vertical-align: top;\n",
       "    }\n",
       "\n",
       "    .dataframe thead th {\n",
       "        text-align: right;\n",
       "    }\n",
       "</style>\n",
       "<table border=\"1\" class=\"dataframe\">\n",
       "  <thead>\n",
       "    <tr style=\"text-align: right;\">\n",
       "      <th></th>\n",
       "      <th>Item_Weight</th>\n",
       "      <th>Item_Visibility</th>\n",
       "      <th>Item_MRP</th>\n",
       "      <th>Outlet_Establishment_Year</th>\n",
       "      <th>Item_Outlet_Sales</th>\n",
       "    </tr>\n",
       "    <tr>\n",
       "      <th>Item_Identifier</th>\n",
       "      <th></th>\n",
       "      <th></th>\n",
       "      <th></th>\n",
       "      <th></th>\n",
       "      <th></th>\n",
       "    </tr>\n",
       "  </thead>\n",
       "  <tbody>\n",
       "    <tr>\n",
       "      <th>FDA15</th>\n",
       "      <td>9.300</td>\n",
       "      <td>0.016047</td>\n",
       "      <td>249.8092</td>\n",
       "      <td>1999</td>\n",
       "      <td>3735.1380</td>\n",
       "    </tr>\n",
       "    <tr>\n",
       "      <th>DRC01</th>\n",
       "      <td>5.920</td>\n",
       "      <td>0.019278</td>\n",
       "      <td>48.2692</td>\n",
       "      <td>2009</td>\n",
       "      <td>443.4228</td>\n",
       "    </tr>\n",
       "    <tr>\n",
       "      <th>FDN15</th>\n",
       "      <td>17.500</td>\n",
       "      <td>0.016760</td>\n",
       "      <td>141.6180</td>\n",
       "      <td>1999</td>\n",
       "      <td>2097.2700</td>\n",
       "    </tr>\n",
       "    <tr>\n",
       "      <th>FDX07</th>\n",
       "      <td>19.200</td>\n",
       "      <td>0.000000</td>\n",
       "      <td>182.0950</td>\n",
       "      <td>1998</td>\n",
       "      <td>732.3800</td>\n",
       "    </tr>\n",
       "    <tr>\n",
       "      <th>NCD19</th>\n",
       "      <td>8.930</td>\n",
       "      <td>0.000000</td>\n",
       "      <td>53.8614</td>\n",
       "      <td>1987</td>\n",
       "      <td>994.7052</td>\n",
       "    </tr>\n",
       "    <tr>\n",
       "      <th>...</th>\n",
       "      <td>...</td>\n",
       "      <td>...</td>\n",
       "      <td>...</td>\n",
       "      <td>...</td>\n",
       "      <td>...</td>\n",
       "    </tr>\n",
       "    <tr>\n",
       "      <th>FDF22</th>\n",
       "      <td>6.865</td>\n",
       "      <td>0.056783</td>\n",
       "      <td>214.5218</td>\n",
       "      <td>1987</td>\n",
       "      <td>2778.3834</td>\n",
       "    </tr>\n",
       "    <tr>\n",
       "      <th>FDS36</th>\n",
       "      <td>8.380</td>\n",
       "      <td>0.046982</td>\n",
       "      <td>108.1570</td>\n",
       "      <td>2002</td>\n",
       "      <td>549.2850</td>\n",
       "    </tr>\n",
       "    <tr>\n",
       "      <th>NCJ29</th>\n",
       "      <td>10.600</td>\n",
       "      <td>0.035186</td>\n",
       "      <td>85.1224</td>\n",
       "      <td>2004</td>\n",
       "      <td>1193.1136</td>\n",
       "    </tr>\n",
       "    <tr>\n",
       "      <th>FDN46</th>\n",
       "      <td>7.210</td>\n",
       "      <td>0.145221</td>\n",
       "      <td>103.1332</td>\n",
       "      <td>2009</td>\n",
       "      <td>1845.5976</td>\n",
       "    </tr>\n",
       "    <tr>\n",
       "      <th>DRG01</th>\n",
       "      <td>14.800</td>\n",
       "      <td>0.044878</td>\n",
       "      <td>75.4670</td>\n",
       "      <td>1997</td>\n",
       "      <td>765.6700</td>\n",
       "    </tr>\n",
       "  </tbody>\n",
       "</table>\n",
       "<p>8523 rows × 5 columns</p>\n",
       "</div>"
      ],
      "text/plain": [
       "                 Item_Weight  Item_Visibility  Item_MRP  \\\n",
       "Item_Identifier                                           \n",
       "FDA15                  9.300         0.016047  249.8092   \n",
       "DRC01                  5.920         0.019278   48.2692   \n",
       "FDN15                 17.500         0.016760  141.6180   \n",
       "FDX07                 19.200         0.000000  182.0950   \n",
       "NCD19                  8.930         0.000000   53.8614   \n",
       "...                      ...              ...       ...   \n",
       "FDF22                  6.865         0.056783  214.5218   \n",
       "FDS36                  8.380         0.046982  108.1570   \n",
       "NCJ29                 10.600         0.035186   85.1224   \n",
       "FDN46                  7.210         0.145221  103.1332   \n",
       "DRG01                 14.800         0.044878   75.4670   \n",
       "\n",
       "                 Outlet_Establishment_Year  Item_Outlet_Sales  \n",
       "Item_Identifier                                                \n",
       "FDA15                                 1999          3735.1380  \n",
       "DRC01                                 2009           443.4228  \n",
       "FDN15                                 1999          2097.2700  \n",
       "FDX07                                 1998           732.3800  \n",
       "NCD19                                 1987           994.7052  \n",
       "...                                    ...                ...  \n",
       "FDF22                                 1987          2778.3834  \n",
       "FDS36                                 2002           549.2850  \n",
       "NCJ29                                 2004          1193.1136  \n",
       "FDN46                                 2009          1845.5976  \n",
       "DRG01                                 1997           765.6700  \n",
       "\n",
       "[8523 rows x 5 columns]"
      ]
     },
     "execution_count": 106,
     "metadata": {},
     "output_type": "execute_result"
    }
   ],
   "source": [
    "df.select_dtypes(include=np.number)"
   ]
  },
  {
   "cell_type": "code",
   "execution_count": 107,
   "id": "4d18493a",
   "metadata": {
    "colab": {
     "base_uri": "https://localhost:8080/",
     "height": 455
    },
    "id": "4d18493a",
    "outputId": "82016c7e-62e3-451a-a851-1e378f8dc37b"
   },
   "outputs": [
    {
     "data": {
      "text/html": [
       "<div>\n",
       "<style scoped>\n",
       "    .dataframe tbody tr th:only-of-type {\n",
       "        vertical-align: middle;\n",
       "    }\n",
       "\n",
       "    .dataframe tbody tr th {\n",
       "        vertical-align: top;\n",
       "    }\n",
       "\n",
       "    .dataframe thead th {\n",
       "        text-align: right;\n",
       "    }\n",
       "</style>\n",
       "<table border=\"1\" class=\"dataframe\">\n",
       "  <thead>\n",
       "    <tr style=\"text-align: right;\">\n",
       "      <th></th>\n",
       "      <th>Item_Fat_Content</th>\n",
       "      <th>Item_Type</th>\n",
       "      <th>Outlet_Identifier</th>\n",
       "      <th>Outlet_Size</th>\n",
       "      <th>Outlet_Location_Type</th>\n",
       "      <th>Outlet_Type</th>\n",
       "    </tr>\n",
       "    <tr>\n",
       "      <th>Item_Identifier</th>\n",
       "      <th></th>\n",
       "      <th></th>\n",
       "      <th></th>\n",
       "      <th></th>\n",
       "      <th></th>\n",
       "      <th></th>\n",
       "    </tr>\n",
       "  </thead>\n",
       "  <tbody>\n",
       "    <tr>\n",
       "      <th>FDA15</th>\n",
       "      <td>Low Fat</td>\n",
       "      <td>Dairy</td>\n",
       "      <td>OUT049</td>\n",
       "      <td>Medium</td>\n",
       "      <td>Tier 1</td>\n",
       "      <td>Supermarket Type1</td>\n",
       "    </tr>\n",
       "    <tr>\n",
       "      <th>DRC01</th>\n",
       "      <td>Regular</td>\n",
       "      <td>Soft Drinks</td>\n",
       "      <td>OUT018</td>\n",
       "      <td>Medium</td>\n",
       "      <td>Tier 3</td>\n",
       "      <td>Supermarket Type2</td>\n",
       "    </tr>\n",
       "    <tr>\n",
       "      <th>FDN15</th>\n",
       "      <td>Low Fat</td>\n",
       "      <td>Meat</td>\n",
       "      <td>OUT049</td>\n",
       "      <td>Medium</td>\n",
       "      <td>Tier 1</td>\n",
       "      <td>Supermarket Type1</td>\n",
       "    </tr>\n",
       "    <tr>\n",
       "      <th>FDX07</th>\n",
       "      <td>Regular</td>\n",
       "      <td>Fruits and Vegetables</td>\n",
       "      <td>OUT010</td>\n",
       "      <td>NaN</td>\n",
       "      <td>Tier 3</td>\n",
       "      <td>Grocery Store</td>\n",
       "    </tr>\n",
       "    <tr>\n",
       "      <th>NCD19</th>\n",
       "      <td>Low Fat</td>\n",
       "      <td>Household</td>\n",
       "      <td>OUT013</td>\n",
       "      <td>High</td>\n",
       "      <td>Tier 3</td>\n",
       "      <td>Supermarket Type1</td>\n",
       "    </tr>\n",
       "    <tr>\n",
       "      <th>...</th>\n",
       "      <td>...</td>\n",
       "      <td>...</td>\n",
       "      <td>...</td>\n",
       "      <td>...</td>\n",
       "      <td>...</td>\n",
       "      <td>...</td>\n",
       "    </tr>\n",
       "    <tr>\n",
       "      <th>FDF22</th>\n",
       "      <td>Low Fat</td>\n",
       "      <td>Snack Foods</td>\n",
       "      <td>OUT013</td>\n",
       "      <td>High</td>\n",
       "      <td>Tier 3</td>\n",
       "      <td>Supermarket Type1</td>\n",
       "    </tr>\n",
       "    <tr>\n",
       "      <th>FDS36</th>\n",
       "      <td>Regular</td>\n",
       "      <td>Baking Goods</td>\n",
       "      <td>OUT045</td>\n",
       "      <td>NaN</td>\n",
       "      <td>Tier 2</td>\n",
       "      <td>Supermarket Type1</td>\n",
       "    </tr>\n",
       "    <tr>\n",
       "      <th>NCJ29</th>\n",
       "      <td>Low Fat</td>\n",
       "      <td>Health and Hygiene</td>\n",
       "      <td>OUT035</td>\n",
       "      <td>Small</td>\n",
       "      <td>Tier 2</td>\n",
       "      <td>Supermarket Type1</td>\n",
       "    </tr>\n",
       "    <tr>\n",
       "      <th>FDN46</th>\n",
       "      <td>Regular</td>\n",
       "      <td>Snack Foods</td>\n",
       "      <td>OUT018</td>\n",
       "      <td>Medium</td>\n",
       "      <td>Tier 3</td>\n",
       "      <td>Supermarket Type2</td>\n",
       "    </tr>\n",
       "    <tr>\n",
       "      <th>DRG01</th>\n",
       "      <td>Low Fat</td>\n",
       "      <td>Soft Drinks</td>\n",
       "      <td>OUT046</td>\n",
       "      <td>Small</td>\n",
       "      <td>Tier 1</td>\n",
       "      <td>Supermarket Type1</td>\n",
       "    </tr>\n",
       "  </tbody>\n",
       "</table>\n",
       "<p>8523 rows × 6 columns</p>\n",
       "</div>"
      ],
      "text/plain": [
       "                Item_Fat_Content              Item_Type Outlet_Identifier  \\\n",
       "Item_Identifier                                                             \n",
       "FDA15                    Low Fat                  Dairy            OUT049   \n",
       "DRC01                    Regular            Soft Drinks            OUT018   \n",
       "FDN15                    Low Fat                   Meat            OUT049   \n",
       "FDX07                    Regular  Fruits and Vegetables            OUT010   \n",
       "NCD19                    Low Fat              Household            OUT013   \n",
       "...                          ...                    ...               ...   \n",
       "FDF22                    Low Fat            Snack Foods            OUT013   \n",
       "FDS36                    Regular           Baking Goods            OUT045   \n",
       "NCJ29                    Low Fat     Health and Hygiene            OUT035   \n",
       "FDN46                    Regular            Snack Foods            OUT018   \n",
       "DRG01                    Low Fat            Soft Drinks            OUT046   \n",
       "\n",
       "                Outlet_Size Outlet_Location_Type        Outlet_Type  \n",
       "Item_Identifier                                                      \n",
       "FDA15                Medium               Tier 1  Supermarket Type1  \n",
       "DRC01                Medium               Tier 3  Supermarket Type2  \n",
       "FDN15                Medium               Tier 1  Supermarket Type1  \n",
       "FDX07                   NaN               Tier 3      Grocery Store  \n",
       "NCD19                  High               Tier 3  Supermarket Type1  \n",
       "...                     ...                  ...                ...  \n",
       "FDF22                  High               Tier 3  Supermarket Type1  \n",
       "FDS36                   NaN               Tier 2  Supermarket Type1  \n",
       "NCJ29                 Small               Tier 2  Supermarket Type1  \n",
       "FDN46                Medium               Tier 3  Supermarket Type2  \n",
       "DRG01                 Small               Tier 1  Supermarket Type1  \n",
       "\n",
       "[8523 rows x 6 columns]"
      ]
     },
     "execution_count": 107,
     "metadata": {},
     "output_type": "execute_result"
    }
   ],
   "source": [
    "df.select_dtypes(exclude=np.number)"
   ]
  },
  {
   "cell_type": "code",
   "execution_count": 108,
   "id": "95abf953",
   "metadata": {
    "colab": {
     "base_uri": "https://localhost:8080/"
    },
    "id": "95abf953",
    "outputId": "3c7b1ed5-260b-47f8-fec5-8c6f7a8490bb"
   },
   "outputs": [
    {
     "data": {
      "text/plain": [
       "Low Fat    5089\n",
       "Regular    2889\n",
       "LF          316\n",
       "reg         117\n",
       "low fat     112\n",
       "Name: Item_Fat_Content, dtype: int64"
      ]
     },
     "execution_count": 108,
     "metadata": {},
     "output_type": "execute_result"
    }
   ],
   "source": [
    "df.Item_Fat_Content.value_counts()"
   ]
  },
  {
   "cell_type": "code",
   "execution_count": 109,
   "id": "30bae393",
   "metadata": {
    "colab": {
     "base_uri": "https://localhost:8080/"
    },
    "id": "30bae393",
    "outputId": "c70bd97d-7c29-466c-d376-d4bdfc87ce51"
   },
   "outputs": [
    {
     "data": {
      "text/plain": [
       "Fruits and Vegetables    1232\n",
       "Snack Foods              1200\n",
       "Household                 910\n",
       "Frozen Foods              856\n",
       "Dairy                     682\n",
       "Canned                    649\n",
       "Baking Goods              648\n",
       "Health and Hygiene        520\n",
       "Soft Drinks               445\n",
       "Meat                      425\n",
       "Breads                    251\n",
       "Hard Drinks               214\n",
       "Others                    169\n",
       "Starchy Foods             148\n",
       "Breakfast                 110\n",
       "Seafood                    64\n",
       "Name: Item_Type, dtype: int64"
      ]
     },
     "execution_count": 109,
     "metadata": {},
     "output_type": "execute_result"
    }
   ],
   "source": [
    "df.Item_Type.value_counts()"
   ]
  },
  {
   "cell_type": "code",
   "execution_count": 110,
   "id": "12780dba",
   "metadata": {
    "colab": {
     "base_uri": "https://localhost:8080/"
    },
    "id": "12780dba",
    "outputId": "79693ff2-7ee1-4e06-9a97-992a47b90450"
   },
   "outputs": [
    {
     "data": {
      "text/plain": [
       "OUT027    935\n",
       "OUT013    932\n",
       "OUT049    930\n",
       "OUT046    930\n",
       "OUT035    930\n",
       "OUT045    929\n",
       "OUT018    928\n",
       "OUT017    926\n",
       "OUT010    555\n",
       "OUT019    528\n",
       "Name: Outlet_Identifier, dtype: int64"
      ]
     },
     "execution_count": 110,
     "metadata": {},
     "output_type": "execute_result"
    }
   ],
   "source": [
    "df.Outlet_Identifier.value_counts()"
   ]
  },
  {
   "cell_type": "code",
   "execution_count": 111,
   "id": "8ff92820",
   "metadata": {
    "colab": {
     "base_uri": "https://localhost:8080/"
    },
    "id": "8ff92820",
    "outputId": "683c275a-9d38-4df3-dbe4-7dc897cbb98c"
   },
   "outputs": [
    {
     "data": {
      "text/plain": [
       "Medium    2793\n",
       "Small     2388\n",
       "High       932\n",
       "Name: Outlet_Size, dtype: int64"
      ]
     },
     "execution_count": 111,
     "metadata": {},
     "output_type": "execute_result"
    }
   ],
   "source": [
    "df.Outlet_Size.value_counts()"
   ]
  },
  {
   "cell_type": "code",
   "execution_count": 112,
   "id": "350822c3",
   "metadata": {
    "colab": {
     "base_uri": "https://localhost:8080/"
    },
    "id": "350822c3",
    "outputId": "d967b12f-3239-4eba-d45d-4e12ff91bc4a"
   },
   "outputs": [
    {
     "data": {
      "text/plain": [
       "Tier 3    3350\n",
       "Tier 2    2785\n",
       "Tier 1    2388\n",
       "Name: Outlet_Location_Type, dtype: int64"
      ]
     },
     "execution_count": 112,
     "metadata": {},
     "output_type": "execute_result"
    }
   ],
   "source": [
    "df.Outlet_Location_Type.value_counts()"
   ]
  },
  {
   "cell_type": "code",
   "execution_count": 113,
   "id": "1c388c1b",
   "metadata": {
    "colab": {
     "base_uri": "https://localhost:8080/"
    },
    "id": "1c388c1b",
    "outputId": "fc1452a9-1ace-4a44-cc0e-2e55d79f1c3d"
   },
   "outputs": [
    {
     "data": {
      "text/plain": [
       "Supermarket Type1    5577\n",
       "Grocery Store        1083\n",
       "Supermarket Type3     935\n",
       "Supermarket Type2     928\n",
       "Name: Outlet_Type, dtype: int64"
      ]
     },
     "execution_count": 113,
     "metadata": {},
     "output_type": "execute_result"
    }
   ],
   "source": [
    "df.Outlet_Type.value_counts()"
   ]
  },
  {
   "cell_type": "code",
   "execution_count": 114,
   "id": "0827465a",
   "metadata": {
    "id": "0827465a"
   },
   "outputs": [],
   "source": [
    "from sklearn.preprocessing import LabelEncoder\n",
    "le=LabelEncoder()"
   ]
  },
  {
   "cell_type": "code",
   "execution_count": 115,
   "id": "74d4806c",
   "metadata": {
    "colab": {
     "base_uri": "https://localhost:8080/",
     "height": 432
    },
    "id": "74d4806c",
    "outputId": "8b638717-4a25-4aa8-efaf-b4a52905deeb"
   },
   "outputs": [],
   "source": [
    "df.Item_Fat_Content=le.fit_transform(df.Item_Fat_Content)\n",
    "df.Item_Type=le.fit_transform(df.Item_Type)\n",
    "df.Outlet_Identifier=le.fit_transform(df.Outlet_Identifier)\n",
    "df.Outlet_Size=le.fit_transform(df.Outlet_Size)\n",
    "df.Outlet_Location_Type=le.fit_transform(df.Outlet_Location_Type)\n",
    "df.Outlet_Type=le.fit_transform(df.Outlet_Type)"
   ]
  },
  {
   "cell_type": "code",
   "execution_count": 116,
   "id": "b2e7a764",
   "metadata": {
    "colab": {
     "base_uri": "https://localhost:8080/",
     "height": 344
    },
    "id": "b2e7a764",
    "outputId": "358611b8-0a66-4c6b-b561-1f301a455d9d"
   },
   "outputs": [
    {
     "data": {
      "text/html": [
       "<div>\n",
       "<style scoped>\n",
       "    .dataframe tbody tr th:only-of-type {\n",
       "        vertical-align: middle;\n",
       "    }\n",
       "\n",
       "    .dataframe tbody tr th {\n",
       "        vertical-align: top;\n",
       "    }\n",
       "\n",
       "    .dataframe thead th {\n",
       "        text-align: right;\n",
       "    }\n",
       "</style>\n",
       "<table border=\"1\" class=\"dataframe\">\n",
       "  <thead>\n",
       "    <tr style=\"text-align: right;\">\n",
       "      <th></th>\n",
       "      <th>Item_Weight</th>\n",
       "      <th>Item_Fat_Content</th>\n",
       "      <th>Item_Visibility</th>\n",
       "      <th>Item_Type</th>\n",
       "      <th>Item_MRP</th>\n",
       "      <th>Outlet_Identifier</th>\n",
       "      <th>Outlet_Establishment_Year</th>\n",
       "      <th>Outlet_Size</th>\n",
       "      <th>Outlet_Location_Type</th>\n",
       "      <th>Outlet_Type</th>\n",
       "      <th>Item_Outlet_Sales</th>\n",
       "    </tr>\n",
       "    <tr>\n",
       "      <th>Item_Identifier</th>\n",
       "      <th></th>\n",
       "      <th></th>\n",
       "      <th></th>\n",
       "      <th></th>\n",
       "      <th></th>\n",
       "      <th></th>\n",
       "      <th></th>\n",
       "      <th></th>\n",
       "      <th></th>\n",
       "      <th></th>\n",
       "      <th></th>\n",
       "    </tr>\n",
       "  </thead>\n",
       "  <tbody>\n",
       "    <tr>\n",
       "      <th>FDA15</th>\n",
       "      <td>9.30</td>\n",
       "      <td>1</td>\n",
       "      <td>0.016047</td>\n",
       "      <td>4</td>\n",
       "      <td>249.8092</td>\n",
       "      <td>9</td>\n",
       "      <td>1999</td>\n",
       "      <td>1</td>\n",
       "      <td>0</td>\n",
       "      <td>1</td>\n",
       "      <td>3735.1380</td>\n",
       "    </tr>\n",
       "    <tr>\n",
       "      <th>DRC01</th>\n",
       "      <td>5.92</td>\n",
       "      <td>2</td>\n",
       "      <td>0.019278</td>\n",
       "      <td>14</td>\n",
       "      <td>48.2692</td>\n",
       "      <td>3</td>\n",
       "      <td>2009</td>\n",
       "      <td>1</td>\n",
       "      <td>2</td>\n",
       "      <td>2</td>\n",
       "      <td>443.4228</td>\n",
       "    </tr>\n",
       "    <tr>\n",
       "      <th>FDN15</th>\n",
       "      <td>17.50</td>\n",
       "      <td>1</td>\n",
       "      <td>0.016760</td>\n",
       "      <td>10</td>\n",
       "      <td>141.6180</td>\n",
       "      <td>9</td>\n",
       "      <td>1999</td>\n",
       "      <td>1</td>\n",
       "      <td>0</td>\n",
       "      <td>1</td>\n",
       "      <td>2097.2700</td>\n",
       "    </tr>\n",
       "    <tr>\n",
       "      <th>FDX07</th>\n",
       "      <td>19.20</td>\n",
       "      <td>2</td>\n",
       "      <td>0.000000</td>\n",
       "      <td>6</td>\n",
       "      <td>182.0950</td>\n",
       "      <td>0</td>\n",
       "      <td>1998</td>\n",
       "      <td>3</td>\n",
       "      <td>2</td>\n",
       "      <td>0</td>\n",
       "      <td>732.3800</td>\n",
       "    </tr>\n",
       "    <tr>\n",
       "      <th>NCD19</th>\n",
       "      <td>8.93</td>\n",
       "      <td>1</td>\n",
       "      <td>0.000000</td>\n",
       "      <td>9</td>\n",
       "      <td>53.8614</td>\n",
       "      <td>1</td>\n",
       "      <td>1987</td>\n",
       "      <td>0</td>\n",
       "      <td>2</td>\n",
       "      <td>1</td>\n",
       "      <td>994.7052</td>\n",
       "    </tr>\n",
       "  </tbody>\n",
       "</table>\n",
       "</div>"
      ],
      "text/plain": [
       "                 Item_Weight  Item_Fat_Content  Item_Visibility  Item_Type  \\\n",
       "Item_Identifier                                                              \n",
       "FDA15                   9.30                 1         0.016047          4   \n",
       "DRC01                   5.92                 2         0.019278         14   \n",
       "FDN15                  17.50                 1         0.016760         10   \n",
       "FDX07                  19.20                 2         0.000000          6   \n",
       "NCD19                   8.93                 1         0.000000          9   \n",
       "\n",
       "                 Item_MRP  Outlet_Identifier  Outlet_Establishment_Year  \\\n",
       "Item_Identifier                                                           \n",
       "FDA15            249.8092                  9                       1999   \n",
       "DRC01             48.2692                  3                       2009   \n",
       "FDN15            141.6180                  9                       1999   \n",
       "FDX07            182.0950                  0                       1998   \n",
       "NCD19             53.8614                  1                       1987   \n",
       "\n",
       "                 Outlet_Size  Outlet_Location_Type  Outlet_Type  \\\n",
       "Item_Identifier                                                   \n",
       "FDA15                      1                     0            1   \n",
       "DRC01                      1                     2            2   \n",
       "FDN15                      1                     0            1   \n",
       "FDX07                      3                     2            0   \n",
       "NCD19                      0                     2            1   \n",
       "\n",
       "                 Item_Outlet_Sales  \n",
       "Item_Identifier                     \n",
       "FDA15                    3735.1380  \n",
       "DRC01                     443.4228  \n",
       "FDN15                    2097.2700  \n",
       "FDX07                     732.3800  \n",
       "NCD19                     994.7052  "
      ]
     },
     "execution_count": 116,
     "metadata": {},
     "output_type": "execute_result"
    }
   ],
   "source": [
    "df.head()"
   ]
  },
  {
   "cell_type": "code",
   "execution_count": 117,
   "id": "ae9ea1ee",
   "metadata": {
    "colab": {
     "base_uri": "https://localhost:8080/"
    },
    "id": "ae9ea1ee",
    "outputId": "c195424c-61b1-4341-bdc0-653cecce7767"
   },
   "outputs": [
    {
     "data": {
      "text/plain": [
       "Item_Weight                  float64\n",
       "Item_Fat_Content               int32\n",
       "Item_Visibility              float64\n",
       "Item_Type                      int32\n",
       "Item_MRP                     float64\n",
       "Outlet_Identifier              int32\n",
       "Outlet_Establishment_Year      int64\n",
       "Outlet_Size                    int32\n",
       "Outlet_Location_Type           int32\n",
       "Outlet_Type                    int32\n",
       "Item_Outlet_Sales            float64\n",
       "dtype: object"
      ]
     },
     "execution_count": 117,
     "metadata": {},
     "output_type": "execute_result"
    }
   ],
   "source": [
    "df.dtypes"
   ]
  },
  {
   "cell_type": "code",
   "execution_count": 118,
   "id": "8df0d406",
   "metadata": {
    "colab": {
     "base_uri": "https://localhost:8080/"
    },
    "id": "8df0d406",
    "outputId": "e6242c60-5f24-458b-c1e6-057ec7e61beb"
   },
   "outputs": [],
   "source": [
    "df.Outlet_Establishment_Year=df.Outlet_Establishment_Year.astype('object')"
   ]
  },
  {
   "cell_type": "markdown",
   "id": "0bfa0feb",
   "metadata": {
    "id": "0bfa0feb"
   },
   "source": [
    "df=df.drop('Outlet_Establishment_Year',axis=1)"
   ]
  },
  {
   "cell_type": "code",
   "execution_count": 119,
   "id": "9a75fdfd",
   "metadata": {
    "id": "9a75fdfd"
   },
   "outputs": [],
   "source": [
    "df=pd.get_dummies(df)"
   ]
  },
  {
   "cell_type": "markdown",
   "id": "ptDHawhRjrWI",
   "metadata": {
    "id": "ptDHawhRjrWI"
   },
   "source": []
  },
  {
   "cell_type": "code",
   "execution_count": 120,
   "id": "e2373c4d",
   "metadata": {
    "colab": {
     "base_uri": "https://localhost:8080/"
    },
    "id": "e2373c4d",
    "outputId": "90441133-6ff3-48b6-fd38-a033c300bcc5"
   },
   "outputs": [
    {
     "data": {
      "text/plain": [
       "Item_Weight                       float64\n",
       "Item_Fat_Content                    int32\n",
       "Item_Visibility                   float64\n",
       "Item_Type                           int32\n",
       "Item_MRP                          float64\n",
       "Outlet_Identifier                   int32\n",
       "Outlet_Size                         int32\n",
       "Outlet_Location_Type                int32\n",
       "Outlet_Type                         int32\n",
       "Item_Outlet_Sales                 float64\n",
       "Outlet_Establishment_Year_1985      uint8\n",
       "Outlet_Establishment_Year_1987      uint8\n",
       "Outlet_Establishment_Year_1997      uint8\n",
       "Outlet_Establishment_Year_1998      uint8\n",
       "Outlet_Establishment_Year_1999      uint8\n",
       "Outlet_Establishment_Year_2002      uint8\n",
       "Outlet_Establishment_Year_2004      uint8\n",
       "Outlet_Establishment_Year_2007      uint8\n",
       "Outlet_Establishment_Year_2009      uint8\n",
       "dtype: object"
      ]
     },
     "execution_count": 120,
     "metadata": {},
     "output_type": "execute_result"
    }
   ],
   "source": [
    "df.dtypes"
   ]
  },
  {
   "cell_type": "code",
   "execution_count": 121,
   "id": "61f963b1",
   "metadata": {
    "colab": {
     "base_uri": "https://localhost:8080/"
    },
    "id": "61f963b1",
    "outputId": "b606e58a-80dc-4fc9-ff61-e3e8f8ed08ea"
   },
   "outputs": [
    {
     "data": {
      "text/plain": [
       "(8523, 19)"
      ]
     },
     "execution_count": 121,
     "metadata": {},
     "output_type": "execute_result"
    }
   ],
   "source": [
    "df.shape"
   ]
  },
  {
   "cell_type": "code",
   "execution_count": 122,
   "id": "124e6a6b",
   "metadata": {
    "colab": {
     "base_uri": "https://localhost:8080/",
     "height": 275
    },
    "id": "124e6a6b",
    "outputId": "2f3e6ff2-df24-48f8-98a6-3e7dc9ba387e"
   },
   "outputs": [
    {
     "data": {
      "text/html": [
       "<div>\n",
       "<style scoped>\n",
       "    .dataframe tbody tr th:only-of-type {\n",
       "        vertical-align: middle;\n",
       "    }\n",
       "\n",
       "    .dataframe tbody tr th {\n",
       "        vertical-align: top;\n",
       "    }\n",
       "\n",
       "    .dataframe thead th {\n",
       "        text-align: right;\n",
       "    }\n",
       "</style>\n",
       "<table border=\"1\" class=\"dataframe\">\n",
       "  <thead>\n",
       "    <tr style=\"text-align: right;\">\n",
       "      <th></th>\n",
       "      <th>Item_Weight</th>\n",
       "      <th>Item_Fat_Content</th>\n",
       "      <th>Item_Visibility</th>\n",
       "      <th>Item_Type</th>\n",
       "      <th>Item_MRP</th>\n",
       "      <th>Outlet_Identifier</th>\n",
       "      <th>Outlet_Size</th>\n",
       "      <th>Outlet_Location_Type</th>\n",
       "      <th>Outlet_Type</th>\n",
       "      <th>Item_Outlet_Sales</th>\n",
       "      <th>Outlet_Establishment_Year_1985</th>\n",
       "      <th>Outlet_Establishment_Year_1987</th>\n",
       "      <th>Outlet_Establishment_Year_1997</th>\n",
       "      <th>Outlet_Establishment_Year_1998</th>\n",
       "      <th>Outlet_Establishment_Year_1999</th>\n",
       "      <th>Outlet_Establishment_Year_2002</th>\n",
       "      <th>Outlet_Establishment_Year_2004</th>\n",
       "      <th>Outlet_Establishment_Year_2007</th>\n",
       "      <th>Outlet_Establishment_Year_2009</th>\n",
       "    </tr>\n",
       "    <tr>\n",
       "      <th>Item_Identifier</th>\n",
       "      <th></th>\n",
       "      <th></th>\n",
       "      <th></th>\n",
       "      <th></th>\n",
       "      <th></th>\n",
       "      <th></th>\n",
       "      <th></th>\n",
       "      <th></th>\n",
       "      <th></th>\n",
       "      <th></th>\n",
       "      <th></th>\n",
       "      <th></th>\n",
       "      <th></th>\n",
       "      <th></th>\n",
       "      <th></th>\n",
       "      <th></th>\n",
       "      <th></th>\n",
       "      <th></th>\n",
       "      <th></th>\n",
       "    </tr>\n",
       "  </thead>\n",
       "  <tbody>\n",
       "    <tr>\n",
       "      <th>FDA15</th>\n",
       "      <td>9.30</td>\n",
       "      <td>1</td>\n",
       "      <td>0.016047</td>\n",
       "      <td>4</td>\n",
       "      <td>249.8092</td>\n",
       "      <td>9</td>\n",
       "      <td>1</td>\n",
       "      <td>0</td>\n",
       "      <td>1</td>\n",
       "      <td>3735.1380</td>\n",
       "      <td>0</td>\n",
       "      <td>0</td>\n",
       "      <td>0</td>\n",
       "      <td>0</td>\n",
       "      <td>1</td>\n",
       "      <td>0</td>\n",
       "      <td>0</td>\n",
       "      <td>0</td>\n",
       "      <td>0</td>\n",
       "    </tr>\n",
       "    <tr>\n",
       "      <th>DRC01</th>\n",
       "      <td>5.92</td>\n",
       "      <td>2</td>\n",
       "      <td>0.019278</td>\n",
       "      <td>14</td>\n",
       "      <td>48.2692</td>\n",
       "      <td>3</td>\n",
       "      <td>1</td>\n",
       "      <td>2</td>\n",
       "      <td>2</td>\n",
       "      <td>443.4228</td>\n",
       "      <td>0</td>\n",
       "      <td>0</td>\n",
       "      <td>0</td>\n",
       "      <td>0</td>\n",
       "      <td>0</td>\n",
       "      <td>0</td>\n",
       "      <td>0</td>\n",
       "      <td>0</td>\n",
       "      <td>1</td>\n",
       "    </tr>\n",
       "    <tr>\n",
       "      <th>FDN15</th>\n",
       "      <td>17.50</td>\n",
       "      <td>1</td>\n",
       "      <td>0.016760</td>\n",
       "      <td>10</td>\n",
       "      <td>141.6180</td>\n",
       "      <td>9</td>\n",
       "      <td>1</td>\n",
       "      <td>0</td>\n",
       "      <td>1</td>\n",
       "      <td>2097.2700</td>\n",
       "      <td>0</td>\n",
       "      <td>0</td>\n",
       "      <td>0</td>\n",
       "      <td>0</td>\n",
       "      <td>1</td>\n",
       "      <td>0</td>\n",
       "      <td>0</td>\n",
       "      <td>0</td>\n",
       "      <td>0</td>\n",
       "    </tr>\n",
       "    <tr>\n",
       "      <th>FDX07</th>\n",
       "      <td>19.20</td>\n",
       "      <td>2</td>\n",
       "      <td>0.000000</td>\n",
       "      <td>6</td>\n",
       "      <td>182.0950</td>\n",
       "      <td>0</td>\n",
       "      <td>3</td>\n",
       "      <td>2</td>\n",
       "      <td>0</td>\n",
       "      <td>732.3800</td>\n",
       "      <td>0</td>\n",
       "      <td>0</td>\n",
       "      <td>0</td>\n",
       "      <td>1</td>\n",
       "      <td>0</td>\n",
       "      <td>0</td>\n",
       "      <td>0</td>\n",
       "      <td>0</td>\n",
       "      <td>0</td>\n",
       "    </tr>\n",
       "    <tr>\n",
       "      <th>NCD19</th>\n",
       "      <td>8.93</td>\n",
       "      <td>1</td>\n",
       "      <td>0.000000</td>\n",
       "      <td>9</td>\n",
       "      <td>53.8614</td>\n",
       "      <td>1</td>\n",
       "      <td>0</td>\n",
       "      <td>2</td>\n",
       "      <td>1</td>\n",
       "      <td>994.7052</td>\n",
       "      <td>0</td>\n",
       "      <td>1</td>\n",
       "      <td>0</td>\n",
       "      <td>0</td>\n",
       "      <td>0</td>\n",
       "      <td>0</td>\n",
       "      <td>0</td>\n",
       "      <td>0</td>\n",
       "      <td>0</td>\n",
       "    </tr>\n",
       "  </tbody>\n",
       "</table>\n",
       "</div>"
      ],
      "text/plain": [
       "                 Item_Weight  Item_Fat_Content  Item_Visibility  Item_Type  \\\n",
       "Item_Identifier                                                              \n",
       "FDA15                   9.30                 1         0.016047          4   \n",
       "DRC01                   5.92                 2         0.019278         14   \n",
       "FDN15                  17.50                 1         0.016760         10   \n",
       "FDX07                  19.20                 2         0.000000          6   \n",
       "NCD19                   8.93                 1         0.000000          9   \n",
       "\n",
       "                 Item_MRP  Outlet_Identifier  Outlet_Size  \\\n",
       "Item_Identifier                                             \n",
       "FDA15            249.8092                  9            1   \n",
       "DRC01             48.2692                  3            1   \n",
       "FDN15            141.6180                  9            1   \n",
       "FDX07            182.0950                  0            3   \n",
       "NCD19             53.8614                  1            0   \n",
       "\n",
       "                 Outlet_Location_Type  Outlet_Type  Item_Outlet_Sales  \\\n",
       "Item_Identifier                                                         \n",
       "FDA15                               0            1          3735.1380   \n",
       "DRC01                               2            2           443.4228   \n",
       "FDN15                               0            1          2097.2700   \n",
       "FDX07                               2            0           732.3800   \n",
       "NCD19                               2            1           994.7052   \n",
       "\n",
       "                 Outlet_Establishment_Year_1985  \\\n",
       "Item_Identifier                                   \n",
       "FDA15                                         0   \n",
       "DRC01                                         0   \n",
       "FDN15                                         0   \n",
       "FDX07                                         0   \n",
       "NCD19                                         0   \n",
       "\n",
       "                 Outlet_Establishment_Year_1987  \\\n",
       "Item_Identifier                                   \n",
       "FDA15                                         0   \n",
       "DRC01                                         0   \n",
       "FDN15                                         0   \n",
       "FDX07                                         0   \n",
       "NCD19                                         1   \n",
       "\n",
       "                 Outlet_Establishment_Year_1997  \\\n",
       "Item_Identifier                                   \n",
       "FDA15                                         0   \n",
       "DRC01                                         0   \n",
       "FDN15                                         0   \n",
       "FDX07                                         0   \n",
       "NCD19                                         0   \n",
       "\n",
       "                 Outlet_Establishment_Year_1998  \\\n",
       "Item_Identifier                                   \n",
       "FDA15                                         0   \n",
       "DRC01                                         0   \n",
       "FDN15                                         0   \n",
       "FDX07                                         1   \n",
       "NCD19                                         0   \n",
       "\n",
       "                 Outlet_Establishment_Year_1999  \\\n",
       "Item_Identifier                                   \n",
       "FDA15                                         1   \n",
       "DRC01                                         0   \n",
       "FDN15                                         1   \n",
       "FDX07                                         0   \n",
       "NCD19                                         0   \n",
       "\n",
       "                 Outlet_Establishment_Year_2002  \\\n",
       "Item_Identifier                                   \n",
       "FDA15                                         0   \n",
       "DRC01                                         0   \n",
       "FDN15                                         0   \n",
       "FDX07                                         0   \n",
       "NCD19                                         0   \n",
       "\n",
       "                 Outlet_Establishment_Year_2004  \\\n",
       "Item_Identifier                                   \n",
       "FDA15                                         0   \n",
       "DRC01                                         0   \n",
       "FDN15                                         0   \n",
       "FDX07                                         0   \n",
       "NCD19                                         0   \n",
       "\n",
       "                 Outlet_Establishment_Year_2007  \\\n",
       "Item_Identifier                                   \n",
       "FDA15                                         0   \n",
       "DRC01                                         0   \n",
       "FDN15                                         0   \n",
       "FDX07                                         0   \n",
       "NCD19                                         0   \n",
       "\n",
       "                 Outlet_Establishment_Year_2009  \n",
       "Item_Identifier                                  \n",
       "FDA15                                         0  \n",
       "DRC01                                         1  \n",
       "FDN15                                         0  \n",
       "FDX07                                         0  \n",
       "NCD19                                         0  "
      ]
     },
     "execution_count": 122,
     "metadata": {},
     "output_type": "execute_result"
    }
   ],
   "source": [
    "df.head()"
   ]
  },
  {
   "cell_type": "code",
   "execution_count": 123,
   "id": "ee49197e",
   "metadata": {
    "id": "ee49197e"
   },
   "outputs": [],
   "source": [
    "from sklearn.preprocessing import StandardScaler\n",
    "sc=StandardScaler()"
   ]
  },
  {
   "cell_type": "markdown",
   "id": "442b4b77",
   "metadata": {
    "id": "442b4b77"
   },
   "source": [
    "# Using Linear regression"
   ]
  },
  {
   "cell_type": "code",
   "execution_count": 124,
   "id": "822466df",
   "metadata": {
    "id": "822466df"
   },
   "outputs": [],
   "source": [
    "X=df.drop('Item_Outlet_Sales',axis=1)\n",
    "y=df['Item_Outlet_Sales']\n",
    "X_train, X_test, y_train, y_test = train_test_split(X, y, test_size=0.2, random_state=10)"
   ]
  },
  {
   "cell_type": "code",
   "execution_count": 125,
   "id": "f6c35585",
   "metadata": {
    "colab": {
     "base_uri": "https://localhost:8080/"
    },
    "id": "f6c35585",
    "outputId": "7030d809-3f7c-4c7f-bea8-3c4770d9ae0a"
   },
   "outputs": [
    {
     "data": {
      "text/plain": [
       "Item_Weight                       1187\n",
       "Item_Fat_Content                     0\n",
       "Item_Visibility                      0\n",
       "Item_Type                            0\n",
       "Item_MRP                             0\n",
       "Outlet_Identifier                    0\n",
       "Outlet_Size                          0\n",
       "Outlet_Location_Type                 0\n",
       "Outlet_Type                          0\n",
       "Outlet_Establishment_Year_1985       0\n",
       "Outlet_Establishment_Year_1987       0\n",
       "Outlet_Establishment_Year_1997       0\n",
       "Outlet_Establishment_Year_1998       0\n",
       "Outlet_Establishment_Year_1999       0\n",
       "Outlet_Establishment_Year_2002       0\n",
       "Outlet_Establishment_Year_2004       0\n",
       "Outlet_Establishment_Year_2007       0\n",
       "Outlet_Establishment_Year_2009       0\n",
       "dtype: int64"
      ]
     },
     "execution_count": 125,
     "metadata": {},
     "output_type": "execute_result"
    }
   ],
   "source": [
    "X_train.isnull().sum()"
   ]
  },
  {
   "cell_type": "code",
   "execution_count": 126,
   "id": "d804b5eb",
   "metadata": {
    "colab": {
     "base_uri": "https://localhost:8080/"
    },
    "id": "d804b5eb",
    "outputId": "b7e19399-5826-4f54-a19f-8ef680d4ddcf"
   },
   "outputs": [
    {
     "name": "stdout",
     "output_type": "stream",
     "text": [
      "mse    1254234.4725453376\n",
      "Rmse -  1119.9261013769335\n",
      "r 2 square-  0.5774728852794029\n",
      "\n",
      "train score  0.5595169802367508\n",
      "test score  0.5774728852794029\n"
     ]
    }
   ],
   "source": [
    "from sklearn.linear_model import LinearRegression \n",
    "lr=LinearRegression()\n",
    "\n",
    "\n",
    "from sklearn.impute import KNNImputer\n",
    "knn=KNNImputer()\n",
    "X_train_impute=pd.DataFrame(knn.fit_transform(X_train),columns=X_train.columns)\n",
    "X_test_impute=pd.DataFrame(knn.transform(X_test),columns=X_test.columns)\n",
    "\n",
    "\n",
    "X_train_scaled=pd.DataFrame(sc.fit_transform(X_train_impute),columns=X_train_impute.columns)\n",
    "X_test_scaled=pd.DataFrame(sc.transform(X_test_impute),columns=X_test_impute.columns)\n",
    "\n",
    "\n",
    "\n",
    "lr=LinearRegression()\n",
    "lr_model=lr.fit(X_train_scaled,y_train)\n",
    "y_pred_linear=lr_model.predict(X_test_scaled)\n",
    "\n",
    "print('mse   ',mean_squared_error(y_test,y_pred_linear))\n",
    "print('Rmse - ',np.sqrt(mean_squared_error(y_test,y_pred_linear)))\n",
    "\n",
    "print('r 2 square- ',r2_score(y_test,y_pred_linear))\n",
    "print()\n",
    "\n",
    "print('train score ',lr_model.score(X_train_scaled,y_train))\n",
    "print('test score ',lr_model.score(X_test_scaled,y_test))"
   ]
  },
  {
   "cell_type": "markdown",
   "id": "679a3497",
   "metadata": {
    "id": "679a3497"
   },
   "source": [
    "# Using Power transformer "
   ]
  },
  {
   "cell_type": "code",
   "execution_count": 127,
   "id": "978b430c",
   "metadata": {
    "colab": {
     "base_uri": "https://localhost:8080/"
    },
    "id": "978b430c",
    "outputId": "ae2e890f-ab73-42c1-b0a9-73b1ac48b3eb"
   },
   "outputs": [
    {
     "name": "stdout",
     "output_type": "stream",
     "text": [
      "mse -PT   1266878.9420488796\n",
      "Rmse -PT  1125.5571696048494\n",
      "r 2 square-PT  0.5732132102876433\n",
      "\n",
      "train score  0.5589226547752395\n",
      "test score  0.5732132102876433\n"
     ]
    }
   ],
   "source": [
    "from sklearn.impute import KNNImputer\n",
    "knn=KNNImputer()\n",
    "X_train_impute=pd.DataFrame(knn.fit_transform(X_train),columns=X_train.columns)\n",
    "X_test_impute=pd.DataFrame(knn.transform(X_test),columns=X_test.columns)\n",
    "\n",
    "X_train_power=pd.DataFrame(PT.fit_transform(X_train_impute),columns=X_train_impute.columns)\n",
    "X_test_power=pd.DataFrame(PT.transform(X_test_impute),columns=X_test_impute.columns)\n",
    "\n",
    "\n",
    "lr=LinearRegression()\n",
    "lr_model=lr.fit(X_train_power,y_train)\n",
    "y_pred_linear=lr_model.predict(X_test_power)\n",
    "\n",
    "#print('Cross Validation Score  ',np.mean(cross_val_score(lr,X_train_power,X_test_power,cv=5)))\n",
    "\n",
    "print('mse -PT  ',mean_squared_error(y_test,y_pred_linear))\n",
    "print('Rmse -PT ',np.sqrt(mean_squared_error(y_test,y_pred_linear)))\n",
    "\n",
    "print('r 2 square-PT ',r2_score(y_test,y_pred_linear))\n",
    "print()\n",
    "\n",
    "print('train score ',lr_model.score(X_train_power,y_train))\n",
    "print('test score ',lr_model.score(X_test_power,y_test))\n"
   ]
  },
  {
   "cell_type": "code",
   "execution_count": 128,
   "id": "399a293b",
   "metadata": {
    "colab": {
     "base_uri": "https://localhost:8080/"
    },
    "id": "399a293b",
    "outputId": "a079eb5b-659e-4326-a5cd-c724e7d8b9e4"
   },
   "outputs": [
    {
     "name": "stdout",
     "output_type": "stream",
     "text": [
      "Training R2\n",
      "0.5589226547752395\n",
      "Testing R2\n",
      "0.5732132102876433\n",
      "[0.52176808 0.56314439 0.54396458 0.57394176 0.59197207 0.57619043\n",
      " 0.54111548 0.5335399  0.57866099 0.53274378]\n",
      "Average R2\n",
      "0.5557041462631342\n"
     ]
    }
   ],
   "source": [
    "#With Pipeline\n",
    "from sklearn.pipeline import Pipeline\n",
    "from sklearn.preprocessing import PowerTransformer\n",
    "from sklearn.model_selection import cross_val_score\n",
    "\n",
    "Xtrain, Xtest, ytrain, ytest = train_test_split(X, y, test_size= .20,random_state=10)\n",
    "pipe = Pipeline((\n",
    "('knn',KNNImputer()),\n",
    "(\"pt\",PowerTransformer()),\n",
    "(\"lr\", LinearRegression()),\n",
    "))\n",
    "pipe.fit(Xtrain,ytrain)\n",
    "print(\"Training R2\")\n",
    "print(pipe.score(Xtrain,ytrain))\n",
    "print(\"Testing R2\")\n",
    "print(pipe.score(Xtest,ytest))\n",
    "scoresdt = cross_val_score(pipe,Xtrain,ytrain,cv=10)\n",
    "print(scoresdt)\n",
    "print(\"Average R2\")\n",
    "print(np.mean(scoresdt))"
   ]
  },
  {
   "cell_type": "code",
   "execution_count": 129,
   "id": "88eecbc8",
   "metadata": {
    "colab": {
     "base_uri": "https://localhost:8080/"
    },
    "id": "88eecbc8",
    "outputId": "0b5cd503-c7a6-4974-dacc-fcfc8c367ffa"
   },
   "outputs": [
    {
     "name": "stdout",
     "output_type": "stream",
     "text": [
      "Training R2\n",
      "0.5587245903689628\n",
      "Testing R2\n",
      "0.572774030502301\n",
      "[0.52103362 0.56328864 0.54340201 0.57488297 0.5911061  0.57691245\n",
      " 0.54153143 0.5332475  0.57889883 0.53148857]\n",
      "Average R2\n",
      "0.5555792112688829\n"
     ]
    }
   ],
   "source": [
    "import warnings\n",
    "warnings.filterwarnings('ignore')\n",
    "from sklearn.linear_model import Lasso,Ridge\n",
    "\n",
    "Xtrain, Xtest, ytrain, ytest = train_test_split(X, y, test_size= .20,random_state=10)\n",
    "pipe = Pipeline((\n",
    "('knn',KNNImputer()),    \n",
    "(\"pt\",PowerTransformer()),\n",
    "(\"lr\", Lasso(alpha=7)),\n",
    "))\n",
    "pipe.fit(Xtrain,ytrain)\n",
    "print(\"Training R2\")\n",
    "print(pipe.score(Xtrain,ytrain))\n",
    "print(\"Testing R2\")\n",
    "print(pipe.score(Xtest,ytest))\n",
    "scoresdt = cross_val_score(pipe,Xtrain,ytrain,cv=10)\n",
    "print(scoresdt)\n",
    "print(\"Average R2\")\n",
    "print(np.mean(scoresdt))"
   ]
  },
  {
   "cell_type": "code",
   "execution_count": 130,
   "id": "81a6f2fc",
   "metadata": {
    "colab": {
     "base_uri": "https://localhost:8080/"
    },
    "id": "81a6f2fc",
    "outputId": "182dc220-9e56-43e4-808a-7815c77e80f3"
   },
   "outputs": [
    {
     "name": "stdout",
     "output_type": "stream",
     "text": [
      "Training R2\n",
      "0.5589226547752395\n",
      "Testing R2\n",
      "0.5732132102876433\n",
      "[0.52176808 0.56314439 0.54396458 0.57394176 0.59197207 0.57619043\n",
      " 0.54111548 0.5335399  0.57866099 0.53274378]\n",
      "Average R2\n",
      "0.5557041462631342\n"
     ]
    }
   ],
   "source": [
    "from sklearn.pipeline import Pipeline\n",
    "from sklearn.preprocessing import PowerTransformer\n",
    "from sklearn.model_selection import cross_val_score\n",
    "from sklearn.preprocessing import PolynomialFeatures\n",
    "from sklearn.feature_selection import RFE\n",
    "\n",
    "Xtrain, Xtest, ytrain, ytest = train_test_split(X, y, test_size= .20,random_state=10)\n",
    "pipe = Pipeline((\n",
    "('knn',KNNImputer()),      \n",
    "(\"pt\",PowerTransformer()),\n",
    "\n",
    "(\"rfe\",RFE(estimator=LinearRegression(),n_features_to_select=70)),\n",
    "(\"lr\", LinearRegression()),\n",
    "))\n",
    "pipe.fit(Xtrain,ytrain)\n",
    "print(\"Training R2\")\n",
    "print(pipe.score(Xtrain,ytrain))\n",
    "print(\"Testing R2\")\n",
    "print(pipe.score(Xtest,ytest))\n",
    "scoresdt = cross_val_score(pipe,Xtrain,ytrain,cv=10)\n",
    "print(scoresdt)\n",
    "print(\"Average R2\")\n",
    "print(np.mean(scoresdt))"
   ]
  },
  {
   "cell_type": "code",
   "execution_count": 131,
   "id": "0f31f53d",
   "metadata": {
    "colab": {
     "base_uri": "https://localhost:8080/"
    },
    "id": "0f31f53d",
    "outputId": "09254e06-1ff9-4c16-be76-726ed09d1765"
   },
   "outputs": [
    {
     "name": "stdout",
     "output_type": "stream",
     "text": [
      "Training R2\n",
      "0.1732956045022086\n",
      "Testing R2\n",
      "0.15809738528963835\n",
      "[0.15154367 0.15955365 0.1460579  0.17144985 0.15663085 0.18589736\n",
      " 0.19035681 0.19377725 0.17101516 0.14781167]\n",
      "Average R2\n",
      "0.1674094178187672\n",
      "\n",
      "[0.16069625 0.13186076 0.08650872 0.06926813 0.06717587 0.0640271\n",
      " 0.06282505 0.06248623]\n"
     ]
    }
   ],
   "source": [
    "from sklearn.pipeline import Pipeline\n",
    "from sklearn.preprocessing import PowerTransformer\n",
    "from sklearn.model_selection import cross_val_score,GridSearchCV\n",
    "from sklearn.preprocessing import PolynomialFeatures\n",
    "from sklearn.feature_selection import RFE\n",
    "from sklearn.decomposition import PCA\n",
    "\n",
    "Xtrain, Xtest, ytrain, ytest = train_test_split(X, y, test_size= .20,random_state=10)\n",
    "pipe = Pipeline((\n",
    "('knn',KNNImputer()),     \n",
    "(\"pt\",PowerTransformer()),\n",
    "(\"pca\",PCA(n_components=8)),\n",
    "(\"lr\", LinearRegression()),\n",
    "))\n",
    "pipe.fit(Xtrain,ytrain)\n",
    "print(\"Training R2\")\n",
    "print(pipe.score(Xtrain,ytrain))\n",
    "print(\"Testing R2\")\n",
    "print(pipe.score(Xtest,ytest))\n",
    "scoresdt = cross_val_score(pipe,Xtrain,ytrain,cv=10)\n",
    "print(scoresdt)\n",
    "print(\"Average R2\")\n",
    "print(np.mean(scoresdt))\n",
    "print()\n",
    "print(pipe['pca'].explained_variance_ratio_)"
   ]
  },
  {
   "cell_type": "code",
   "execution_count": 37,
   "id": "9885cd1f",
   "metadata": {
    "colab": {
     "base_uri": "https://localhost:8080/"
    },
    "id": "9885cd1f",
    "outputId": "81fd8304-73e3-4250-fbf9-518a4bf7c79c"
   },
   "outputs": [
    {
     "name": "stdout",
     "output_type": "stream",
     "text": [
      "Training R2\n",
      "0.6278219875614741\n",
      "Testing R2\n",
      "0.6027168438786807\n",
      "[0.5496444  0.60107023 0.5785365  0.61169905 0.64186213 0.60596195\n",
      " 0.560698   0.57643085 0.62243663 0.56088836]\n",
      "Average R2\n",
      "0.590922809897704\n"
     ]
    }
   ],
   "source": [
    "from sklearn.pipeline import Pipeline\n",
    "from sklearn.preprocessing import PowerTransformer\n",
    "from sklearn.ensemble import RandomForestRegressor\n",
    "from sklearn.ensemble import GradientBoostingRegressor\n",
    "from sklearn.model_selection import GridSearchCV\n",
    "\n",
    "Xtrain, Xtest, ytrain, ytest = train_test_split(X, y, test_size= .20,random_state=10)\n",
    "pipe = Pipeline((\n",
    "('knn',KNNImputer()),     \n",
    "(\"pt\",PowerTransformer()),\n",
    "(\"lr\", GradientBoostingRegressor(n_estimators=80,random_state=10)),\n",
    "))\n",
    "pipe.fit(Xtrain,ytrain)\n",
    "print(\"Training R2\")\n",
    "print(pipe.score(Xtrain,ytrain))\n",
    "print(\"Testing R2\")\n",
    "print(pipe.score(Xtest,ytest))\n",
    "scoresdt = cross_val_score(pipe,Xtrain,ytrain,cv=10)\n",
    "print(scoresdt)\n",
    "print(\"Average R2\")\n",
    "print(np.mean(scoresdt))"
   ]
  },
  {
   "cell_type": "markdown",
   "id": "7c454dbf",
   "metadata": {
    "colab": {
     "base_uri": "https://localhost:8080/"
    },
    "id": "8fbbca6b",
    "outputId": "cc53700e-cb14-46b8-ba63-22b1d4076922"
   },
   "source": [
    "params=({'n_estimators' : [40,50,60,70,80,90,100, 120, 150],\n",
    "    'learning_rate' :[0.1, 0.01, 0.001, 0.15, 0.015], \n",
    "    'max_depth' : [2, 3, 4, 5, 6]})\n",
    "\n",
    "grid = GridSearchCV(estimator=GradientBoostingRegressor(), param_grid=params,\n",
    "                   cv = 10, scoring = \"neg_mean_squared_error\") \n",
    "\n",
    "grid.fit(X_train_power,y_train)"
   ]
  },
  {
   "cell_type": "markdown",
   "id": "0ded9472",
   "metadata": {
    "colab": {
     "base_uri": "https://localhost:8080/"
    },
    "id": "5007c41d",
    "outputId": "34d0e6ca-187e-4022-b761-f7be9eed9f56"
   },
   "source": [
    "grid.best_params_"
   ]
  },
  {
   "cell_type": "markdown",
   "id": "13355f81",
   "metadata": {
    "id": "13355f81"
   },
   "source": [
    "# tuned Gradient boost"
   ]
  },
  {
   "cell_type": "code",
   "execution_count": 39,
   "id": "ef36f1de",
   "metadata": {
    "colab": {
     "base_uri": "https://localhost:8080/"
    },
    "id": "ef36f1de",
    "outputId": "bc1fef41-9aac-4e91-b8b5-e3ba76ea0c55"
   },
   "outputs": [
    {
     "name": "stdout",
     "output_type": "stream",
     "text": [
      "Training R2\n",
      "0.6066842445610401\n",
      "Testing R2\n",
      "0.6102397557212706\n",
      "[0.55531987 0.6049886  0.5818468  0.6125443  0.63527455 0.60856593\n",
      " 0.57000247 0.5784873  0.61988315 0.56346507]\n",
      "Average R2\n",
      "0.5930378037584989\n"
     ]
    }
   ],
   "source": [
    "Xtrain, Xtest, ytrain, ytest = train_test_split(X, y, test_size= .20,random_state=10)\n",
    "pipe = Pipeline((\n",
    "('knn',KNNImputer()),     \n",
    "(\"pt\",PowerTransformer()),\n",
    "(\"lr\", GradientBoostingRegressor(n_estimators=40,max_depth=2,random_state=10,learning_rate=0.15)),\n",
    "))\n",
    "pipe.fit(Xtrain,ytrain)\n",
    "print(\"Training R2\")\n",
    "print(pipe.score(Xtrain,ytrain))\n",
    "print(\"Testing R2\")\n",
    "print(pipe.score(Xtest,ytest))\n",
    "scoresdt = cross_val_score(pipe,Xtrain,ytrain,cv=10)\n",
    "print(scoresdt)\n",
    "print(\"Average R2\")\n",
    "print(np.mean(scoresdt))"
   ]
  },
  {
   "cell_type": "code",
   "execution_count": null,
   "id": "88818953",
   "metadata": {
    "id": "88818953"
   },
   "outputs": [],
   "source": [
    "from sklearn.pipeline import Pipeline\n",
    "from sklearn.decomposition import PCA\n",
    "from sklearn.model_selection import GridSearchCV\n",
    "pipe = Pipeline((\n",
    "    ('knn',KNNImputer()),\n",
    "(\"pt\",PowerTransformer()),\n",
    "\n",
    "(\"rfe\",RFE(estimator=LinearRegression())),\n",
    "(\"lr\", LinearRegression()),\n",
    "))\n",
    "param_grid = {\n",
    "    \n",
    "    'rfe__n_features_to_select' : [10,20,30,40,50,60,70,80,90,100]\n",
    "}\n",
    "search = GridSearchCV(pipe,param_grid,cv=5)\n",
    "search.fit(Xtrain,ytrain)"
   ]
  },
  {
   "cell_type": "code",
   "execution_count": null,
   "id": "4f14254d",
   "metadata": {
    "id": "4f14254d"
   },
   "outputs": [],
   "source": [
    "search.best_params_"
   ]
  },
  {
   "cell_type": "code",
   "execution_count": 43,
   "id": "a3a90810",
   "metadata": {
    "colab": {
     "base_uri": "https://localhost:8080/"
    },
    "id": "a3a90810",
    "outputId": "b42267e6-bd64-4d04-9825-ce5333543a80"
   },
   "outputs": [
    {
     "data": {
      "text/plain": [
       "0.5555609582995024"
      ]
     },
     "execution_count": 43,
     "metadata": {},
     "output_type": "execute_result"
    }
   ],
   "source": [
    "search.best_score_"
   ]
  },
  {
   "cell_type": "code",
   "execution_count": null,
   "id": "e07f10ff",
   "metadata": {
    "id": "e07f10ff"
   },
   "outputs": [],
   "source": [
    "search.score(Xtest,ytest)"
   ]
  },
  {
   "cell_type": "raw",
   "id": "ae931763",
   "metadata": {
    "id": "90aae4ab"
   },
   "source": [
    "X=df.drop('Item_Outlet_Sales',axis=1)\n",
    "y=df['Item_Outlet_Sales']\n",
    "\n",
    "\n",
    "#y = ((y - np.mean(y)) / y.std())\n",
    "\n",
    "X_train, X_test, y_train, y_test = train_test_split(X, y, test_size=0.3, random_state=10)\n",
    "\n",
    "X_train_power=pd.DataFrame(PT.fit_transform(X_train),columns=X_train.columns)\n",
    "X_test_power=pd.DataFrame(PT.transform(X_test),columns=X_test.columns)"
   ]
  },
  {
   "cell_type": "raw",
   "id": "579a9f1d",
   "metadata": {
    "id": "6960a3fc"
   },
   "source": [
    "lr=LinearRegression()\n",
    "lr_model_pt=lr.fit(X_train_power,y_train)\n",
    "y_pred_linear_pt=lr_model_pt.predict(X_test_power)\n",
    "\n",
    "print('mse -PT  ',mean_squared_error(y_test,y_pred_linear_pt))\n",
    "print('Rmse -PT ',np.sqrt(mean_squared_error(y_test,y_pred_linear_pt)))\n",
    "\n",
    "print('r 2 square-PT ',r2_score(y_test,y_pred_linear_pt))\n",
    "print()\n",
    "\n",
    "print('train r2 score ',lr_model_pt.score(X_train_power,y_train))\n",
    "print('test r2 score ',lr_model_pt.score(X_test_power,y_test))"
   ]
  },
  {
   "cell_type": "raw",
   "id": "5afaa504",
   "metadata": {
    "id": "26d29e0f"
   },
   "source": [
    "# Using Only main Features"
   ]
  },
  {
   "cell_type": "raw",
   "id": "871ee023",
   "metadata": {
    "id": "2a543d3f"
   },
   "source": [
    "X=df.loc[:,['Item_Weight', 'Item_Fat_Content', 'Item_Visibility', 'Item_Type',\n",
    "       'Item_MRP']]\n",
    "y=df['Item_Outlet_Sales']\n",
    "\n",
    "\n",
    "X_train, X_test, y_train, y_test = train_test_split(X, y, test_size=0.3, random_state=10)\n",
    "\n",
    "X_train_power=pd.DataFrame(PT.fit_transform(X_train),columns=X_train.columns)\n",
    "X_test_power=pd.DataFrame(PT.transform(X_test),columns=X_test.columns)"
   ]
  },
  {
   "cell_type": "raw",
   "id": "aac1aaeb",
   "metadata": {
    "id": "99cfcc05"
   },
   "source": [
    "X_train_power.shape,y_train.shape"
   ]
  },
  {
   "cell_type": "raw",
   "id": "a0ac5e97",
   "metadata": {
    "id": "f1ff57ef"
   },
   "source": [
    "lr=LinearRegression()\n",
    "lr_model_pt1=lr.fit(X_train_power,y_train)\n",
    "y_pred_linear_pt1=lr_model_pt1.predict(X_test_power)\n",
    "\n",
    "print('mse -PT  ',mean_squared_error(y_test,y_pred_linear_pt1))\n",
    "print('Rmse -PT ',np.sqrt(mean_squared_error(y_test,y_pred_linear_pt1)))\n",
    "\n",
    "print('r 2 square-PT ',r2_score(y_test,y_pred_linear_pt1))\n",
    "print()\n",
    "\n",
    "print('train r2 score ',lr_model_pt1.score(X_train_power,y_train))\n",
    "print('test r2 score ',lr_model_pt1.score(X_test_power,y_test))"
   ]
  },
  {
   "cell_type": "raw",
   "id": "8af3a08a",
   "metadata": {
    "id": "18ac29cc"
   },
   "source": [
    "# Using Sequential feature Selection"
   ]
  },
  {
   "cell_type": "raw",
   "id": "2c7f9ce1",
   "metadata": {
    "id": "0af50869"
   },
   "source": [
    "from mlxtend.feature_selection import SequentialFeatureSelector as sfs"
   ]
  },
  {
   "cell_type": "raw",
   "id": "beb3d0e4",
   "metadata": {
    "id": "7b0eff8b",
    "outputId": "cb682b97-0925-499f-e854-9ff5b23d0547"
   },
   "source": [
    "sfs_fwd=sfs(estimator=LR,k_features=5,\n",
    "            scoring='r2',forward=True,verbose=2)\n",
    "\n",
    "sfs_fwd.fit(X=X_train_scaled,y=y_train)"
   ]
  },
  {
   "cell_type": "raw",
   "id": "2dbbd26c",
   "metadata": {
    "id": "cae30476",
    "outputId": "d735cb4f-a553-4d1d-f0a3-7760405b9f9d"
   },
   "source": [
    "sfs_fwd.k_feature_names_"
   ]
  },
  {
   "cell_type": "raw",
   "id": "292de034",
   "metadata": {
    "id": "c7369eef"
   },
   "source": [
    "from sklearn.model_selection import GridSearchCV"
   ]
  },
  {
   "cell_type": "raw",
   "id": "20977001",
   "metadata": {
    "id": "6dd81df2"
   },
   "source": [
    "# Using Random Forest "
   ]
  },
  {
   "cell_type": "raw",
   "id": "9fece859",
   "metadata": {
    "id": "cd39b32a"
   },
   "source": [
    "X=df.loc[:,['Item_Weight', 'Item_Fat_Content', 'Item_Visibility', 'Item_Type',\n",
    "       'Item_MRP']]\n",
    "X_train, X_test, y_train, y_test = train_test_split( X, y, test_size=0.3,random_state=10)"
   ]
  },
  {
   "cell_type": "raw",
   "id": "d65f39e2",
   "metadata": {
    "id": "d0fb7c97"
   },
   "source": [
    "# Using Ridge and lasso"
   ]
  },
  {
   "cell_type": "raw",
   "id": "8c0f3c17",
   "metadata": {
    "id": "e1487bf2"
   },
   "source": [
    "from sklearn.linear_model import Ridge,Lasso\n",
    "X=df.drop('Item_Outlet_Sales',axis=1)\n",
    "y=df['Item_Outlet_Sales']\n",
    "\n",
    "X_train, X_test, y_train, y_test = train_test_split( X, y, test_size=0.2,random_state=10)\n",
    "\n",
    "\n",
    "X_train_scaled=pd.DataFrame(sc.fit_transform(X_train),columns=X_train.columns)\n",
    "X_test_scaled=pd.DataFrame(sc.transform(X_test),columns=X_test.columns)"
   ]
  },
  {
   "cell_type": "raw",
   "id": "fb7f2755",
   "metadata": {
    "id": "tL7tXQxBfHQM"
   },
   "source": [
    "ridge=Ridge(random_state=10,alpha=0.9)\n",
    "ridge_model=ridge.fit(X_train_scaled,y_train)\n",
    "y_pred_ridge=ridge_model.predict(X_test_scaled)\n",
    "\n",
    "print('mean squared error ', mean_squared_error(y_test,y_pred_ridge))\n",
    "\n",
    "print('root mean square error ',np.sqrt(mean_squared_error(y_test,y_pred_ridge)))\n",
    "\n",
    "print('Adusted r square ',r2_score(y_test,y_pred_ridge))\n",
    "print()\n",
    "\n",
    "print('train r2 score ',ridge_model.score(X_train_scaled,y_train))\n",
    "print('test r2 score ',ridge_model.score(X_test_scaled,y_test))"
   ]
  },
  {
   "cell_type": "raw",
   "id": "209b6250",
   "metadata": {
    "id": "8bd96778"
   },
   "source": [
    "# Ridge Tuned "
   ]
  },
  {
   "cell_type": "raw",
   "id": "12873d2c",
   "metadata": {
    "id": "iAFRwuuPfpcl"
   },
   "source": [
    "possible_alpha = [{'alpha':[1e-15, 1e-10, 1e-8, 1e-5, 1e-2, \n",
    "                            1e-1, 0.1, 0.2, 0.5, 0.9,1, 2, 3,\n",
    "                           4, 5]}]\n",
    "\n",
    "ridge = Ridge(random_state=10)\n",
    "\n",
    "grid = GridSearchCV(estimator=ridge, param_grid=possible_alpha,\n",
    "                   cv = 10, scoring = \"neg_mean_squared_error\") # RMSE\n",
    "\n",
    "grid.fit(X_train_scaled,y_train)"
   ]
  },
  {
   "cell_type": "raw",
   "id": "0d08063a",
   "metadata": {
    "id": "Jx5s9m0HgVfo"
   },
   "source": [
    "grid.best_estimator_"
   ]
  },
  {
   "cell_type": "raw",
   "id": "75450b88",
   "metadata": {
    "id": "ybfAZYFvgdgR"
   },
   "source": [
    "ridge_tuned=Ridge(alpha=5, copy_X=True, fit_intercept=True, max_iter=None, normalize=False,\n",
    "      random_state=10, solver='auto', tol=0.001)\n",
    "ridge_model_tuned=ridge_tuned.fit(X_train_scaled,y_train)\n",
    "y_pred__ridge_tuned=ridge_model_tuned.predict(X_test_scaled)\n",
    "\n",
    "print('mean squared error ', mean_squared_error(y_test,y_pred__ridge_tuned))\n",
    "\n",
    "print('root mean square error ',np.sqrt(mean_squared_error(y_test,y_pred__ridge_tuned)))\n",
    "\n",
    "print('Adusted r square ',r2_score(y_test,y_pred__ridge_tuned))\n",
    "print()\n",
    "\n",
    "print('train r2 score ',ridge_model_tuned.score(X_train_scaled,y_train))\n",
    "print('test r2 score ',ridge_model_tuned.score(X_test_scaled,y_test))"
   ]
  },
  {
   "cell_type": "raw",
   "id": "9c47e07d",
   "metadata": {
    "id": "ade1e2d0"
   },
   "source": [
    "# Lasso"
   ]
  },
  {
   "cell_type": "raw",
   "id": "9fcc388a",
   "metadata": {
    "id": "3EOVdHWshF0O"
   },
   "source": [
    "lasso=Lasso(random_state=10)\n",
    "lasso_model=lasso.fit(X_train_scaled,y_train)\n",
    "y_pred_lasso=lasso_model.predict(X_test_scaled)\n",
    "\n",
    "print('mean squared error ', mean_squared_error(y_test,y_pred_lasso))\n",
    "\n",
    "print('root mean square error ',np.sqrt(mean_squared_error(y_test,y_pred_lasso)))\n",
    "\n",
    "print('Adusted r square ',r2_score(y_test,y_pred_lasso))\n",
    "print()\n",
    "\n",
    "print('train r2 score ',lasso_model.score(X_train_scaled,y_train))\n",
    "print('test r2 score ',lasso_model.score(X_test_scaled,y_test))\n",
    "print(\"RMSE test VALUE:\", rmse_test)"
   ]
  },
  {
   "cell_type": "raw",
   "id": "71aa2be6",
   "metadata": {
    "id": "6becc4f6"
   },
   "source": [
    "# Lasso Tuned"
   ]
  },
  {
   "cell_type": "raw",
   "id": "4304ba88",
   "metadata": {
    "id": "jPXBd93NmBF_"
   },
   "source": [
    "possible_alpha = [{'alpha':[1e-15, 1e-10, 1e-8, 1e-5, 1e-2, \n",
    "                            1e-1, 0.1, 0.2, 0.5, 0.9,1, 2, 3,\n",
    "                           4, 5,6,8,10,11,14,15,18,19,20,21,23]}]\n",
    "\n",
    "lasso = Lasso()\n",
    "\n",
    "grid = GridSearchCV(estimator=lasso, param_grid=possible_alpha,\n",
    "                   cv = 10, scoring = \"neg_mean_squared_error\") # RMSE\n",
    "\n",
    "grid.fit(X_train_scaled,y_train)"
   ]
  },
  {
   "cell_type": "raw",
   "id": "7a07331c",
   "metadata": {
    "id": "zE0o8SC-mPXw"
   },
   "source": [
    "grid.best_params_"
   ]
  },
  {
   "cell_type": "raw",
   "id": "673ae172",
   "metadata": {
    "id": "HS5KrvEhmbKQ"
   },
   "source": [
    "lasso_tuned=Lasso(random_state=10,alpha=18)\n",
    "lasso_model_tuned=lasso_tuned.fit(X_train_scaled,y_train)\n",
    "y_pred_lasso_tune=lasso_model_tuned.predict(X_test_scaled)\n",
    "\n",
    "print('mean squared error ', mean_squared_error(y_test,y_pred_lasso_tune))\n",
    "\n",
    "print('root mean square error ',np.sqrt(mean_squared_error(y_test,y_pred_lasso_tune)))\n",
    "\n",
    "print('Adusted r square ',r2_score(y_test,y_pred_lasso_tune))\n",
    "print()\n",
    "\n",
    "print('train r2 score ',lasso_model_tuned.score(X_train_scaled,y_train))\n",
    "print('test r2 score ',lasso_model_tuned.score(X_test_scaled,y_test))\n"
   ]
  },
  {
   "cell_type": "markdown",
   "id": "fd063afd",
   "metadata": {
    "id": "fd063afd"
   },
   "source": [
    "# Sgd Regressor "
   ]
  },
  {
   "cell_type": "markdown",
   "id": "ec4218ef",
   "metadata": {
    "id": "ec4218ef"
   },
   "source": [
    "# Test Data "
   ]
  },
  {
   "cell_type": "code",
   "execution_count": 146,
   "id": "abc3e188",
   "metadata": {
    "id": "abc3e188"
   },
   "outputs": [
    {
     "data": {
      "text/html": [
       "<div>\n",
       "<style scoped>\n",
       "    .dataframe tbody tr th:only-of-type {\n",
       "        vertical-align: middle;\n",
       "    }\n",
       "\n",
       "    .dataframe tbody tr th {\n",
       "        vertical-align: top;\n",
       "    }\n",
       "\n",
       "    .dataframe thead th {\n",
       "        text-align: right;\n",
       "    }\n",
       "</style>\n",
       "<table border=\"1\" class=\"dataframe\">\n",
       "  <thead>\n",
       "    <tr style=\"text-align: right;\">\n",
       "      <th></th>\n",
       "      <th>Item_Identifier</th>\n",
       "      <th>Item_Weight</th>\n",
       "      <th>Item_Fat_Content</th>\n",
       "      <th>Item_Visibility</th>\n",
       "      <th>Item_Type</th>\n",
       "      <th>Item_MRP</th>\n",
       "      <th>Outlet_Identifier</th>\n",
       "      <th>Outlet_Establishment_Year</th>\n",
       "      <th>Outlet_Size</th>\n",
       "      <th>Outlet_Location_Type</th>\n",
       "      <th>Outlet_Type</th>\n",
       "    </tr>\n",
       "  </thead>\n",
       "  <tbody>\n",
       "    <tr>\n",
       "      <th>0</th>\n",
       "      <td>FDW58</td>\n",
       "      <td>20.750</td>\n",
       "      <td>Low Fat</td>\n",
       "      <td>0.007565</td>\n",
       "      <td>Snack Foods</td>\n",
       "      <td>107.8622</td>\n",
       "      <td>OUT049</td>\n",
       "      <td>1999</td>\n",
       "      <td>Medium</td>\n",
       "      <td>Tier 1</td>\n",
       "      <td>Supermarket Type1</td>\n",
       "    </tr>\n",
       "    <tr>\n",
       "      <th>1</th>\n",
       "      <td>FDW14</td>\n",
       "      <td>8.300</td>\n",
       "      <td>reg</td>\n",
       "      <td>0.038428</td>\n",
       "      <td>Dairy</td>\n",
       "      <td>87.3198</td>\n",
       "      <td>OUT017</td>\n",
       "      <td>2007</td>\n",
       "      <td>NaN</td>\n",
       "      <td>Tier 2</td>\n",
       "      <td>Supermarket Type1</td>\n",
       "    </tr>\n",
       "    <tr>\n",
       "      <th>2</th>\n",
       "      <td>NCN55</td>\n",
       "      <td>14.600</td>\n",
       "      <td>Low Fat</td>\n",
       "      <td>0.099575</td>\n",
       "      <td>Others</td>\n",
       "      <td>241.7538</td>\n",
       "      <td>OUT010</td>\n",
       "      <td>1998</td>\n",
       "      <td>NaN</td>\n",
       "      <td>Tier 3</td>\n",
       "      <td>Grocery Store</td>\n",
       "    </tr>\n",
       "    <tr>\n",
       "      <th>3</th>\n",
       "      <td>FDQ58</td>\n",
       "      <td>7.315</td>\n",
       "      <td>Low Fat</td>\n",
       "      <td>0.015388</td>\n",
       "      <td>Snack Foods</td>\n",
       "      <td>155.0340</td>\n",
       "      <td>OUT017</td>\n",
       "      <td>2007</td>\n",
       "      <td>NaN</td>\n",
       "      <td>Tier 2</td>\n",
       "      <td>Supermarket Type1</td>\n",
       "    </tr>\n",
       "    <tr>\n",
       "      <th>4</th>\n",
       "      <td>FDY38</td>\n",
       "      <td>NaN</td>\n",
       "      <td>Regular</td>\n",
       "      <td>0.118599</td>\n",
       "      <td>Dairy</td>\n",
       "      <td>234.2300</td>\n",
       "      <td>OUT027</td>\n",
       "      <td>1985</td>\n",
       "      <td>Medium</td>\n",
       "      <td>Tier 3</td>\n",
       "      <td>Supermarket Type3</td>\n",
       "    </tr>\n",
       "  </tbody>\n",
       "</table>\n",
       "</div>"
      ],
      "text/plain": [
       "  Item_Identifier  Item_Weight Item_Fat_Content  Item_Visibility    Item_Type  \\\n",
       "0           FDW58       20.750          Low Fat         0.007565  Snack Foods   \n",
       "1           FDW14        8.300              reg         0.038428        Dairy   \n",
       "2           NCN55       14.600          Low Fat         0.099575       Others   \n",
       "3           FDQ58        7.315          Low Fat         0.015388  Snack Foods   \n",
       "4           FDY38          NaN          Regular         0.118599        Dairy   \n",
       "\n",
       "   Item_MRP Outlet_Identifier  Outlet_Establishment_Year Outlet_Size  \\\n",
       "0  107.8622            OUT049                       1999      Medium   \n",
       "1   87.3198            OUT017                       2007         NaN   \n",
       "2  241.7538            OUT010                       1998         NaN   \n",
       "3  155.0340            OUT017                       2007         NaN   \n",
       "4  234.2300            OUT027                       1985      Medium   \n",
       "\n",
       "  Outlet_Location_Type        Outlet_Type  \n",
       "0               Tier 1  Supermarket Type1  \n",
       "1               Tier 2  Supermarket Type1  \n",
       "2               Tier 3      Grocery Store  \n",
       "3               Tier 2  Supermarket Type1  \n",
       "4               Tier 3  Supermarket Type3  "
      ]
     },
     "execution_count": 146,
     "metadata": {},
     "output_type": "execute_result"
    }
   ],
   "source": [
    "test=pd.read_csv('C:/Users/Naman/Downloads/naman python/ana lytics/loan prediction/bigmart sales/test_AbJTz2l (1).csv')\n",
    "test.head()  "
   ]
  },
  {
   "cell_type": "code",
   "execution_count": 147,
   "id": "53379b0b",
   "metadata": {
    "id": "53379b0b"
   },
   "outputs": [
    {
     "data": {
      "text/plain": [
       "Item_Identifier                 0\n",
       "Item_Weight                   976\n",
       "Item_Fat_Content                0\n",
       "Item_Visibility                 0\n",
       "Item_Type                       0\n",
       "Item_MRP                        0\n",
       "Outlet_Identifier               0\n",
       "Outlet_Establishment_Year       0\n",
       "Outlet_Size                  1606\n",
       "Outlet_Location_Type            0\n",
       "Outlet_Type                     0\n",
       "dtype: int64"
      ]
     },
     "execution_count": 147,
     "metadata": {},
     "output_type": "execute_result"
    }
   ],
   "source": [
    "test.isnull().sum()"
   ]
  },
  {
   "cell_type": "code",
   "execution_count": 148,
   "id": "19238415",
   "metadata": {
    "id": "19238415"
   },
   "outputs": [
    {
     "data": {
      "text/plain": [
       "(array([1, 2, 3, 4]),\n",
       " [Text(1, 0, 'Item_Weight'),\n",
       "  Text(2, 0, 'Item_Visibility'),\n",
       "  Text(3, 0, 'Item_MRP'),\n",
       "  Text(4, 0, 'Outlet_Establishment_Year')])"
      ]
     },
     "execution_count": 148,
     "metadata": {},
     "output_type": "execute_result"
    },
    {
     "data": {
      "image/png": "[encoded data removed]",
      "text/plain": [
       "<Figure size 576x432 with 1 Axes>"
      ]
     },
     "metadata": {
      "needs_background": "light"
     },
     "output_type": "display_data"
    }
   ],
   "source": [
    "plt.figure(figsize=[8,6])\n",
    "test.boxplot()\n",
    "plt.xticks(rotation=90)"
   ]
  },
  {
   "cell_type": "code",
   "execution_count": 149,
   "id": "8c95cf96",
   "metadata": {
    "id": "8c95cf96"
   },
   "outputs": [],
   "source": [
    "from sklearn.preprocessing import LabelEncoder\n",
    "le=LabelEncoder()\n",
    "\n",
    "test.Item_Fat_Content=le.fit_transform(test.Item_Fat_Content)\n",
    "test.Item_Type=le.fit_transform(test.Item_Type)\n",
    "test.Outlet_Identifier=le.fit_transform(test.Outlet_Identifier)\n",
    "test.Outlet_Size=le.fit_transform(test.Outlet_Size)\n",
    "test.Outlet_Location_Type=le.fit_transform(test.Outlet_Location_Type)\n",
    "test.Outlet_Type=le.fit_transform(test.Outlet_Type)"
   ]
  },
  {
   "cell_type": "code",
   "execution_count": 150,
   "id": "3efdbe11",
   "metadata": {},
   "outputs": [
    {
     "data": {
      "text/html": [
       "<div>\n",
       "<style scoped>\n",
       "    .dataframe tbody tr th:only-of-type {\n",
       "        vertical-align: middle;\n",
       "    }\n",
       "\n",
       "    .dataframe tbody tr th {\n",
       "        vertical-align: top;\n",
       "    }\n",
       "\n",
       "    .dataframe thead th {\n",
       "        text-align: right;\n",
       "    }\n",
       "</style>\n",
       "<table border=\"1\" class=\"dataframe\">\n",
       "  <thead>\n",
       "    <tr style=\"text-align: right;\">\n",
       "      <th></th>\n",
       "      <th>Item_Identifier</th>\n",
       "      <th>Item_Weight</th>\n",
       "      <th>Item_Fat_Content</th>\n",
       "      <th>Item_Visibility</th>\n",
       "      <th>Item_Type</th>\n",
       "      <th>Item_MRP</th>\n",
       "      <th>Outlet_Identifier</th>\n",
       "      <th>Outlet_Establishment_Year</th>\n",
       "      <th>Outlet_Size</th>\n",
       "      <th>Outlet_Location_Type</th>\n",
       "      <th>Outlet_Type</th>\n",
       "    </tr>\n",
       "  </thead>\n",
       "  <tbody>\n",
       "    <tr>\n",
       "      <th>0</th>\n",
       "      <td>FDW58</td>\n",
       "      <td>20.750</td>\n",
       "      <td>1</td>\n",
       "      <td>0.007565</td>\n",
       "      <td>13</td>\n",
       "      <td>107.8622</td>\n",
       "      <td>9</td>\n",
       "      <td>1999</td>\n",
       "      <td>1</td>\n",
       "      <td>0</td>\n",
       "      <td>1</td>\n",
       "    </tr>\n",
       "    <tr>\n",
       "      <th>1</th>\n",
       "      <td>FDW14</td>\n",
       "      <td>8.300</td>\n",
       "      <td>4</td>\n",
       "      <td>0.038428</td>\n",
       "      <td>4</td>\n",
       "      <td>87.3198</td>\n",
       "      <td>2</td>\n",
       "      <td>2007</td>\n",
       "      <td>3</td>\n",
       "      <td>1</td>\n",
       "      <td>1</td>\n",
       "    </tr>\n",
       "    <tr>\n",
       "      <th>2</th>\n",
       "      <td>NCN55</td>\n",
       "      <td>14.600</td>\n",
       "      <td>1</td>\n",
       "      <td>0.099575</td>\n",
       "      <td>11</td>\n",
       "      <td>241.7538</td>\n",
       "      <td>0</td>\n",
       "      <td>1998</td>\n",
       "      <td>3</td>\n",
       "      <td>2</td>\n",
       "      <td>0</td>\n",
       "    </tr>\n",
       "    <tr>\n",
       "      <th>3</th>\n",
       "      <td>FDQ58</td>\n",
       "      <td>7.315</td>\n",
       "      <td>1</td>\n",
       "      <td>0.015388</td>\n",
       "      <td>13</td>\n",
       "      <td>155.0340</td>\n",
       "      <td>2</td>\n",
       "      <td>2007</td>\n",
       "      <td>3</td>\n",
       "      <td>1</td>\n",
       "      <td>1</td>\n",
       "    </tr>\n",
       "    <tr>\n",
       "      <th>4</th>\n",
       "      <td>FDY38</td>\n",
       "      <td>NaN</td>\n",
       "      <td>2</td>\n",
       "      <td>0.118599</td>\n",
       "      <td>4</td>\n",
       "      <td>234.2300</td>\n",
       "      <td>5</td>\n",
       "      <td>1985</td>\n",
       "      <td>1</td>\n",
       "      <td>2</td>\n",
       "      <td>3</td>\n",
       "    </tr>\n",
       "  </tbody>\n",
       "</table>\n",
       "</div>"
      ],
      "text/plain": [
       "  Item_Identifier  Item_Weight  Item_Fat_Content  Item_Visibility  Item_Type  \\\n",
       "0           FDW58       20.750                 1         0.007565         13   \n",
       "1           FDW14        8.300                 4         0.038428          4   \n",
       "2           NCN55       14.600                 1         0.099575         11   \n",
       "3           FDQ58        7.315                 1         0.015388         13   \n",
       "4           FDY38          NaN                 2         0.118599          4   \n",
       "\n",
       "   Item_MRP  Outlet_Identifier  Outlet_Establishment_Year  Outlet_Size  \\\n",
       "0  107.8622                  9                       1999            1   \n",
       "1   87.3198                  2                       2007            3   \n",
       "2  241.7538                  0                       1998            3   \n",
       "3  155.0340                  2                       2007            3   \n",
       "4  234.2300                  5                       1985            1   \n",
       "\n",
       "   Outlet_Location_Type  Outlet_Type  \n",
       "0                     0            1  \n",
       "1                     1            1  \n",
       "2                     2            0  \n",
       "3                     1            1  \n",
       "4                     2            3  "
      ]
     },
     "execution_count": 150,
     "metadata": {},
     "output_type": "execute_result"
    }
   ],
   "source": [
    "test.head()"
   ]
  },
  {
   "cell_type": "code",
   "execution_count": 151,
   "id": "697e4379",
   "metadata": {},
   "outputs": [],
   "source": [
    "test.Outlet_Establishment_Year=test.Outlet_Establishment_Year.astype('object')\n",
    "\n",
    "test.set_index('Item_Identifier',inplace=True)\n",
    "test=pd.get_dummies(test)"
   ]
  },
  {
   "cell_type": "code",
   "execution_count": 152,
   "id": "8ba8eaaa",
   "metadata": {
    "id": "8ba8eaaa"
   },
   "outputs": [
    {
     "data": {
      "text/html": [
       "<div>\n",
       "<style scoped>\n",
       "    .dataframe tbody tr th:only-of-type {\n",
       "        vertical-align: middle;\n",
       "    }\n",
       "\n",
       "    .dataframe tbody tr th {\n",
       "        vertical-align: top;\n",
       "    }\n",
       "\n",
       "    .dataframe thead th {\n",
       "        text-align: right;\n",
       "    }\n",
       "</style>\n",
       "<table border=\"1\" class=\"dataframe\">\n",
       "  <thead>\n",
       "    <tr style=\"text-align: right;\">\n",
       "      <th></th>\n",
       "      <th>Item_Weight</th>\n",
       "      <th>Item_Fat_Content</th>\n",
       "      <th>Item_Visibility</th>\n",
       "      <th>Item_Type</th>\n",
       "      <th>Item_MRP</th>\n",
       "      <th>Outlet_Identifier</th>\n",
       "      <th>Outlet_Size</th>\n",
       "      <th>Outlet_Location_Type</th>\n",
       "      <th>Outlet_Type</th>\n",
       "      <th>Outlet_Establishment_Year_1985</th>\n",
       "      <th>Outlet_Establishment_Year_1987</th>\n",
       "      <th>Outlet_Establishment_Year_1997</th>\n",
       "      <th>Outlet_Establishment_Year_1998</th>\n",
       "      <th>Outlet_Establishment_Year_1999</th>\n",
       "      <th>Outlet_Establishment_Year_2002</th>\n",
       "      <th>Outlet_Establishment_Year_2004</th>\n",
       "      <th>Outlet_Establishment_Year_2007</th>\n",
       "      <th>Outlet_Establishment_Year_2009</th>\n",
       "    </tr>\n",
       "    <tr>\n",
       "      <th>Item_Identifier</th>\n",
       "      <th></th>\n",
       "      <th></th>\n",
       "      <th></th>\n",
       "      <th></th>\n",
       "      <th></th>\n",
       "      <th></th>\n",
       "      <th></th>\n",
       "      <th></th>\n",
       "      <th></th>\n",
       "      <th></th>\n",
       "      <th></th>\n",
       "      <th></th>\n",
       "      <th></th>\n",
       "      <th></th>\n",
       "      <th></th>\n",
       "      <th></th>\n",
       "      <th></th>\n",
       "      <th></th>\n",
       "    </tr>\n",
       "  </thead>\n",
       "  <tbody>\n",
       "    <tr>\n",
       "      <th>FDW58</th>\n",
       "      <td>20.750</td>\n",
       "      <td>1</td>\n",
       "      <td>0.007565</td>\n",
       "      <td>13</td>\n",
       "      <td>107.8622</td>\n",
       "      <td>9</td>\n",
       "      <td>1</td>\n",
       "      <td>0</td>\n",
       "      <td>1</td>\n",
       "      <td>0</td>\n",
       "      <td>0</td>\n",
       "      <td>0</td>\n",
       "      <td>0</td>\n",
       "      <td>1</td>\n",
       "      <td>0</td>\n",
       "      <td>0</td>\n",
       "      <td>0</td>\n",
       "      <td>0</td>\n",
       "    </tr>\n",
       "    <tr>\n",
       "      <th>FDW14</th>\n",
       "      <td>8.300</td>\n",
       "      <td>4</td>\n",
       "      <td>0.038428</td>\n",
       "      <td>4</td>\n",
       "      <td>87.3198</td>\n",
       "      <td>2</td>\n",
       "      <td>3</td>\n",
       "      <td>1</td>\n",
       "      <td>1</td>\n",
       "      <td>0</td>\n",
       "      <td>0</td>\n",
       "      <td>0</td>\n",
       "      <td>0</td>\n",
       "      <td>0</td>\n",
       "      <td>0</td>\n",
       "      <td>0</td>\n",
       "      <td>1</td>\n",
       "      <td>0</td>\n",
       "    </tr>\n",
       "    <tr>\n",
       "      <th>NCN55</th>\n",
       "      <td>14.600</td>\n",
       "      <td>1</td>\n",
       "      <td>0.099575</td>\n",
       "      <td>11</td>\n",
       "      <td>241.7538</td>\n",
       "      <td>0</td>\n",
       "      <td>3</td>\n",
       "      <td>2</td>\n",
       "      <td>0</td>\n",
       "      <td>0</td>\n",
       "      <td>0</td>\n",
       "      <td>0</td>\n",
       "      <td>1</td>\n",
       "      <td>0</td>\n",
       "      <td>0</td>\n",
       "      <td>0</td>\n",
       "      <td>0</td>\n",
       "      <td>0</td>\n",
       "    </tr>\n",
       "    <tr>\n",
       "      <th>FDQ58</th>\n",
       "      <td>7.315</td>\n",
       "      <td>1</td>\n",
       "      <td>0.015388</td>\n",
       "      <td>13</td>\n",
       "      <td>155.0340</td>\n",
       "      <td>2</td>\n",
       "      <td>3</td>\n",
       "      <td>1</td>\n",
       "      <td>1</td>\n",
       "      <td>0</td>\n",
       "      <td>0</td>\n",
       "      <td>0</td>\n",
       "      <td>0</td>\n",
       "      <td>0</td>\n",
       "      <td>0</td>\n",
       "      <td>0</td>\n",
       "      <td>1</td>\n",
       "      <td>0</td>\n",
       "    </tr>\n",
       "    <tr>\n",
       "      <th>FDY38</th>\n",
       "      <td>NaN</td>\n",
       "      <td>2</td>\n",
       "      <td>0.118599</td>\n",
       "      <td>4</td>\n",
       "      <td>234.2300</td>\n",
       "      <td>5</td>\n",
       "      <td>1</td>\n",
       "      <td>2</td>\n",
       "      <td>3</td>\n",
       "      <td>1</td>\n",
       "      <td>0</td>\n",
       "      <td>0</td>\n",
       "      <td>0</td>\n",
       "      <td>0</td>\n",
       "      <td>0</td>\n",
       "      <td>0</td>\n",
       "      <td>0</td>\n",
       "      <td>0</td>\n",
       "    </tr>\n",
       "  </tbody>\n",
       "</table>\n",
       "</div>"
      ],
      "text/plain": [
       "                 Item_Weight  Item_Fat_Content  Item_Visibility  Item_Type  \\\n",
       "Item_Identifier                                                              \n",
       "FDW58                 20.750                 1         0.007565         13   \n",
       "FDW14                  8.300                 4         0.038428          4   \n",
       "NCN55                 14.600                 1         0.099575         11   \n",
       "FDQ58                  7.315                 1         0.015388         13   \n",
       "FDY38                    NaN                 2         0.118599          4   \n",
       "\n",
       "                 Item_MRP  Outlet_Identifier  Outlet_Size  \\\n",
       "Item_Identifier                                             \n",
       "FDW58            107.8622                  9            1   \n",
       "FDW14             87.3198                  2            3   \n",
       "NCN55            241.7538                  0            3   \n",
       "FDQ58            155.0340                  2            3   \n",
       "FDY38            234.2300                  5            1   \n",
       "\n",
       "                 Outlet_Location_Type  Outlet_Type  \\\n",
       "Item_Identifier                                      \n",
       "FDW58                               0            1   \n",
       "FDW14                               1            1   \n",
       "NCN55                               2            0   \n",
       "FDQ58                               1            1   \n",
       "FDY38                               2            3   \n",
       "\n",
       "                 Outlet_Establishment_Year_1985  \\\n",
       "Item_Identifier                                   \n",
       "FDW58                                         0   \n",
       "FDW14                                         0   \n",
       "NCN55                                         0   \n",
       "FDQ58                                         0   \n",
       "FDY38                                         1   \n",
       "\n",
       "                 Outlet_Establishment_Year_1987  \\\n",
       "Item_Identifier                                   \n",
       "FDW58                                         0   \n",
       "FDW14                                         0   \n",
       "NCN55                                         0   \n",
       "FDQ58                                         0   \n",
       "FDY38                                         0   \n",
       "\n",
       "                 Outlet_Establishment_Year_1997  \\\n",
       "Item_Identifier                                   \n",
       "FDW58                                         0   \n",
       "FDW14                                         0   \n",
       "NCN55                                         0   \n",
       "FDQ58                                         0   \n",
       "FDY38                                         0   \n",
       "\n",
       "                 Outlet_Establishment_Year_1998  \\\n",
       "Item_Identifier                                   \n",
       "FDW58                                         0   \n",
       "FDW14                                         0   \n",
       "NCN55                                         1   \n",
       "FDQ58                                         0   \n",
       "FDY38                                         0   \n",
       "\n",
       "                 Outlet_Establishment_Year_1999  \\\n",
       "Item_Identifier                                   \n",
       "FDW58                                         1   \n",
       "FDW14                                         0   \n",
       "NCN55                                         0   \n",
       "FDQ58                                         0   \n",
       "FDY38                                         0   \n",
       "\n",
       "                 Outlet_Establishment_Year_2002  \\\n",
       "Item_Identifier                                   \n",
       "FDW58                                         0   \n",
       "FDW14                                         0   \n",
       "NCN55                                         0   \n",
       "FDQ58                                         0   \n",
       "FDY38                                         0   \n",
       "\n",
       "                 Outlet_Establishment_Year_2004  \\\n",
       "Item_Identifier                                   \n",
       "FDW58                                         0   \n",
       "FDW14                                         0   \n",
       "NCN55                                         0   \n",
       "FDQ58                                         0   \n",
       "FDY38                                         0   \n",
       "\n",
       "                 Outlet_Establishment_Year_2007  \\\n",
       "Item_Identifier                                   \n",
       "FDW58                                         0   \n",
       "FDW14                                         1   \n",
       "NCN55                                         0   \n",
       "FDQ58                                         1   \n",
       "FDY38                                         0   \n",
       "\n",
       "                 Outlet_Establishment_Year_2009  \n",
       "Item_Identifier                                  \n",
       "FDW58                                         0  \n",
       "FDW14                                         0  \n",
       "NCN55                                         0  \n",
       "FDQ58                                         0  \n",
       "FDY38                                         0  "
      ]
     },
     "execution_count": 152,
     "metadata": {},
     "output_type": "execute_result"
    }
   ],
   "source": [
    "test.head()"
   ]
  },
  {
   "cell_type": "code",
   "execution_count": 153,
   "id": "7c2a5f99",
   "metadata": {},
   "outputs": [
    {
     "data": {
      "text/plain": [
       "(5681, 18)"
      ]
     },
     "execution_count": 153,
     "metadata": {},
     "output_type": "execute_result"
    }
   ],
   "source": [
    "test.shape"
   ]
  },
  {
   "cell_type": "code",
   "execution_count": 154,
   "id": "295d9c41",
   "metadata": {},
   "outputs": [
    {
     "name": "stdout",
     "output_type": "stream",
     "text": [
      "Training R2\n",
      "0.6278219875614741\n",
      "Testing R2\n",
      "0.6027168438786807\n",
      "[0.5496444  0.60107023 0.5785365  0.61169905 0.64186213 0.60596195\n",
      " 0.560698   0.57643085 0.62243663 0.56088836]\n",
      "Average R2\n",
      "0.590922809897704\n"
     ]
    }
   ],
   "source": [
    "Xtrain, Xtest, ytrain, ytest = train_test_split(X, y, test_size= .20,random_state=10)\n",
    "pipe = Pipeline((\n",
    "('knn',KNNImputer()),     \n",
    "(\"pt\",PowerTransformer()),\n",
    "(\"lr\", GradientBoostingRegressor(n_estimators=80,random_state=10)),\n",
    "))\n",
    "pipe.fit(Xtrain,ytrain)\n",
    "print(\"Training R2\")\n",
    "print(pipe.score(Xtrain,ytrain))\n",
    "print(\"Testing R2\")\n",
    "print(pipe.score(Xtest,ytest))\n",
    "scoresdt = cross_val_score(pipe,Xtrain,ytrain,cv=10)\n",
    "print(scoresdt)\n",
    "print(\"Average R2\")\n",
    "print(np.mean(scoresdt))"
   ]
  },
  {
   "cell_type": "code",
   "execution_count": 155,
   "id": "5c9a625e",
   "metadata": {},
   "outputs": [],
   "source": [
    "X_test=test\n",
    "\n",
    "y_pred=pipe.predict(X_test)\n"
   ]
  },
  {
   "cell_type": "code",
   "execution_count": 156,
   "id": "f7b0040e",
   "metadata": {
    "id": "f7b0040e"
   },
   "outputs": [],
   "source": [
    "test['Item_Outlet_Sales']=y_pred"
   ]
  },
  {
   "cell_type": "code",
   "execution_count": 157,
   "id": "eb4e5f2d",
   "metadata": {
    "id": "eb4e5f2d"
   },
   "outputs": [],
   "source": [
    "final_pred1= pd.DataFrame({\n",
    "               'Outlet_Identifier':test['Outlet_Identifier'],'Item_Outlet_Sales':test['Item_Outlet_Sales']})"
   ]
  },
  {
   "cell_type": "code",
   "execution_count": 158,
   "id": "32c336e8",
   "metadata": {
    "id": "32c336e8"
   },
   "outputs": [
    {
     "data": {
      "text/html": [
       "<div>\n",
       "<style scoped>\n",
       "    .dataframe tbody tr th:only-of-type {\n",
       "        vertical-align: middle;\n",
       "    }\n",
       "\n",
       "    .dataframe tbody tr th {\n",
       "        vertical-align: top;\n",
       "    }\n",
       "\n",
       "    .dataframe thead th {\n",
       "        text-align: right;\n",
       "    }\n",
       "</style>\n",
       "<table border=\"1\" class=\"dataframe\">\n",
       "  <thead>\n",
       "    <tr style=\"text-align: right;\">\n",
       "      <th></th>\n",
       "      <th>Outlet_Identifier</th>\n",
       "      <th>Item_Outlet_Sales</th>\n",
       "    </tr>\n",
       "    <tr>\n",
       "      <th>Item_Identifier</th>\n",
       "      <th></th>\n",
       "      <th></th>\n",
       "    </tr>\n",
       "  </thead>\n",
       "  <tbody>\n",
       "    <tr>\n",
       "      <th>FDW58</th>\n",
       "      <td>9</td>\n",
       "      <td>1705.456772</td>\n",
       "    </tr>\n",
       "    <tr>\n",
       "      <th>FDW14</th>\n",
       "      <td>2</td>\n",
       "      <td>1376.253670</td>\n",
       "    </tr>\n",
       "    <tr>\n",
       "      <th>NCN55</th>\n",
       "      <td>0</td>\n",
       "      <td>568.749295</td>\n",
       "    </tr>\n",
       "    <tr>\n",
       "      <th>FDQ58</th>\n",
       "      <td>2</td>\n",
       "      <td>2505.744899</td>\n",
       "    </tr>\n",
       "    <tr>\n",
       "      <th>FDY38</th>\n",
       "      <td>5</td>\n",
       "      <td>5666.872647</td>\n",
       "    </tr>\n",
       "  </tbody>\n",
       "</table>\n",
       "</div>"
      ],
      "text/plain": [
       "                 Outlet_Identifier  Item_Outlet_Sales\n",
       "Item_Identifier                                      \n",
       "FDW58                            9        1705.456772\n",
       "FDW14                            2        1376.253670\n",
       "NCN55                            0         568.749295\n",
       "FDQ58                            2        2505.744899\n",
       "FDY38                            5        5666.872647"
      ]
     },
     "execution_count": 158,
     "metadata": {},
     "output_type": "execute_result"
    }
   ],
   "source": [
    "final_pred1.head()"
   ]
  },
  {
   "cell_type": "code",
   "execution_count": 160,
   "id": "d752b448",
   "metadata": {
    "id": "d752b448"
   },
   "outputs": [],
   "source": [
    "final_pred1.to_csv('Bigmart_Sales_Prediction_final_Updated.csv')"
   ]
  },
  {
   "cell_type": "code",
   "execution_count": null,
   "id": "01e2474e",
   "metadata": {
    "id": "01e2474e"
   },
   "outputs": [],
   "source": []
  }
 ],
 "metadata": {
  "colab": {
   "name": "Big_Mart_Sales_Prediction.ipynb",
   "provenance": []
  },
  "kernelspec": {
   "display_name": "Python 3",
   "language": "python",
   "name": "python3"
  },
  "language_info": {
   "codemirror_mode": {
    "name": "ipython",
    "version": 3
   },
   "file_extension": ".py",
   "mimetype": "text/x-python",
   "name": "python",
   "nbconvert_exporter": "python",
   "pygments_lexer": "ipython3",
   "version": "3.8.8"
  }
 },
 "nbformat": 4,
 "nbformat_minor": 5
}
