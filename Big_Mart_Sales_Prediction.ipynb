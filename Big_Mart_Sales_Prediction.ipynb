{
 "cells": [
  {
   "cell_type": "code",
   "execution_count": 992,
   "id": "f6eb49bd",
   "metadata": {
    "id": "f6eb49bd"
   },
   "outputs": [],
   "source": [
    "import numpy as np\n",
    "import pandas as pd\n",
    "import matplotlib.pyplot as plt\n",
    "import seaborn as sns\n",
    "import scipy.stats as stats\n",
    "import statsmodels.formula.api as sfa\n",
    "import statsmodels.api as smodels\n",
    "from sklearn.feature_selection import RFE\n",
    "from sklearn.model_selection import train_test_split\n",
    "from statsmodels.stats.outliers_influence import variance_inflation_factor\n",
    "from sklearn.preprocessing import PowerTransformer\n",
    "PT=PowerTransformer()\n",
    "from sklearn.metrics import r2_score,mean_squared_error\n",
    "from sklearn.model_selection import train_test_split\n",
    "from sklearn.model_selection import cross_val_score"
   ]
  },
  {
   "cell_type": "raw",
   "id": "73d812e7",
   "metadata": {
    "id": "d19703af"
   },
   "source": [
    "Variable\tDescription\n",
    "Item_Identifier\tUnique product ID\n",
    "\n",
    "Item_Weight\tWeight of product\n",
    "\n",
    "Item_Fat_Content\tWhether the product is low fat or not\n",
    "\n",
    "Item_Visibility\tThe % of total display area of all products in a store allocated to the particular product\n",
    "\n",
    "Item_Type\tThe category to which the product belongs\n",
    "\n",
    "Item_MRP\tMaximum Retail Price (list price) of the product\n",
    "\n",
    "Outlet_Identifier\tUnique store ID\n",
    "\n",
    "Outlet_Establishment_Year\tThe year in which store was established\n",
    "\n",
    "Outlet_Size\tThe size of the store in terms of ground area covered\n",
    "\n",
    "Outlet_Location_Type\tThe type of city in which the store is located\n",
    "\n",
    "Outlet_Type\tWhether the outlet is just a grocery store or some sort of supermarket\n",
    "\n",
    "Item_Outlet_Sales\tSales of the product in the particular store. This is the outcome variable to be predicted.\n",
    " "
   ]
  },
  {
   "cell_type": "code",
   "execution_count": 993,
   "id": "d7937841",
   "metadata": {},
   "outputs": [
    {
     "data": {
      "text/html": [
       "<div>\n",
       "<style scoped>\n",
       "    .dataframe tbody tr th:only-of-type {\n",
       "        vertical-align: middle;\n",
       "    }\n",
       "\n",
       "    .dataframe tbody tr th {\n",
       "        vertical-align: top;\n",
       "    }\n",
       "\n",
       "    .dataframe thead th {\n",
       "        text-align: right;\n",
       "    }\n",
       "</style>\n",
       "<table border=\"1\" class=\"dataframe\">\n",
       "  <thead>\n",
       "    <tr style=\"text-align: right;\">\n",
       "      <th></th>\n",
       "      <th>Item_Identifier</th>\n",
       "      <th>Item_Weight</th>\n",
       "      <th>Item_Fat_Content</th>\n",
       "      <th>Item_Visibility</th>\n",
       "      <th>Item_Type</th>\n",
       "      <th>Item_MRP</th>\n",
       "      <th>Outlet_Identifier</th>\n",
       "      <th>Outlet_Establishment_Year</th>\n",
       "      <th>Outlet_Size</th>\n",
       "      <th>Outlet_Location_Type</th>\n",
       "      <th>Outlet_Type</th>\n",
       "      <th>Item_Outlet_Sales</th>\n",
       "    </tr>\n",
       "  </thead>\n",
       "  <tbody>\n",
       "    <tr>\n",
       "      <th>0</th>\n",
       "      <td>FDA15</td>\n",
       "      <td>9.30</td>\n",
       "      <td>Low Fat</td>\n",
       "      <td>0.016047</td>\n",
       "      <td>Dairy</td>\n",
       "      <td>249.8092</td>\n",
       "      <td>OUT049</td>\n",
       "      <td>1999</td>\n",
       "      <td>Medium</td>\n",
       "      <td>Tier 1</td>\n",
       "      <td>Supermarket Type1</td>\n",
       "      <td>3735.1380</td>\n",
       "    </tr>\n",
       "    <tr>\n",
       "      <th>1</th>\n",
       "      <td>DRC01</td>\n",
       "      <td>5.92</td>\n",
       "      <td>Regular</td>\n",
       "      <td>0.019278</td>\n",
       "      <td>Soft Drinks</td>\n",
       "      <td>48.2692</td>\n",
       "      <td>OUT018</td>\n",
       "      <td>2009</td>\n",
       "      <td>Medium</td>\n",
       "      <td>Tier 3</td>\n",
       "      <td>Supermarket Type2</td>\n",
       "      <td>443.4228</td>\n",
       "    </tr>\n",
       "    <tr>\n",
       "      <th>2</th>\n",
       "      <td>FDN15</td>\n",
       "      <td>17.50</td>\n",
       "      <td>Low Fat</td>\n",
       "      <td>0.016760</td>\n",
       "      <td>Meat</td>\n",
       "      <td>141.6180</td>\n",
       "      <td>OUT049</td>\n",
       "      <td>1999</td>\n",
       "      <td>Medium</td>\n",
       "      <td>Tier 1</td>\n",
       "      <td>Supermarket Type1</td>\n",
       "      <td>2097.2700</td>\n",
       "    </tr>\n",
       "    <tr>\n",
       "      <th>3</th>\n",
       "      <td>FDX07</td>\n",
       "      <td>19.20</td>\n",
       "      <td>Regular</td>\n",
       "      <td>0.000000</td>\n",
       "      <td>Fruits and Vegetables</td>\n",
       "      <td>182.0950</td>\n",
       "      <td>OUT010</td>\n",
       "      <td>1998</td>\n",
       "      <td>NaN</td>\n",
       "      <td>Tier 3</td>\n",
       "      <td>Grocery Store</td>\n",
       "      <td>732.3800</td>\n",
       "    </tr>\n",
       "    <tr>\n",
       "      <th>4</th>\n",
       "      <td>NCD19</td>\n",
       "      <td>8.93</td>\n",
       "      <td>Low Fat</td>\n",
       "      <td>0.000000</td>\n",
       "      <td>Household</td>\n",
       "      <td>53.8614</td>\n",
       "      <td>OUT013</td>\n",
       "      <td>1987</td>\n",
       "      <td>High</td>\n",
       "      <td>Tier 3</td>\n",
       "      <td>Supermarket Type1</td>\n",
       "      <td>994.7052</td>\n",
       "    </tr>\n",
       "  </tbody>\n",
       "</table>\n",
       "</div>"
      ],
      "text/plain": [
       "  Item_Identifier  Item_Weight Item_Fat_Content  Item_Visibility  \\\n",
       "0           FDA15         9.30          Low Fat         0.016047   \n",
       "1           DRC01         5.92          Regular         0.019278   \n",
       "2           FDN15        17.50          Low Fat         0.016760   \n",
       "3           FDX07        19.20          Regular         0.000000   \n",
       "4           NCD19         8.93          Low Fat         0.000000   \n",
       "\n",
       "               Item_Type  Item_MRP Outlet_Identifier  \\\n",
       "0                  Dairy  249.8092            OUT049   \n",
       "1            Soft Drinks   48.2692            OUT018   \n",
       "2                   Meat  141.6180            OUT049   \n",
       "3  Fruits and Vegetables  182.0950            OUT010   \n",
       "4              Household   53.8614            OUT013   \n",
       "\n",
       "   Outlet_Establishment_Year Outlet_Size Outlet_Location_Type  \\\n",
       "0                       1999      Medium               Tier 1   \n",
       "1                       2009      Medium               Tier 3   \n",
       "2                       1999      Medium               Tier 1   \n",
       "3                       1998         NaN               Tier 3   \n",
       "4                       1987        High               Tier 3   \n",
       "\n",
       "         Outlet_Type  Item_Outlet_Sales  \n",
       "0  Supermarket Type1          3735.1380  \n",
       "1  Supermarket Type2           443.4228  \n",
       "2  Supermarket Type1          2097.2700  \n",
       "3      Grocery Store           732.3800  \n",
       "4  Supermarket Type1           994.7052  "
      ]
     },
     "execution_count": 993,
     "metadata": {},
     "output_type": "execute_result"
    }
   ],
   "source": [
    "df=pd.read_csv('C:/Users//Downloads/naman python/ana lytics/loan prediction/bigmart sales/train_v9rqX0R (1).csv')\n",
    "df.head()   "
   ]
  },
  {
   "cell_type": "code",
   "execution_count": 994,
   "id": "2af84d9e",
   "metadata": {},
   "outputs": [
    {
     "data": {
      "text/plain": [
       "Item_Weight                  0.082426\n",
       "Item_Visibility              1.167091\n",
       "Item_MRP                     0.127202\n",
       "Outlet_Establishment_Year   -0.396641\n",
       "Item_Outlet_Sales            1.177531\n",
       "dtype: float64"
      ]
     },
     "execution_count": 994,
     "metadata": {},
     "output_type": "execute_result"
    }
   ],
   "source": [
    "df.skew()"
   ]
  },
  {
   "cell_type": "code",
   "execution_count": 995,
   "id": "787e3893",
   "metadata": {
    "id": "787e3893"
   },
   "outputs": [],
   "source": [
    "df.set_index('Item_Identifier',inplace=True)"
   ]
  },
  {
   "cell_type": "code",
   "execution_count": 996,
   "id": "7576b7fa",
   "metadata": {
    "colab": {
     "base_uri": "https://localhost:8080/",
     "height": 569
    },
    "id": "7576b7fa",
    "outputId": "e7dc97aa-0c61-4c9e-96b6-7275c3f55235"
   },
   "outputs": [
    {
     "data": {
      "text/plain": [
       "(array([1, 2, 3, 4, 5]),\n",
       " [Text(1, 0, 'Item_Weight'),\n",
       "  Text(2, 0, 'Item_Visibility'),\n",
       "  Text(3, 0, 'Item_MRP'),\n",
       "  Text(4, 0, 'Outlet_Establishment_Year'),\n",
       "  Text(5, 0, 'Item_Outlet_Sales')])"
      ]
     },
     "execution_count": 996,
     "metadata": {},
     "output_type": "execute_result"
    },
    {
     "data": {
      "image/png": "[encoded data removed]",
      "text/plain": [
       "<Figure size 576x432 with 1 Axes>"
      ]
     },
     "metadata": {
      "needs_background": "light"
     },
     "output_type": "display_data"
    }
   ],
   "source": [
    "plt.figure(figsize=[8,6])\n",
    "df.boxplot()\n",
    "plt.xticks(rotation=90)"
   ]
  },
  {
   "cell_type": "markdown",
   "id": "381edfcb",
   "metadata": {
    "id": "23fc4cc9"
   },
   "source": [
    "q1=df.quantile(0.25)\n",
    "q3=df.quantile(0.75)\n",
    "iqr=q3-q1\n",
    "\n",
    "ll=q1-1.5*iqr\n",
    "ul=q3+1.5*iqr\n",
    "\n",
    "df=df[~((df >ul ) | ( df <ll )).any(axis=1)]"
   ]
  },
  {
   "cell_type": "code",
   "execution_count": 997,
   "id": "0994d945",
   "metadata": {
    "colab": {
     "base_uri": "https://localhost:8080/",
     "height": 569
    },
    "id": "0994d945",
    "outputId": "8e52b912-b613-4ac4-d1d8-bb06d12de9e2"
   },
   "outputs": [
    {
     "data": {
      "text/plain": [
       "(array([1, 2, 3, 4, 5]),\n",
       " [Text(1, 0, 'Item_Weight'),\n",
       "  Text(2, 0, 'Item_Visibility'),\n",
       "  Text(3, 0, 'Item_MRP'),\n",
       "  Text(4, 0, 'Outlet_Establishment_Year'),\n",
       "  Text(5, 0, 'Item_Outlet_Sales')])"
      ]
     },
     "execution_count": 997,
     "metadata": {},
     "output_type": "execute_result"
    },
    {
     "data": {
      "image/png": "[encoded data removed]",
      "text/plain": [
       "<Figure size 576x432 with 1 Axes>"
      ]
     },
     "metadata": {
      "needs_background": "light"
     },
     "output_type": "display_data"
    }
   ],
   "source": [
    "plt.figure(figsize=[8,6])\n",
    "df.boxplot()\n",
    "plt.xticks(rotation=90)"
   ]
  },
  {
   "cell_type": "code",
   "execution_count": 998,
   "id": "16ade0e9",
   "metadata": {
    "colab": {
     "base_uri": "https://localhost:8080/"
    },
    "id": "16ade0e9",
    "outputId": "28de66b3-8037-4edb-b53f-ac8213fb0e9d"
   },
   "outputs": [
    {
     "data": {
      "text/plain": [
       "Item_Weight                  17.165317\n",
       "Item_Fat_Content              0.000000\n",
       "Item_Visibility               0.000000\n",
       "Item_Type                     0.000000\n",
       "Item_MRP                      0.000000\n",
       "Outlet_Identifier             0.000000\n",
       "Outlet_Establishment_Year     0.000000\n",
       "Outlet_Size                  28.276428\n",
       "Outlet_Location_Type          0.000000\n",
       "Outlet_Type                   0.000000\n",
       "Item_Outlet_Sales             0.000000\n",
       "dtype: float64"
      ]
     },
     "execution_count": 998,
     "metadata": {},
     "output_type": "execute_result"
    }
   ],
   "source": [
    "df.isnull().sum()/len(df)*100"
   ]
  },
  {
   "cell_type": "code",
   "execution_count": 999,
   "id": "c6df0fe4",
   "metadata": {
    "id": "c6df0fe4"
   },
   "outputs": [],
   "source": [
    "df=df.dropna(subset=['Item_Weight','Outlet_Size'])"
   ]
  },
  {
   "cell_type": "code",
   "execution_count": 1000,
   "id": "93a558ac",
   "metadata": {
    "colab": {
     "base_uri": "https://localhost:8080/"
    },
    "id": "93a558ac",
    "outputId": "50946b24-5edb-44e2-85e3-ff668b31b208"
   },
   "outputs": [
    {
     "data": {
      "text/plain": [
       "Item_Weight                  0.0\n",
       "Item_Fat_Content             0.0\n",
       "Item_Visibility              0.0\n",
       "Item_Type                    0.0\n",
       "Item_MRP                     0.0\n",
       "Outlet_Identifier            0.0\n",
       "Outlet_Establishment_Year    0.0\n",
       "Outlet_Size                  0.0\n",
       "Outlet_Location_Type         0.0\n",
       "Outlet_Type                  0.0\n",
       "Item_Outlet_Sales            0.0\n",
       "dtype: float64"
      ]
     },
     "execution_count": 1000,
     "metadata": {},
     "output_type": "execute_result"
    }
   ],
   "source": [
    "df.isnull().sum()/len(df)*100"
   ]
  },
  {
   "cell_type": "code",
   "execution_count": 1001,
   "id": "23be533c",
   "metadata": {
    "colab": {
     "base_uri": "https://localhost:8080/",
     "height": 518
    },
    "id": "23be533c",
    "outputId": "8d5b30bd-2a83-4e81-e143-f61e7a96df67"
   },
   "outputs": [
    {
     "data": {
      "text/plain": [
       "<AxesSubplot:>"
      ]
     },
     "execution_count": 1001,
     "metadata": {},
     "output_type": "execute_result"
    },
    {
     "data": {
      "image/png": "[encoded data removed]",
      "text/plain": [
       "<Figure size 576x432 with 2 Axes>"
      ]
     },
     "metadata": {
      "needs_background": "light"
     },
     "output_type": "display_data"
    }
   ],
   "source": [
    "plt.figure(figsize=[8,6])\n",
    "sns.heatmap(df.corr()[df.corr()>0.6],annot=True)"
   ]
  },
  {
   "cell_type": "code",
   "execution_count": 1002,
   "id": "7a2e99c1",
   "metadata": {
    "colab": {
     "base_uri": "https://localhost:8080/",
     "height": 455
    },
    "id": "7a2e99c1",
    "outputId": "f16d139b-2bfa-4e94-a822-178f108d0be1"
   },
   "outputs": [
    {
     "data": {
      "text/html": [
       "<div>\n",
       "<style scoped>\n",
       "    .dataframe tbody tr th:only-of-type {\n",
       "        vertical-align: middle;\n",
       "    }\n",
       "\n",
       "    .dataframe tbody tr th {\n",
       "        vertical-align: top;\n",
       "    }\n",
       "\n",
       "    .dataframe thead th {\n",
       "        text-align: right;\n",
       "    }\n",
       "</style>\n",
       "<table border=\"1\" class=\"dataframe\">\n",
       "  <thead>\n",
       "    <tr style=\"text-align: right;\">\n",
       "      <th></th>\n",
       "      <th>Item_Weight</th>\n",
       "      <th>Item_Visibility</th>\n",
       "      <th>Item_MRP</th>\n",
       "      <th>Outlet_Establishment_Year</th>\n",
       "      <th>Item_Outlet_Sales</th>\n",
       "    </tr>\n",
       "    <tr>\n",
       "      <th>Item_Identifier</th>\n",
       "      <th></th>\n",
       "      <th></th>\n",
       "      <th></th>\n",
       "      <th></th>\n",
       "      <th></th>\n",
       "    </tr>\n",
       "  </thead>\n",
       "  <tbody>\n",
       "    <tr>\n",
       "      <th>FDA15</th>\n",
       "      <td>9.300</td>\n",
       "      <td>0.016047</td>\n",
       "      <td>249.8092</td>\n",
       "      <td>1999</td>\n",
       "      <td>3735.1380</td>\n",
       "    </tr>\n",
       "    <tr>\n",
       "      <th>DRC01</th>\n",
       "      <td>5.920</td>\n",
       "      <td>0.019278</td>\n",
       "      <td>48.2692</td>\n",
       "      <td>2009</td>\n",
       "      <td>443.4228</td>\n",
       "    </tr>\n",
       "    <tr>\n",
       "      <th>FDN15</th>\n",
       "      <td>17.500</td>\n",
       "      <td>0.016760</td>\n",
       "      <td>141.6180</td>\n",
       "      <td>1999</td>\n",
       "      <td>2097.2700</td>\n",
       "    </tr>\n",
       "    <tr>\n",
       "      <th>NCD19</th>\n",
       "      <td>8.930</td>\n",
       "      <td>0.000000</td>\n",
       "      <td>53.8614</td>\n",
       "      <td>1987</td>\n",
       "      <td>994.7052</td>\n",
       "    </tr>\n",
       "    <tr>\n",
       "      <th>FDP36</th>\n",
       "      <td>10.395</td>\n",
       "      <td>0.000000</td>\n",
       "      <td>51.4008</td>\n",
       "      <td>2009</td>\n",
       "      <td>556.6088</td>\n",
       "    </tr>\n",
       "    <tr>\n",
       "      <th>...</th>\n",
       "      <td>...</td>\n",
       "      <td>...</td>\n",
       "      <td>...</td>\n",
       "      <td>...</td>\n",
       "      <td>...</td>\n",
       "    </tr>\n",
       "    <tr>\n",
       "      <th>FDF53</th>\n",
       "      <td>20.750</td>\n",
       "      <td>0.083607</td>\n",
       "      <td>178.8318</td>\n",
       "      <td>1997</td>\n",
       "      <td>3608.6360</td>\n",
       "    </tr>\n",
       "    <tr>\n",
       "      <th>FDF22</th>\n",
       "      <td>6.865</td>\n",
       "      <td>0.056783</td>\n",
       "      <td>214.5218</td>\n",
       "      <td>1987</td>\n",
       "      <td>2778.3834</td>\n",
       "    </tr>\n",
       "    <tr>\n",
       "      <th>NCJ29</th>\n",
       "      <td>10.600</td>\n",
       "      <td>0.035186</td>\n",
       "      <td>85.1224</td>\n",
       "      <td>2004</td>\n",
       "      <td>1193.1136</td>\n",
       "    </tr>\n",
       "    <tr>\n",
       "      <th>FDN46</th>\n",
       "      <td>7.210</td>\n",
       "      <td>0.145221</td>\n",
       "      <td>103.1332</td>\n",
       "      <td>2009</td>\n",
       "      <td>1845.5976</td>\n",
       "    </tr>\n",
       "    <tr>\n",
       "      <th>DRG01</th>\n",
       "      <td>14.800</td>\n",
       "      <td>0.044878</td>\n",
       "      <td>75.4670</td>\n",
       "      <td>1997</td>\n",
       "      <td>765.6700</td>\n",
       "    </tr>\n",
       "  </tbody>\n",
       "</table>\n",
       "<p>4650 rows × 5 columns</p>\n",
       "</div>"
      ],
      "text/plain": [
       "                 Item_Weight  Item_Visibility  Item_MRP  \\\n",
       "Item_Identifier                                           \n",
       "FDA15                  9.300         0.016047  249.8092   \n",
       "DRC01                  5.920         0.019278   48.2692   \n",
       "FDN15                 17.500         0.016760  141.6180   \n",
       "NCD19                  8.930         0.000000   53.8614   \n",
       "FDP36                 10.395         0.000000   51.4008   \n",
       "...                      ...              ...       ...   \n",
       "FDF53                 20.750         0.083607  178.8318   \n",
       "FDF22                  6.865         0.056783  214.5218   \n",
       "NCJ29                 10.600         0.035186   85.1224   \n",
       "FDN46                  7.210         0.145221  103.1332   \n",
       "DRG01                 14.800         0.044878   75.4670   \n",
       "\n",
       "                 Outlet_Establishment_Year  Item_Outlet_Sales  \n",
       "Item_Identifier                                                \n",
       "FDA15                                 1999          3735.1380  \n",
       "DRC01                                 2009           443.4228  \n",
       "FDN15                                 1999          2097.2700  \n",
       "NCD19                                 1987           994.7052  \n",
       "FDP36                                 2009           556.6088  \n",
       "...                                    ...                ...  \n",
       "FDF53                                 1997          3608.6360  \n",
       "FDF22                                 1987          2778.3834  \n",
       "NCJ29                                 2004          1193.1136  \n",
       "FDN46                                 2009          1845.5976  \n",
       "DRG01                                 1997           765.6700  \n",
       "\n",
       "[4650 rows x 5 columns]"
      ]
     },
     "execution_count": 1002,
     "metadata": {},
     "output_type": "execute_result"
    }
   ],
   "source": [
    "df.select_dtypes(include=np.number)"
   ]
  },
  {
   "cell_type": "code",
   "execution_count": 1003,
   "id": "4d18493a",
   "metadata": {
    "colab": {
     "base_uri": "https://localhost:8080/",
     "height": 455
    },
    "id": "4d18493a",
    "outputId": "2008bdc9-ac80-444b-b0b8-691cc73c3f5a"
   },
   "outputs": [
    {
     "data": {
      "text/html": [
       "<div>\n",
       "<style scoped>\n",
       "    .dataframe tbody tr th:only-of-type {\n",
       "        vertical-align: middle;\n",
       "    }\n",
       "\n",
       "    .dataframe tbody tr th {\n",
       "        vertical-align: top;\n",
       "    }\n",
       "\n",
       "    .dataframe thead th {\n",
       "        text-align: right;\n",
       "    }\n",
       "</style>\n",
       "<table border=\"1\" class=\"dataframe\">\n",
       "  <thead>\n",
       "    <tr style=\"text-align: right;\">\n",
       "      <th></th>\n",
       "      <th>Item_Fat_Content</th>\n",
       "      <th>Item_Type</th>\n",
       "      <th>Outlet_Identifier</th>\n",
       "      <th>Outlet_Size</th>\n",
       "      <th>Outlet_Location_Type</th>\n",
       "      <th>Outlet_Type</th>\n",
       "    </tr>\n",
       "    <tr>\n",
       "      <th>Item_Identifier</th>\n",
       "      <th></th>\n",
       "      <th></th>\n",
       "      <th></th>\n",
       "      <th></th>\n",
       "      <th></th>\n",
       "      <th></th>\n",
       "    </tr>\n",
       "  </thead>\n",
       "  <tbody>\n",
       "    <tr>\n",
       "      <th>FDA15</th>\n",
       "      <td>Low Fat</td>\n",
       "      <td>Dairy</td>\n",
       "      <td>OUT049</td>\n",
       "      <td>Medium</td>\n",
       "      <td>Tier 1</td>\n",
       "      <td>Supermarket Type1</td>\n",
       "    </tr>\n",
       "    <tr>\n",
       "      <th>DRC01</th>\n",
       "      <td>Regular</td>\n",
       "      <td>Soft Drinks</td>\n",
       "      <td>OUT018</td>\n",
       "      <td>Medium</td>\n",
       "      <td>Tier 3</td>\n",
       "      <td>Supermarket Type2</td>\n",
       "    </tr>\n",
       "    <tr>\n",
       "      <th>FDN15</th>\n",
       "      <td>Low Fat</td>\n",
       "      <td>Meat</td>\n",
       "      <td>OUT049</td>\n",
       "      <td>Medium</td>\n",
       "      <td>Tier 1</td>\n",
       "      <td>Supermarket Type1</td>\n",
       "    </tr>\n",
       "    <tr>\n",
       "      <th>NCD19</th>\n",
       "      <td>Low Fat</td>\n",
       "      <td>Household</td>\n",
       "      <td>OUT013</td>\n",
       "      <td>High</td>\n",
       "      <td>Tier 3</td>\n",
       "      <td>Supermarket Type1</td>\n",
       "    </tr>\n",
       "    <tr>\n",
       "      <th>FDP36</th>\n",
       "      <td>Regular</td>\n",
       "      <td>Baking Goods</td>\n",
       "      <td>OUT018</td>\n",
       "      <td>Medium</td>\n",
       "      <td>Tier 3</td>\n",
       "      <td>Supermarket Type2</td>\n",
       "    </tr>\n",
       "    <tr>\n",
       "      <th>...</th>\n",
       "      <td>...</td>\n",
       "      <td>...</td>\n",
       "      <td>...</td>\n",
       "      <td>...</td>\n",
       "      <td>...</td>\n",
       "      <td>...</td>\n",
       "    </tr>\n",
       "    <tr>\n",
       "      <th>FDF53</th>\n",
       "      <td>reg</td>\n",
       "      <td>Frozen Foods</td>\n",
       "      <td>OUT046</td>\n",
       "      <td>Small</td>\n",
       "      <td>Tier 1</td>\n",
       "      <td>Supermarket Type1</td>\n",
       "    </tr>\n",
       "    <tr>\n",
       "      <th>FDF22</th>\n",
       "      <td>Low Fat</td>\n",
       "      <td>Snack Foods</td>\n",
       "      <td>OUT013</td>\n",
       "      <td>High</td>\n",
       "      <td>Tier 3</td>\n",
       "      <td>Supermarket Type1</td>\n",
       "    </tr>\n",
       "    <tr>\n",
       "      <th>NCJ29</th>\n",
       "      <td>Low Fat</td>\n",
       "      <td>Health and Hygiene</td>\n",
       "      <td>OUT035</td>\n",
       "      <td>Small</td>\n",
       "      <td>Tier 2</td>\n",
       "      <td>Supermarket Type1</td>\n",
       "    </tr>\n",
       "    <tr>\n",
       "      <th>FDN46</th>\n",
       "      <td>Regular</td>\n",
       "      <td>Snack Foods</td>\n",
       "      <td>OUT018</td>\n",
       "      <td>Medium</td>\n",
       "      <td>Tier 3</td>\n",
       "      <td>Supermarket Type2</td>\n",
       "    </tr>\n",
       "    <tr>\n",
       "      <th>DRG01</th>\n",
       "      <td>Low Fat</td>\n",
       "      <td>Soft Drinks</td>\n",
       "      <td>OUT046</td>\n",
       "      <td>Small</td>\n",
       "      <td>Tier 1</td>\n",
       "      <td>Supermarket Type1</td>\n",
       "    </tr>\n",
       "  </tbody>\n",
       "</table>\n",
       "<p>4650 rows × 6 columns</p>\n",
       "</div>"
      ],
      "text/plain": [
       "                Item_Fat_Content           Item_Type Outlet_Identifier  \\\n",
       "Item_Identifier                                                          \n",
       "FDA15                    Low Fat               Dairy            OUT049   \n",
       "DRC01                    Regular         Soft Drinks            OUT018   \n",
       "FDN15                    Low Fat                Meat            OUT049   \n",
       "NCD19                    Low Fat           Household            OUT013   \n",
       "FDP36                    Regular        Baking Goods            OUT018   \n",
       "...                          ...                 ...               ...   \n",
       "FDF53                        reg        Frozen Foods            OUT046   \n",
       "FDF22                    Low Fat         Snack Foods            OUT013   \n",
       "NCJ29                    Low Fat  Health and Hygiene            OUT035   \n",
       "FDN46                    Regular         Snack Foods            OUT018   \n",
       "DRG01                    Low Fat         Soft Drinks            OUT046   \n",
       "\n",
       "                Outlet_Size Outlet_Location_Type        Outlet_Type  \n",
       "Item_Identifier                                                      \n",
       "FDA15                Medium               Tier 1  Supermarket Type1  \n",
       "DRC01                Medium               Tier 3  Supermarket Type2  \n",
       "FDN15                Medium               Tier 1  Supermarket Type1  \n",
       "NCD19                  High               Tier 3  Supermarket Type1  \n",
       "FDP36                Medium               Tier 3  Supermarket Type2  \n",
       "...                     ...                  ...                ...  \n",
       "FDF53                 Small               Tier 1  Supermarket Type1  \n",
       "FDF22                  High               Tier 3  Supermarket Type1  \n",
       "NCJ29                 Small               Tier 2  Supermarket Type1  \n",
       "FDN46                Medium               Tier 3  Supermarket Type2  \n",
       "DRG01                 Small               Tier 1  Supermarket Type1  \n",
       "\n",
       "[4650 rows x 6 columns]"
      ]
     },
     "execution_count": 1003,
     "metadata": {},
     "output_type": "execute_result"
    }
   ],
   "source": [
    "df.select_dtypes(exclude=np.number)"
   ]
  },
  {
   "cell_type": "code",
   "execution_count": 1004,
   "id": "95abf953",
   "metadata": {
    "colab": {
     "base_uri": "https://localhost:8080/"
    },
    "id": "95abf953",
    "outputId": "4db73559-9443-4aba-e960-586ae7f216c3"
   },
   "outputs": [
    {
     "data": {
      "text/plain": [
       "Low Fat    2774\n",
       "Regular    1575\n",
       "LF          177\n",
       "reg          71\n",
       "low fat      53\n",
       "Name: Item_Fat_Content, dtype: int64"
      ]
     },
     "execution_count": 1004,
     "metadata": {},
     "output_type": "execute_result"
    }
   ],
   "source": [
    "df.Item_Fat_Content.value_counts()"
   ]
  },
  {
   "cell_type": "code",
   "execution_count": 1005,
   "id": "30bae393",
   "metadata": {
    "colab": {
     "base_uri": "https://localhost:8080/"
    },
    "id": "30bae393",
    "outputId": "42901504-854e-4c74-999f-7a355aa7affc"
   },
   "outputs": [
    {
     "data": {
      "text/plain": [
       "Fruits and Vegetables    670\n",
       "Snack Foods              656\n",
       "Household                498\n",
       "Frozen Foods             477\n",
       "Dairy                    380\n",
       "Canned                   361\n",
       "Baking Goods             351\n",
       "Health and Hygiene       277\n",
       "Soft Drinks              241\n",
       "Meat                     221\n",
       "Breads                   132\n",
       "Hard Drinks              117\n",
       "Others                    91\n",
       "Starchy Foods             87\n",
       "Breakfast                 58\n",
       "Seafood                   33\n",
       "Name: Item_Type, dtype: int64"
      ]
     },
     "execution_count": 1005,
     "metadata": {},
     "output_type": "execute_result"
    }
   ],
   "source": [
    "df.Item_Type.value_counts()"
   ]
  },
  {
   "cell_type": "code",
   "execution_count": 1006,
   "id": "12780dba",
   "metadata": {
    "colab": {
     "base_uri": "https://localhost:8080/"
    },
    "id": "12780dba",
    "outputId": "8aaa6700-23ef-4e99-c605-f3aaff3d5f5b"
   },
   "outputs": [
    {
     "data": {
      "text/plain": [
       "OUT013    932\n",
       "OUT046    930\n",
       "OUT049    930\n",
       "OUT035    930\n",
       "OUT018    928\n",
       "Name: Outlet_Identifier, dtype: int64"
      ]
     },
     "execution_count": 1006,
     "metadata": {},
     "output_type": "execute_result"
    }
   ],
   "source": [
    "df.Outlet_Identifier.value_counts()"
   ]
  },
  {
   "cell_type": "code",
   "execution_count": 1007,
   "id": "8ff92820",
   "metadata": {
    "colab": {
     "base_uri": "https://localhost:8080/"
    },
    "id": "8ff92820",
    "outputId": "110d87b2-0c8e-4dae-b6d0-caba502457ea"
   },
   "outputs": [
    {
     "data": {
      "text/plain": [
       "Small     1860\n",
       "Medium    1858\n",
       "High       932\n",
       "Name: Outlet_Size, dtype: int64"
      ]
     },
     "execution_count": 1007,
     "metadata": {},
     "output_type": "execute_result"
    }
   ],
   "source": [
    "df.Outlet_Size.value_counts()"
   ]
  },
  {
   "cell_type": "code",
   "execution_count": 1008,
   "id": "350822c3",
   "metadata": {
    "colab": {
     "base_uri": "https://localhost:8080/"
    },
    "id": "350822c3",
    "outputId": "7c4f720f-8330-4f9c-c33f-e409a8642022"
   },
   "outputs": [
    {
     "data": {
      "text/plain": [
       "Tier 1    1860\n",
       "Tier 3    1860\n",
       "Tier 2     930\n",
       "Name: Outlet_Location_Type, dtype: int64"
      ]
     },
     "execution_count": 1008,
     "metadata": {},
     "output_type": "execute_result"
    }
   ],
   "source": [
    "df.Outlet_Location_Type.value_counts()"
   ]
  },
  {
   "cell_type": "code",
   "execution_count": 1009,
   "id": "1c388c1b",
   "metadata": {
    "colab": {
     "base_uri": "https://localhost:8080/"
    },
    "id": "1c388c1b",
    "outputId": "11ee3c9b-f005-46c3-8de1-7563caa17b8c"
   },
   "outputs": [
    {
     "data": {
      "text/plain": [
       "Supermarket Type1    3722\n",
       "Supermarket Type2     928\n",
       "Name: Outlet_Type, dtype: int64"
      ]
     },
     "execution_count": 1009,
     "metadata": {},
     "output_type": "execute_result"
    }
   ],
   "source": [
    "df.Outlet_Type.value_counts()"
   ]
  },
  {
   "cell_type": "code",
   "execution_count": 1010,
   "id": "0827465a",
   "metadata": {
    "id": "0827465a"
   },
   "outputs": [],
   "source": [
    "from sklearn.preprocessing import LabelEncoder\n",
    "le=LabelEncoder()"
   ]
  },
  {
   "cell_type": "code",
   "execution_count": 1011,
   "id": "74d4806c",
   "metadata": {
    "id": "74d4806c"
   },
   "outputs": [],
   "source": [
    "df.Item_Fat_Content=le.fit_transform(df.Item_Fat_Content)\n",
    "df.Item_Type=le.fit_transform(df.Item_Type)\n",
    "df.Outlet_Identifier=le.fit_transform(df.Outlet_Identifier)\n",
    "df.Outlet_Size=le.fit_transform(df.Outlet_Size)\n",
    "df.Outlet_Location_Type=le.fit_transform(df.Outlet_Location_Type)\n",
    "df.Outlet_Type=le.fit_transform(df.Outlet_Type)"
   ]
  },
  {
   "cell_type": "code",
   "execution_count": 1012,
   "id": "b2e7a764",
   "metadata": {
    "colab": {
     "base_uri": "https://localhost:8080/",
     "height": 258
    },
    "id": "b2e7a764",
    "outputId": "3986dc21-e13b-4715-e770-f9d80aa6d3f7"
   },
   "outputs": [
    {
     "data": {
      "text/html": [
       "<div>\n",
       "<style scoped>\n",
       "    .dataframe tbody tr th:only-of-type {\n",
       "        vertical-align: middle;\n",
       "    }\n",
       "\n",
       "    .dataframe tbody tr th {\n",
       "        vertical-align: top;\n",
       "    }\n",
       "\n",
       "    .dataframe thead th {\n",
       "        text-align: right;\n",
       "    }\n",
       "</style>\n",
       "<table border=\"1\" class=\"dataframe\">\n",
       "  <thead>\n",
       "    <tr style=\"text-align: right;\">\n",
       "      <th></th>\n",
       "      <th>Item_Weight</th>\n",
       "      <th>Item_Fat_Content</th>\n",
       "      <th>Item_Visibility</th>\n",
       "      <th>Item_Type</th>\n",
       "      <th>Item_MRP</th>\n",
       "      <th>Outlet_Identifier</th>\n",
       "      <th>Outlet_Establishment_Year</th>\n",
       "      <th>Outlet_Size</th>\n",
       "      <th>Outlet_Location_Type</th>\n",
       "      <th>Outlet_Type</th>\n",
       "      <th>Item_Outlet_Sales</th>\n",
       "    </tr>\n",
       "    <tr>\n",
       "      <th>Item_Identifier</th>\n",
       "      <th></th>\n",
       "      <th></th>\n",
       "      <th></th>\n",
       "      <th></th>\n",
       "      <th></th>\n",
       "      <th></th>\n",
       "      <th></th>\n",
       "      <th></th>\n",
       "      <th></th>\n",
       "      <th></th>\n",
       "      <th></th>\n",
       "    </tr>\n",
       "  </thead>\n",
       "  <tbody>\n",
       "    <tr>\n",
       "      <th>FDA15</th>\n",
       "      <td>9.300</td>\n",
       "      <td>1</td>\n",
       "      <td>0.016047</td>\n",
       "      <td>4</td>\n",
       "      <td>249.8092</td>\n",
       "      <td>4</td>\n",
       "      <td>1999</td>\n",
       "      <td>1</td>\n",
       "      <td>0</td>\n",
       "      <td>0</td>\n",
       "      <td>3735.1380</td>\n",
       "    </tr>\n",
       "    <tr>\n",
       "      <th>DRC01</th>\n",
       "      <td>5.920</td>\n",
       "      <td>2</td>\n",
       "      <td>0.019278</td>\n",
       "      <td>14</td>\n",
       "      <td>48.2692</td>\n",
       "      <td>1</td>\n",
       "      <td>2009</td>\n",
       "      <td>1</td>\n",
       "      <td>2</td>\n",
       "      <td>1</td>\n",
       "      <td>443.4228</td>\n",
       "    </tr>\n",
       "    <tr>\n",
       "      <th>FDN15</th>\n",
       "      <td>17.500</td>\n",
       "      <td>1</td>\n",
       "      <td>0.016760</td>\n",
       "      <td>10</td>\n",
       "      <td>141.6180</td>\n",
       "      <td>4</td>\n",
       "      <td>1999</td>\n",
       "      <td>1</td>\n",
       "      <td>0</td>\n",
       "      <td>0</td>\n",
       "      <td>2097.2700</td>\n",
       "    </tr>\n",
       "    <tr>\n",
       "      <th>NCD19</th>\n",
       "      <td>8.930</td>\n",
       "      <td>1</td>\n",
       "      <td>0.000000</td>\n",
       "      <td>9</td>\n",
       "      <td>53.8614</td>\n",
       "      <td>0</td>\n",
       "      <td>1987</td>\n",
       "      <td>0</td>\n",
       "      <td>2</td>\n",
       "      <td>0</td>\n",
       "      <td>994.7052</td>\n",
       "    </tr>\n",
       "    <tr>\n",
       "      <th>FDP36</th>\n",
       "      <td>10.395</td>\n",
       "      <td>2</td>\n",
       "      <td>0.000000</td>\n",
       "      <td>0</td>\n",
       "      <td>51.4008</td>\n",
       "      <td>1</td>\n",
       "      <td>2009</td>\n",
       "      <td>1</td>\n",
       "      <td>2</td>\n",
       "      <td>1</td>\n",
       "      <td>556.6088</td>\n",
       "    </tr>\n",
       "  </tbody>\n",
       "</table>\n",
       "</div>"
      ],
      "text/plain": [
       "                 Item_Weight  Item_Fat_Content  Item_Visibility  Item_Type  \\\n",
       "Item_Identifier                                                              \n",
       "FDA15                  9.300                 1         0.016047          4   \n",
       "DRC01                  5.920                 2         0.019278         14   \n",
       "FDN15                 17.500                 1         0.016760         10   \n",
       "NCD19                  8.930                 1         0.000000          9   \n",
       "FDP36                 10.395                 2         0.000000          0   \n",
       "\n",
       "                 Item_MRP  Outlet_Identifier  Outlet_Establishment_Year  \\\n",
       "Item_Identifier                                                           \n",
       "FDA15            249.8092                  4                       1999   \n",
       "DRC01             48.2692                  1                       2009   \n",
       "FDN15            141.6180                  4                       1999   \n",
       "NCD19             53.8614                  0                       1987   \n",
       "FDP36             51.4008                  1                       2009   \n",
       "\n",
       "                 Outlet_Size  Outlet_Location_Type  Outlet_Type  \\\n",
       "Item_Identifier                                                   \n",
       "FDA15                      1                     0            0   \n",
       "DRC01                      1                     2            1   \n",
       "FDN15                      1                     0            0   \n",
       "NCD19                      0                     2            0   \n",
       "FDP36                      1                     2            1   \n",
       "\n",
       "                 Item_Outlet_Sales  \n",
       "Item_Identifier                     \n",
       "FDA15                    3735.1380  \n",
       "DRC01                     443.4228  \n",
       "FDN15                    2097.2700  \n",
       "NCD19                     994.7052  \n",
       "FDP36                     556.6088  "
      ]
     },
     "execution_count": 1012,
     "metadata": {},
     "output_type": "execute_result"
    }
   ],
   "source": [
    "df.head()"
   ]
  },
  {
   "cell_type": "code",
   "execution_count": 1013,
   "id": "ae9ea1ee",
   "metadata": {
    "colab": {
     "base_uri": "https://localhost:8080/"
    },
    "id": "ae9ea1ee",
    "outputId": "02ecaacb-993b-4884-8491-43f434514c34"
   },
   "outputs": [
    {
     "data": {
      "text/plain": [
       "Item_Weight                  float64\n",
       "Item_Fat_Content               int32\n",
       "Item_Visibility              float64\n",
       "Item_Type                      int32\n",
       "Item_MRP                     float64\n",
       "Outlet_Identifier              int32\n",
       "Outlet_Establishment_Year      int64\n",
       "Outlet_Size                    int32\n",
       "Outlet_Location_Type           int32\n",
       "Outlet_Type                    int32\n",
       "Item_Outlet_Sales            float64\n",
       "dtype: object"
      ]
     },
     "execution_count": 1013,
     "metadata": {},
     "output_type": "execute_result"
    }
   ],
   "source": [
    "df.dtypes"
   ]
  },
  {
   "cell_type": "code",
   "execution_count": 1014,
   "id": "8df0d406",
   "metadata": {
    "colab": {
     "base_uri": "https://localhost:8080/"
    },
    "id": "8df0d406",
    "outputId": "e2cb517e-2ef0-4d47-89f2-371585e3fd73"
   },
   "outputs": [
    {
     "data": {
      "text/plain": [
       "1987    932\n",
       "2004    930\n",
       "1997    930\n",
       "1999    930\n",
       "2009    928\n",
       "Name: Outlet_Establishment_Year, dtype: int64"
      ]
     },
     "execution_count": 1014,
     "metadata": {},
     "output_type": "execute_result"
    }
   ],
   "source": [
    "df.Outlet_Establishment_Year.value_counts()"
   ]
  },
  {
   "cell_type": "code",
   "execution_count": 1015,
   "id": "YSDv8laAjzEX",
   "metadata": {
    "id": "YSDv8laAjzEX"
   },
   "outputs": [],
   "source": [
    "df=df.drop('Outlet_Establishment_Year',axis=1)"
   ]
  },
  {
   "cell_type": "markdown",
   "id": "ptDHawhRjrWI",
   "metadata": {
    "id": "ptDHawhRjrWI"
   },
   "source": []
  },
  {
   "cell_type": "code",
   "execution_count": 1016,
   "id": "e2373c4d",
   "metadata": {
    "colab": {
     "base_uri": "https://localhost:8080/"
    },
    "id": "e2373c4d",
    "outputId": "5da5e964-fa04-4f07-e6c8-2a3363e5346e"
   },
   "outputs": [
    {
     "data": {
      "text/plain": [
       "Item_Weight             float64\n",
       "Item_Fat_Content          int32\n",
       "Item_Visibility         float64\n",
       "Item_Type                 int32\n",
       "Item_MRP                float64\n",
       "Outlet_Identifier         int32\n",
       "Outlet_Size               int32\n",
       "Outlet_Location_Type      int32\n",
       "Outlet_Type               int32\n",
       "Item_Outlet_Sales       float64\n",
       "dtype: object"
      ]
     },
     "execution_count": 1016,
     "metadata": {},
     "output_type": "execute_result"
    }
   ],
   "source": [
    "df.dtypes"
   ]
  },
  {
   "cell_type": "code",
   "execution_count": 1017,
   "id": "61f963b1",
   "metadata": {
    "colab": {
     "base_uri": "https://localhost:8080/"
    },
    "id": "61f963b1",
    "outputId": "fcd21dad-3f88-48cd-f46d-570852c2122a"
   },
   "outputs": [
    {
     "data": {
      "text/plain": [
       "(4650, 10)"
      ]
     },
     "execution_count": 1017,
     "metadata": {},
     "output_type": "execute_result"
    }
   ],
   "source": [
    "df.shape"
   ]
  },
  {
   "cell_type": "code",
   "execution_count": 1018,
   "id": "124e6a6b",
   "metadata": {
    "colab": {
     "base_uri": "https://localhost:8080/",
     "height": 258
    },
    "id": "124e6a6b",
    "outputId": "cb3a25f1-728e-4136-c329-e12347c2c48a"
   },
   "outputs": [
    {
     "data": {
      "text/html": [
       "<div>\n",
       "<style scoped>\n",
       "    .dataframe tbody tr th:only-of-type {\n",
       "        vertical-align: middle;\n",
       "    }\n",
       "\n",
       "    .dataframe tbody tr th {\n",
       "        vertical-align: top;\n",
       "    }\n",
       "\n",
       "    .dataframe thead th {\n",
       "        text-align: right;\n",
       "    }\n",
       "</style>\n",
       "<table border=\"1\" class=\"dataframe\">\n",
       "  <thead>\n",
       "    <tr style=\"text-align: right;\">\n",
       "      <th></th>\n",
       "      <th>Item_Weight</th>\n",
       "      <th>Item_Fat_Content</th>\n",
       "      <th>Item_Visibility</th>\n",
       "      <th>Item_Type</th>\n",
       "      <th>Item_MRP</th>\n",
       "      <th>Outlet_Identifier</th>\n",
       "      <th>Outlet_Size</th>\n",
       "      <th>Outlet_Location_Type</th>\n",
       "      <th>Outlet_Type</th>\n",
       "      <th>Item_Outlet_Sales</th>\n",
       "    </tr>\n",
       "    <tr>\n",
       "      <th>Item_Identifier</th>\n",
       "      <th></th>\n",
       "      <th></th>\n",
       "      <th></th>\n",
       "      <th></th>\n",
       "      <th></th>\n",
       "      <th></th>\n",
       "      <th></th>\n",
       "      <th></th>\n",
       "      <th></th>\n",
       "      <th></th>\n",
       "    </tr>\n",
       "  </thead>\n",
       "  <tbody>\n",
       "    <tr>\n",
       "      <th>FDA15</th>\n",
       "      <td>9.300</td>\n",
       "      <td>1</td>\n",
       "      <td>0.016047</td>\n",
       "      <td>4</td>\n",
       "      <td>249.8092</td>\n",
       "      <td>4</td>\n",
       "      <td>1</td>\n",
       "      <td>0</td>\n",
       "      <td>0</td>\n",
       "      <td>3735.1380</td>\n",
       "    </tr>\n",
       "    <tr>\n",
       "      <th>DRC01</th>\n",
       "      <td>5.920</td>\n",
       "      <td>2</td>\n",
       "      <td>0.019278</td>\n",
       "      <td>14</td>\n",
       "      <td>48.2692</td>\n",
       "      <td>1</td>\n",
       "      <td>1</td>\n",
       "      <td>2</td>\n",
       "      <td>1</td>\n",
       "      <td>443.4228</td>\n",
       "    </tr>\n",
       "    <tr>\n",
       "      <th>FDN15</th>\n",
       "      <td>17.500</td>\n",
       "      <td>1</td>\n",
       "      <td>0.016760</td>\n",
       "      <td>10</td>\n",
       "      <td>141.6180</td>\n",
       "      <td>4</td>\n",
       "      <td>1</td>\n",
       "      <td>0</td>\n",
       "      <td>0</td>\n",
       "      <td>2097.2700</td>\n",
       "    </tr>\n",
       "    <tr>\n",
       "      <th>NCD19</th>\n",
       "      <td>8.930</td>\n",
       "      <td>1</td>\n",
       "      <td>0.000000</td>\n",
       "      <td>9</td>\n",
       "      <td>53.8614</td>\n",
       "      <td>0</td>\n",
       "      <td>0</td>\n",
       "      <td>2</td>\n",
       "      <td>0</td>\n",
       "      <td>994.7052</td>\n",
       "    </tr>\n",
       "    <tr>\n",
       "      <th>FDP36</th>\n",
       "      <td>10.395</td>\n",
       "      <td>2</td>\n",
       "      <td>0.000000</td>\n",
       "      <td>0</td>\n",
       "      <td>51.4008</td>\n",
       "      <td>1</td>\n",
       "      <td>1</td>\n",
       "      <td>2</td>\n",
       "      <td>1</td>\n",
       "      <td>556.6088</td>\n",
       "    </tr>\n",
       "  </tbody>\n",
       "</table>\n",
       "</div>"
      ],
      "text/plain": [
       "                 Item_Weight  Item_Fat_Content  Item_Visibility  Item_Type  \\\n",
       "Item_Identifier                                                              \n",
       "FDA15                  9.300                 1         0.016047          4   \n",
       "DRC01                  5.920                 2         0.019278         14   \n",
       "FDN15                 17.500                 1         0.016760         10   \n",
       "NCD19                  8.930                 1         0.000000          9   \n",
       "FDP36                 10.395                 2         0.000000          0   \n",
       "\n",
       "                 Item_MRP  Outlet_Identifier  Outlet_Size  \\\n",
       "Item_Identifier                                             \n",
       "FDA15            249.8092                  4            1   \n",
       "DRC01             48.2692                  1            1   \n",
       "FDN15            141.6180                  4            1   \n",
       "NCD19             53.8614                  0            0   \n",
       "FDP36             51.4008                  1            1   \n",
       "\n",
       "                 Outlet_Location_Type  Outlet_Type  Item_Outlet_Sales  \n",
       "Item_Identifier                                                        \n",
       "FDA15                               0            0          3735.1380  \n",
       "DRC01                               2            1           443.4228  \n",
       "FDN15                               0            0          2097.2700  \n",
       "NCD19                               2            0           994.7052  \n",
       "FDP36                               2            1           556.6088  "
      ]
     },
     "execution_count": 1018,
     "metadata": {},
     "output_type": "execute_result"
    }
   ],
   "source": [
    "df.head()"
   ]
  },
  {
   "cell_type": "code",
   "execution_count": 1019,
   "id": "05ae75e2",
   "metadata": {
    "colab": {
     "base_uri": "https://localhost:8080/",
     "height": 238
    },
    "id": "05ae75e2",
    "outputId": "8a3e5997-a836-4969-f66c-1d5d2479a5ab"
   },
   "outputs": [
    {
     "data": {
      "text/html": [
       "<div>\n",
       "<style scoped>\n",
       "    .dataframe tbody tr th:only-of-type {\n",
       "        vertical-align: middle;\n",
       "    }\n",
       "\n",
       "    .dataframe tbody tr th {\n",
       "        vertical-align: top;\n",
       "    }\n",
       "\n",
       "    .dataframe thead th {\n",
       "        text-align: right;\n",
       "    }\n",
       "</style>\n",
       "<table border=\"1\" class=\"dataframe\">\n",
       "  <thead>\n",
       "    <tr style=\"text-align: right;\">\n",
       "      <th></th>\n",
       "      <th>Item_Weight</th>\n",
       "      <th>Item_Fat_Content</th>\n",
       "      <th>Item_Visibility</th>\n",
       "      <th>Item_Type</th>\n",
       "      <th>Item_MRP</th>\n",
       "    </tr>\n",
       "    <tr>\n",
       "      <th>Item_Identifier</th>\n",
       "      <th></th>\n",
       "      <th></th>\n",
       "      <th></th>\n",
       "      <th></th>\n",
       "      <th></th>\n",
       "    </tr>\n",
       "  </thead>\n",
       "  <tbody>\n",
       "    <tr>\n",
       "      <th>FDA15</th>\n",
       "      <td>9.300</td>\n",
       "      <td>1</td>\n",
       "      <td>0.016047</td>\n",
       "      <td>4</td>\n",
       "      <td>249.8092</td>\n",
       "    </tr>\n",
       "    <tr>\n",
       "      <th>DRC01</th>\n",
       "      <td>5.920</td>\n",
       "      <td>2</td>\n",
       "      <td>0.019278</td>\n",
       "      <td>14</td>\n",
       "      <td>48.2692</td>\n",
       "    </tr>\n",
       "    <tr>\n",
       "      <th>FDN15</th>\n",
       "      <td>17.500</td>\n",
       "      <td>1</td>\n",
       "      <td>0.016760</td>\n",
       "      <td>10</td>\n",
       "      <td>141.6180</td>\n",
       "    </tr>\n",
       "    <tr>\n",
       "      <th>NCD19</th>\n",
       "      <td>8.930</td>\n",
       "      <td>1</td>\n",
       "      <td>0.000000</td>\n",
       "      <td>9</td>\n",
       "      <td>53.8614</td>\n",
       "    </tr>\n",
       "    <tr>\n",
       "      <th>FDP36</th>\n",
       "      <td>10.395</td>\n",
       "      <td>2</td>\n",
       "      <td>0.000000</td>\n",
       "      <td>0</td>\n",
       "      <td>51.4008</td>\n",
       "    </tr>\n",
       "  </tbody>\n",
       "</table>\n",
       "</div>"
      ],
      "text/plain": [
       "                 Item_Weight  Item_Fat_Content  Item_Visibility  Item_Type  \\\n",
       "Item_Identifier                                                              \n",
       "FDA15                  9.300                 1         0.016047          4   \n",
       "DRC01                  5.920                 2         0.019278         14   \n",
       "FDN15                 17.500                 1         0.016760         10   \n",
       "NCD19                  8.930                 1         0.000000          9   \n",
       "FDP36                 10.395                 2         0.000000          0   \n",
       "\n",
       "                 Item_MRP  \n",
       "Item_Identifier            \n",
       "FDA15            249.8092  \n",
       "DRC01             48.2692  \n",
       "FDN15            141.6180  \n",
       "NCD19             53.8614  \n",
       "FDP36             51.4008  "
      ]
     },
     "execution_count": 1019,
     "metadata": {},
     "output_type": "execute_result"
    }
   ],
   "source": [
    "X.head()"
   ]
  },
  {
   "cell_type": "code",
   "execution_count": 1020,
   "id": "ee49197e",
   "metadata": {
    "id": "ee49197e"
   },
   "outputs": [],
   "source": [
    "from sklearn.preprocessing import StandardScaler\n",
    "sc=StandardScaler()"
   ]
  },
  {
   "cell_type": "markdown",
   "id": "442b4b77",
   "metadata": {
    "id": "442b4b77"
   },
   "source": [
    "# Using Linear regression"
   ]
  },
  {
   "cell_type": "code",
   "execution_count": 1021,
   "id": "822466df",
   "metadata": {
    "colab": {
     "base_uri": "https://localhost:8080/"
    },
    "id": "822466df",
    "outputId": "8ad97344-bfd0-431b-bf85-f1fa20f669d6"
   },
   "outputs": [
    {
     "name": "stdout",
     "output_type": "stream",
     "text": [
      "mse -PT   1224964.6987077477\n",
      "Rmse -PT  1106.7812334457735\n",
      "r 2 square-PT  0.4825269984145323\n",
      "\n",
      "train score  0.4679816174653386\n",
      "test score  0.4825269984145323\n"
     ]
    }
   ],
   "source": [
    "X=df.drop('Item_Outlet_Sales',axis=1)\n",
    "y=df['Item_Outlet_Sales']\n",
    "\n",
    "\n",
    "X_train, X_test, y_train, y_test = train_test_split(X, y, test_size=0.2, random_state=10)\n",
    "#y = (y - y.mean()) / y.std()\n",
    "\n",
    "from sklearn.linear_model import LinearRegression \n",
    "lr=LinearRegression()\n",
    "\n",
    "X_train_scaled=pd.DataFrame(sc.fit_transform(X_train),columns=X_train.columns)\n",
    "X_test_scaled=pd.DataFrame(sc.transform(X_test),columns=X_test.columns)\n",
    "\n",
    "\n",
    "lr=LinearRegression()\n",
    "lr_model=lr.fit(X_train_scaled,y_train)\n",
    "y_pred_linear=lr_model.predict(X_test_scaled)\n",
    "\n",
    "print('mse -PT  ',mean_squared_error(y_test,y_pred_linear))\n",
    "print('Rmse -PT ',np.sqrt(mean_squared_error(y_test,y_pred_linear)))\n",
    "\n",
    "print('r 2 square-PT ',r2_score(y_test,y_pred_linear))\n",
    "print()\n",
    "\n",
    "print('train score ',lr_model.score(X_train_scaled,y_train))\n",
    "print('test score ',lr_model.score(X_test_scaled,y_test))"
   ]
  },
  {
   "cell_type": "code",
   "execution_count": 1022,
   "id": "210711e7",
   "metadata": {
    "colab": {
     "base_uri": "https://localhost:8080/",
     "height": 332
    },
    "id": "210711e7",
    "outputId": "3141bccf-27fc-46c1-ef14-ee47e957980d"
   },
   "outputs": [
    {
     "data": {
      "text/html": [
       "<div>\n",
       "<style scoped>\n",
       "    .dataframe tbody tr th:only-of-type {\n",
       "        vertical-align: middle;\n",
       "    }\n",
       "\n",
       "    .dataframe tbody tr th {\n",
       "        vertical-align: top;\n",
       "    }\n",
       "\n",
       "    .dataframe thead th {\n",
       "        text-align: right;\n",
       "    }\n",
       "</style>\n",
       "<table border=\"1\" class=\"dataframe\">\n",
       "  <thead>\n",
       "    <tr style=\"text-align: right;\">\n",
       "      <th></th>\n",
       "      <th>Columns</th>\n",
       "      <th>VIF</th>\n",
       "    </tr>\n",
       "  </thead>\n",
       "  <tbody>\n",
       "    <tr>\n",
       "      <th>0</th>\n",
       "      <td>Item_Weight</td>\n",
       "      <td>1.002448</td>\n",
       "    </tr>\n",
       "    <tr>\n",
       "      <th>1</th>\n",
       "      <td>Item_Fat_Content</td>\n",
       "      <td>1.018110</td>\n",
       "    </tr>\n",
       "    <tr>\n",
       "      <th>2</th>\n",
       "      <td>Item_Visibility</td>\n",
       "      <td>1.003441</td>\n",
       "    </tr>\n",
       "    <tr>\n",
       "      <th>3</th>\n",
       "      <td>Item_Type</td>\n",
       "      <td>1.016191</td>\n",
       "    </tr>\n",
       "    <tr>\n",
       "      <th>4</th>\n",
       "      <td>Item_MRP</td>\n",
       "      <td>1.002959</td>\n",
       "    </tr>\n",
       "    <tr>\n",
       "      <th>5</th>\n",
       "      <td>Outlet_Identifier</td>\n",
       "      <td>19.850151</td>\n",
       "    </tr>\n",
       "    <tr>\n",
       "      <th>6</th>\n",
       "      <td>Outlet_Size</td>\n",
       "      <td>1.869900</td>\n",
       "    </tr>\n",
       "    <tr>\n",
       "      <th>7</th>\n",
       "      <td>Outlet_Location_Type</td>\n",
       "      <td>28.923783</td>\n",
       "    </tr>\n",
       "    <tr>\n",
       "      <th>8</th>\n",
       "      <td>Outlet_Type</td>\n",
       "      <td>3.114482</td>\n",
       "    </tr>\n",
       "  </tbody>\n",
       "</table>\n",
       "</div>"
      ],
      "text/plain": [
       "               Columns         VIF\n",
       "0           Item_Weight   1.002448\n",
       "1      Item_Fat_Content   1.018110\n",
       "2       Item_Visibility   1.003441\n",
       "3             Item_Type   1.016191\n",
       "4              Item_MRP   1.002959\n",
       "5     Outlet_Identifier  19.850151\n",
       "6           Outlet_Size   1.869900\n",
       "7  Outlet_Location_Type  28.923783\n",
       "8           Outlet_Type   3.114482"
      ]
     },
     "execution_count": 1022,
     "metadata": {},
     "output_type": "execute_result"
    }
   ],
   "source": [
    "vif=pd.DataFrame({'Columns ':X_train_scaled.columns,'VIF':[variance_inflation_factor(X_train_scaled.values,i) for i in range(X_train_scaled.shape[1])]})\n",
    "vif"
   ]
  },
  {
   "cell_type": "code",
   "execution_count": 1023,
   "id": "eb31d32b",
   "metadata": {
    "colab": {
     "base_uri": "https://localhost:8080/"
    },
    "id": "eb31d32b",
    "outputId": "3790f90c-29bc-4bed-bf4f-28eb37c33b24"
   },
   "outputs": [
    {
     "data": {
      "text/plain": [
       "0             Item_Weight\n",
       "1        Item_Fat_Content\n",
       "2         Item_Visibility\n",
       "3               Item_Type\n",
       "4                Item_MRP\n",
       "5       Outlet_Identifier\n",
       "6             Outlet_Size\n",
       "7    Outlet_Location_Type\n",
       "8             Outlet_Type\n",
       "Name: Columns , dtype: object"
      ]
     },
     "execution_count": 1023,
     "metadata": {},
     "output_type": "execute_result"
    }
   ],
   "source": [
    "vif['Columns ']"
   ]
  },
  {
   "cell_type": "code",
   "execution_count": 1024,
   "id": "ad2f1be5",
   "metadata": {
    "colab": {
     "base_uri": "https://localhost:8080/"
    },
    "id": "ad2f1be5",
    "outputId": "ed4c4c2a-c7f1-420d-f989-bf86e22b7583"
   },
   "outputs": [
    {
     "data": {
      "text/plain": [
       "Index(['Item_Weight', 'Item_Fat_Content', 'Item_Visibility', 'Item_Type',\n",
       "       'Item_MRP', 'Outlet_Identifier', 'Outlet_Size', 'Outlet_Location_Type',\n",
       "       'Outlet_Type', 'Item_Outlet_Sales'],\n",
       "      dtype='object')"
      ]
     },
     "execution_count": 1024,
     "metadata": {},
     "output_type": "execute_result"
    }
   ],
   "source": [
    "df.columns"
   ]
  },
  {
   "cell_type": "markdown",
   "id": "d99655d2",
   "metadata": {},
   "source": [
    "# Model after Dropping Outlet_Location_Type"
   ]
  },
  {
   "cell_type": "code",
   "execution_count": 1025,
   "id": "cJtMOtLtouXg",
   "metadata": {
    "id": "cJtMOtLtouXg"
   },
   "outputs": [],
   "source": [
    "X=df.drop(['Item_Outlet_Sales','Outlet_Location_Type'],axis=1)\n",
    "\n",
    "X_train, X_test, y_train, y_test = train_test_split(X, y, test_size=0.2, random_state=10)\n",
    "\n",
    "X_train_scaled=pd.DataFrame(sc.fit_transform(X_train),columns=X_train.columns)\n",
    "X_test_scaled=pd.DataFrame(sc.transform(X_test),columns=X_test.columns)"
   ]
  },
  {
   "cell_type": "code",
   "execution_count": 1026,
   "id": "hKv7G5WbvRtz",
   "metadata": {
    "colab": {
     "base_uri": "https://localhost:8080/",
     "height": 300
    },
    "id": "hKv7G5WbvRtz",
    "outputId": "0f2b47fb-72a7-4907-c9ed-97707658957a"
   },
   "outputs": [
    {
     "data": {
      "text/html": [
       "<div>\n",
       "<style scoped>\n",
       "    .dataframe tbody tr th:only-of-type {\n",
       "        vertical-align: middle;\n",
       "    }\n",
       "\n",
       "    .dataframe tbody tr th {\n",
       "        vertical-align: top;\n",
       "    }\n",
       "\n",
       "    .dataframe thead th {\n",
       "        text-align: right;\n",
       "    }\n",
       "</style>\n",
       "<table border=\"1\" class=\"dataframe\">\n",
       "  <thead>\n",
       "    <tr style=\"text-align: right;\">\n",
       "      <th></th>\n",
       "      <th>Columns</th>\n",
       "      <th>VIF</th>\n",
       "    </tr>\n",
       "  </thead>\n",
       "  <tbody>\n",
       "    <tr>\n",
       "      <th>0</th>\n",
       "      <td>Item_Weight</td>\n",
       "      <td>1.002426</td>\n",
       "    </tr>\n",
       "    <tr>\n",
       "      <th>1</th>\n",
       "      <td>Item_Fat_Content</td>\n",
       "      <td>1.018109</td>\n",
       "    </tr>\n",
       "    <tr>\n",
       "      <th>2</th>\n",
       "      <td>Item_Visibility</td>\n",
       "      <td>1.003351</td>\n",
       "    </tr>\n",
       "    <tr>\n",
       "      <th>3</th>\n",
       "      <td>Item_Type</td>\n",
       "      <td>1.016088</td>\n",
       "    </tr>\n",
       "    <tr>\n",
       "      <th>4</th>\n",
       "      <td>Item_MRP</td>\n",
       "      <td>1.002750</td>\n",
       "    </tr>\n",
       "    <tr>\n",
       "      <th>5</th>\n",
       "      <td>Outlet_Identifier</td>\n",
       "      <td>1.661996</td>\n",
       "    </tr>\n",
       "    <tr>\n",
       "      <th>6</th>\n",
       "      <td>Outlet_Size</td>\n",
       "      <td>1.487764</td>\n",
       "    </tr>\n",
       "    <tr>\n",
       "      <th>7</th>\n",
       "      <td>Outlet_Type</td>\n",
       "      <td>1.146191</td>\n",
       "    </tr>\n",
       "  </tbody>\n",
       "</table>\n",
       "</div>"
      ],
      "text/plain": [
       "            Columns        VIF\n",
       "0        Item_Weight  1.002426\n",
       "1   Item_Fat_Content  1.018109\n",
       "2    Item_Visibility  1.003351\n",
       "3          Item_Type  1.016088\n",
       "4           Item_MRP  1.002750\n",
       "5  Outlet_Identifier  1.661996\n",
       "6        Outlet_Size  1.487764\n",
       "7        Outlet_Type  1.146191"
      ]
     },
     "execution_count": 1026,
     "metadata": {},
     "output_type": "execute_result"
    }
   ],
   "source": [
    "vif=pd.DataFrame({'Columns ':X_train_scaled.columns,'VIF':[variance_inflation_factor(X_train_scaled.values,i) for i in range(X_train_scaled.shape[1])]})\n",
    "vif"
   ]
  },
  {
   "cell_type": "code",
   "execution_count": 1027,
   "id": "3jvtkV7Jog3M",
   "metadata": {
    "colab": {
     "base_uri": "https://localhost:8080/"
    },
    "id": "3jvtkV7Jog3M",
    "outputId": "40a614c6-3c31-449e-ef16-1ffb6654f9b4"
   },
   "outputs": [
    {
     "name": "stdout",
     "output_type": "stream",
     "text": [
      "mse -PT   1227054.0330694555\n",
      "Rmse -PT  1107.7247099660888\n",
      "r 2 square-PT  0.4825269984145323\n",
      "\n",
      "train score  0.4668640105722873\n",
      "test score  0.48164438185863556\n"
     ]
    }
   ],
   "source": [
    "lr_model_wt_out=LR.fit(X_train_scaled,y_train)\n",
    "y_pred_wt_out=lr_model_wt_out.predict(X_test_scaled)\n",
    "\n",
    "\n",
    "\n",
    "print('mse -PT  ',mean_squared_error(y_test,y_pred_wt_out))\n",
    "print('Rmse -PT ',np.sqrt(mean_squared_error(y_test,y_pred_wt_out)))\n",
    "\n",
    "print('r 2 square-PT ',r2_score(y_test,y_pred_linear))\n",
    "print()\n",
    "\n",
    "print('train score ',lr_model_wt_out.score(X_train_scaled,y_train))\n",
    "print('test score ',lr_model_wt_out.score(X_test_scaled,y_test))"
   ]
  },
  {
   "cell_type": "code",
   "execution_count": 1028,
   "id": "74165ab2",
   "metadata": {
    "id": "74165ab2"
   },
   "outputs": [],
   "source": [
    "X=df.drop(['Item_Outlet_Sales','Outlet_Location_Type','Outlet_Identifier'] ,axis=1)\n",
    "\n",
    "X_train, X_test, y_train, y_test = train_test_split(X, y, test_size=0.2, random_state=10)\n",
    "\n",
    "X_train_scaled=pd.DataFrame(sc.fit_transform(X_train),columns=X_train.columns)\n",
    "X_test_scaled=pd.DataFrame(sc.transform(X_test),columns=X_test.columns)"
   ]
  },
  {
   "cell_type": "code",
   "execution_count": 1029,
   "id": "ff326911",
   "metadata": {
    "colab": {
     "base_uri": "https://localhost:8080/"
    },
    "id": "ff326911",
    "outputId": "f7ebf1f3-436d-4498-d7e8-046ec1a2ae3a"
   },
   "outputs": [
    {
     "name": "stdout",
     "output_type": "stream",
     "text": [
      "mse -PT   1226513.9423620787\n",
      "Rmse -PT  1107.4808993215543\n",
      "r 2 square-PT  0.4825269984145323\n",
      "\n",
      "train score  0.46684878690947706\n",
      "test score  0.4818725372983551\n"
     ]
    }
   ],
   "source": [
    "lr_model2=LR.fit(X_train_scaled,y_train)\n",
    "y_pred2=lr_model2.predict(X_test_scaled)\n",
    "\n",
    "\n",
    "print('mse -PT  ',mean_squared_error(y_test,y_pred2))\n",
    "print('Rmse -PT ',np.sqrt(mean_squared_error(y_test,y_pred2)))\n",
    "\n",
    "print('r 2 square-PT ',r2_score(y_test,y_pred_linear))\n",
    "print()\n",
    "\n",
    "print('train score ',lr_model2.score(X_train_scaled,y_train))\n",
    "print('test score ',lr_model2.score(X_test_scaled,y_test))"
   ]
  },
  {
   "cell_type": "code",
   "execution_count": 1030,
   "id": "7379fb3d",
   "metadata": {
    "id": "7379fb3d"
   },
   "outputs": [],
   "source": [
    "X=df.loc[:,['Item_Weight', 'Item_Fat_Content', 'Item_Visibility', 'Item_Type',\n",
    "       'Item_MRP']]\n",
    "\n",
    "\n",
    "X_train, X_test, y_train, y_test = train_test_split( X, y, test_size=0.2,random_state=10)\n",
    "\n",
    "\n",
    "X_train_scaled=pd.DataFrame(sc.fit_transform(X_train),columns=X_train.columns)\n",
    "X_test_scaled=pd.DataFrame(sc.transform(X_test),columns=X_test.columns)"
   ]
  },
  {
   "cell_type": "code",
   "execution_count": 1031,
   "id": "183f6510",
   "metadata": {
    "colab": {
     "base_uri": "https://localhost:8080/"
    },
    "id": "183f6510",
    "outputId": "20c868cf-e894-43f4-cc7c-88564c0d2568"
   },
   "outputs": [
    {
     "name": "stdout",
     "output_type": "stream",
     "text": [
      "r 2 square-PT  0.4661098116333767\n",
      "\n",
      "train score  0.4604893482601635\n",
      "test score  0.4661098116333767\n"
     ]
    }
   ],
   "source": [
    "lr_model3=LR.fit(X_train_scaled,y_train)\n",
    "y_pred3=lr_model3.predict(X_test_scaled)\n",
    "\n",
    "\n",
    "print('r 2 square-PT ',r2_score(y_test,y_pred3))\n",
    "print()\n",
    "\n",
    "print('train score ',lr_model3.score(X_train_scaled,y_train))\n",
    "print('test score ',lr_model3.score(X_test_scaled,y_test))\n"
   ]
  },
  {
   "cell_type": "markdown",
   "id": "c16bcabc",
   "metadata": {},
   "source": [
    "# Using Power Transformer"
   ]
  },
  {
   "cell_type": "code",
   "execution_count": 1032,
   "id": "90aae4ab",
   "metadata": {},
   "outputs": [],
   "source": [
    "X=df.drop('Item_Outlet_Sales',axis=1)\n",
    "y=df['Item_Outlet_Sales']\n",
    "\n",
    "\n",
    "#y = ((y - np.mean(y)) / y.std())\n",
    "\n",
    "X_train, X_test, y_train, y_test = train_test_split(X, y, test_size=0.3, random_state=10)\n",
    "\n",
    "X_train_power=pd.DataFrame(PT.fit_transform(X_train),columns=X_train.columns)\n",
    "X_test_power=pd.DataFrame(PT.transform(X_test),columns=X_test.columns)"
   ]
  },
  {
   "cell_type": "code",
   "execution_count": 1033,
   "id": "6960a3fc",
   "metadata": {},
   "outputs": [
    {
     "name": "stdout",
     "output_type": "stream",
     "text": [
      "mse -PT   1124998.3739427149\n",
      "Rmse -PT  1060.659405248789\n",
      "r 2 square-PT  0.4895773238603489\n",
      "\n",
      "train r2 score  0.4609727243946641\n",
      "test r2 score  0.4895773238603489\n"
     ]
    }
   ],
   "source": [
    "lr=LinearRegression()\n",
    "lr_model_pt=lr.fit(X_train_power,y_train)\n",
    "y_pred_linear_pt=lr_model_pt.predict(X_test_power)\n",
    "\n",
    "print('mse -PT  ',mean_squared_error(y_test,y_pred_linear_pt))\n",
    "print('Rmse -PT ',np.sqrt(mean_squared_error(y_test,y_pred_linear_pt)))\n",
    "\n",
    "print('r 2 square-PT ',r2_score(y_test,y_pred_linear_pt))\n",
    "print()\n",
    "\n",
    "print('train r2 score ',lr_model_pt.score(X_train_power,y_train))\n",
    "print('test r2 score ',lr_model_pt.score(X_test_power,y_test))"
   ]
  },
  {
   "cell_type": "markdown",
   "id": "26d29e0f",
   "metadata": {},
   "source": [
    "# Using Only main Features"
   ]
  },
  {
   "cell_type": "code",
   "execution_count": 1034,
   "id": "2a543d3f",
   "metadata": {},
   "outputs": [],
   "source": [
    "X=df.loc[:,['Item_Weight', 'Item_Fat_Content', 'Item_Visibility', 'Item_Type',\n",
    "       'Item_MRP']]\n",
    "y=df['Item_Outlet_Sales']\n",
    "\n",
    "\n",
    "X_train, X_test, y_train, y_test = train_test_split(X, y, test_size=0.3, random_state=10)\n",
    "\n",
    "X_train_power=pd.DataFrame(PT.fit_transform(X_train),columns=X_train.columns)\n",
    "X_test_power=pd.DataFrame(PT.transform(X_test),columns=X_test.columns)"
   ]
  },
  {
   "cell_type": "code",
   "execution_count": 1035,
   "id": "99cfcc05",
   "metadata": {},
   "outputs": [
    {
     "data": {
      "text/plain": [
       "((3255, 5), (3255,))"
      ]
     },
     "execution_count": 1035,
     "metadata": {},
     "output_type": "execute_result"
    }
   ],
   "source": [
    "X_train_power.shape,y_train.shape"
   ]
  },
  {
   "cell_type": "code",
   "execution_count": 1036,
   "id": "f1ff57ef",
   "metadata": {},
   "outputs": [
    {
     "name": "stdout",
     "output_type": "stream",
     "text": [
      "mse -PT   1146469.2464144148\n",
      "Rmse -PT  1070.7330416188784\n",
      "r 2 square-PT  0.4798357807258018\n",
      "\n",
      "train r2 score  0.45163399974758145\n",
      "test r2 score  0.4798357807258018\n"
     ]
    }
   ],
   "source": [
    "lr=LinearRegression()\n",
    "lr_model_pt1=lr.fit(X_train_power,y_train)\n",
    "y_pred_linear_pt1=lr_model_pt1.predict(X_test_power)\n",
    "\n",
    "print('mse -PT  ',mean_squared_error(y_test,y_pred_linear_pt1))\n",
    "print('Rmse -PT ',np.sqrt(mean_squared_error(y_test,y_pred_linear_pt1)))\n",
    "\n",
    "print('r 2 square-PT ',r2_score(y_test,y_pred_linear_pt1))\n",
    "print()\n",
    "\n",
    "print('train r2 score ',lr_model_pt1.score(X_train_power,y_train))\n",
    "print('test r2 score ',lr_model_pt1.score(X_test_power,y_test))"
   ]
  },
  {
   "cell_type": "markdown",
   "id": "18ac29cc",
   "metadata": {
    "id": "18ac29cc"
   },
   "source": [
    "# Using Sequential feature Selection"
   ]
  },
  {
   "cell_type": "markdown",
   "id": "0af50869",
   "metadata": {
    "id": "2bfabef2"
   },
   "source": [
    "from mlxtend.feature_selection import SequentialFeatureSelector as sfs"
   ]
  },
  {
   "cell_type": "markdown",
   "id": "7b0eff8b",
   "metadata": {
    "colab": {
     "base_uri": "https://localhost:8080/"
    },
    "id": "472b16fc",
    "outputId": "cb682b97-0925-499f-e854-9ff5b23d0547"
   },
   "source": [
    "sfs_fwd=sfs(estimator=LR,k_features=5,\n",
    "            scoring='r2',forward=True,verbose=2)\n",
    "\n",
    "sfs_fwd.fit(X=X_train_scaled,y=y_train)"
   ]
  },
  {
   "cell_type": "markdown",
   "id": "cae30476",
   "metadata": {
    "colab": {
     "base_uri": "https://localhost:8080/"
    },
    "id": "1d899ebf",
    "outputId": "d735cb4f-a553-4d1d-f0a3-7760405b9f9d"
   },
   "source": [
    "sfs_fwd.k_feature_names_"
   ]
  },
  {
   "cell_type": "markdown",
   "id": "c7369eef",
   "metadata": {
    "id": "3e9a0dde"
   },
   "source": [
    "from sklearn.model_selection import GridSearchCV"
   ]
  },
  {
   "cell_type": "markdown",
   "id": "6dd81df2",
   "metadata": {
    "id": "6dd81df2"
   },
   "source": [
    "# Using Random Forest "
   ]
  },
  {
   "cell_type": "code",
   "execution_count": 1037,
   "id": "cd39b32a",
   "metadata": {
    "id": "cd39b32a"
   },
   "outputs": [],
   "source": [
    "X=df.loc[:,['Item_Weight', 'Item_Fat_Content', 'Item_Visibility', 'Item_Type',\n",
    "       'Item_MRP']]\n",
    "X_train, X_test, y_train, y_test = train_test_split( X, y, test_size=0.3,random_state=10)"
   ]
  },
  {
   "cell_type": "code",
   "execution_count": 1038,
   "id": "2051f929",
   "metadata": {
    "colab": {
     "base_uri": "https://localhost:8080/"
    },
    "id": "2051f929",
    "outputId": "20b90712-944b-4ebe-bfc8-4dd04b755267"
   },
   "outputs": [
    {
     "name": "stdout",
     "output_type": "stream",
     "text": [
      "mean squared error  1406902.366413102\n",
      "root mean square error  1186.1291525011525\n",
      "Adusted r square  0.3616747476575908\n",
      "\n",
      "train r2 score  0.9051252033681166\n",
      "test r2 score  0.3616747476575908\n"
     ]
    }
   ],
   "source": [
    "from sklearn.ensemble import RandomForestRegressor\n",
    "rfr=RandomForestRegressor(random_state=10)\n",
    "\n",
    "rfr_model=rfr.fit(X_train,y_train)\n",
    "\n",
    "y_pred_rfr=rfr_model.predict(X_test)\n",
    "\n",
    "print('mean squared error ', mean_squared_error(y_test,y_pred_rfr))\n",
    "\n",
    "print('root mean square error ',np.sqrt(mean_squared_error(y_test,y_pred_rfr)))\n",
    "\n",
    "print('Adusted r square ',r2_score(y_test,y_pred_rfr))\n",
    "print()\n",
    "\n",
    "print('train r2 score ',rfr_model.score(X_train,y_train))\n",
    "print('test r2 score ',rfr_model.score(X_test,y_test))"
   ]
  },
  {
   "cell_type": "markdown",
   "id": "d0fb7c97",
   "metadata": {},
   "source": [
    "# Using Ridge and lasso"
   ]
  },
  {
   "cell_type": "code",
   "execution_count": 1039,
   "id": "e1487bf2",
   "metadata": {
    "id": "e1487bf2"
   },
   "outputs": [],
   "source": [
    "from sklearn.linear_model import Ridge,Lasso\n",
    "X=df.drop('Item_Outlet_Sales',axis=1)\n",
    "y=df['Item_Outlet_Sales']\n",
    "\n",
    "X_train, X_test, y_train, y_test = train_test_split( X, y, test_size=0.2,random_state=10)\n",
    "\n",
    "\n",
    "X_train_scaled=pd.DataFrame(sc.fit_transform(X_train),columns=X_train.columns)\n",
    "X_test_scaled=pd.DataFrame(sc.transform(X_test),columns=X_test.columns)"
   ]
  },
  {
   "cell_type": "code",
   "execution_count": 1040,
   "id": "tL7tXQxBfHQM",
   "metadata": {
    "colab": {
     "base_uri": "https://localhost:8080/"
    },
    "id": "tL7tXQxBfHQM",
    "outputId": "fd0d6da3-fcb0-442a-ddcb-dc688115392d"
   },
   "outputs": [
    {
     "name": "stdout",
     "output_type": "stream",
     "text": [
      "mean squared error  1225007.8781188591\n",
      "root mean square error  1106.8007400245353\n",
      "Adusted r square  0.4825087577423741\n",
      "\n",
      "train r2 score  0.4679814115175708\n",
      "test r2 score  0.4825087577423741\n"
     ]
    }
   ],
   "source": [
    "ridge=Ridge(random_state=10,alpha=0.9)\n",
    "ridge_model=ridge.fit(X_train_scaled,y_train)\n",
    "y_pred_ridge=ridge_model.predict(X_test_scaled)\n",
    "\n",
    "print('mean squared error ', mean_squared_error(y_test,y_pred_ridge))\n",
    "\n",
    "print('root mean square error ',np.sqrt(mean_squared_error(y_test,y_pred_ridge)))\n",
    "\n",
    "print('Adusted r square ',r2_score(y_test,y_pred_ridge))\n",
    "print()\n",
    "\n",
    "print('train r2 score ',ridge_model.score(X_train_scaled,y_train))\n",
    "print('test r2 score ',ridge_model.score(X_test_scaled,y_test))"
   ]
  },
  {
   "cell_type": "markdown",
   "id": "8bd96778",
   "metadata": {},
   "source": [
    "# Ridge Tuned "
   ]
  },
  {
   "cell_type": "code",
   "execution_count": 1041,
   "id": "iAFRwuuPfpcl",
   "metadata": {
    "colab": {
     "base_uri": "https://localhost:8080/"
    },
    "id": "iAFRwuuPfpcl",
    "outputId": "1db90ab1-0d5c-4608-d0d6-a5c70f432c5d"
   },
   "outputs": [
    {
     "data": {
      "text/plain": [
       "GridSearchCV(cv=10, estimator=Ridge(random_state=10),\n",
       "             param_grid=[{'alpha': [1e-15, 1e-10, 1e-08, 1e-05, 0.01, 0.1, 0.1,\n",
       "                                    0.2, 0.5, 0.9, 1, 2, 3, 4, 5]}],\n",
       "             scoring='neg_mean_squared_error')"
      ]
     },
     "execution_count": 1041,
     "metadata": {},
     "output_type": "execute_result"
    }
   ],
   "source": [
    "possible_alpha = [{'alpha':[1e-15, 1e-10, 1e-8, 1e-5, 1e-2, \n",
    "                            1e-1, 0.1, 0.2, 0.5, 0.9,1, 2, 3,\n",
    "                           4, 5]}]\n",
    "\n",
    "ridge = Ridge(random_state=10)\n",
    "\n",
    "grid = GridSearchCV(estimator=ridge, param_grid=possible_alpha,\n",
    "                   cv = 10, scoring = \"neg_mean_squared_error\") # RMSE\n",
    "\n",
    "grid.fit(X_train_scaled,y_train)"
   ]
  },
  {
   "cell_type": "code",
   "execution_count": 1042,
   "id": "Jx5s9m0HgVfo",
   "metadata": {
    "colab": {
     "base_uri": "https://localhost:8080/"
    },
    "id": "Jx5s9m0HgVfo",
    "outputId": "55522c00-53a4-4ed5-b9c9-c17518d48930"
   },
   "outputs": [
    {
     "data": {
      "text/plain": [
       "Ridge(alpha=5, random_state=10)"
      ]
     },
     "execution_count": 1042,
     "metadata": {},
     "output_type": "execute_result"
    }
   ],
   "source": [
    "grid.best_estimator_"
   ]
  },
  {
   "cell_type": "code",
   "execution_count": 1043,
   "id": "ybfAZYFvgdgR",
   "metadata": {
    "colab": {
     "base_uri": "https://localhost:8080/"
    },
    "id": "ybfAZYFvgdgR",
    "outputId": "2b41ebdf-712b-419e-d9b1-bb497f37a480"
   },
   "outputs": [
    {
     "name": "stdout",
     "output_type": "stream",
     "text": [
      "mean squared error  1225212.9669289999\n",
      "root mean square error  1106.8933855295188\n",
      "Adusted r square  0.4824221202071969\n",
      "\n",
      "train r2 score  0.46797581632123486\n",
      "test r2 score  0.4824221202071969\n"
     ]
    }
   ],
   "source": [
    "ridge_tuned=Ridge(alpha=5, copy_X=True, fit_intercept=True, max_iter=None, normalize=False,\n",
    "      random_state=10, solver='auto', tol=0.001)\n",
    "ridge_model_tuned=ridge_tuned.fit(X_train_scaled,y_train)\n",
    "y_pred__ridge_tuned=ridge_model_tuned.predict(X_test_scaled)\n",
    "\n",
    "print('mean squared error ', mean_squared_error(y_test,y_pred__ridge_tuned))\n",
    "\n",
    "print('root mean square error ',np.sqrt(mean_squared_error(y_test,y_pred__ridge_tuned)))\n",
    "\n",
    "print('Adusted r square ',r2_score(y_test,y_pred__ridge_tuned))\n",
    "print()\n",
    "\n",
    "print('train r2 score ',ridge_model_tuned.score(X_train_scaled,y_train))\n",
    "print('test r2 score ',ridge_model_tuned.score(X_test_scaled,y_test))"
   ]
  },
  {
   "cell_type": "markdown",
   "id": "ade1e2d0",
   "metadata": {},
   "source": [
    "# Lasso"
   ]
  },
  {
   "cell_type": "code",
   "execution_count": 1044,
   "id": "3EOVdHWshF0O",
   "metadata": {
    "colab": {
     "base_uri": "https://localhost:8080/"
    },
    "id": "3EOVdHWshF0O",
    "outputId": "cea7a759-5b05-40ff-d1a1-e6b5bd6b91a6"
   },
   "outputs": [
    {
     "name": "stdout",
     "output_type": "stream",
     "text": [
      "mean squared error  1225327.4930784726\n",
      "root mean square error  1106.9451174644896\n",
      "Adusted r square  0.48237373988212284\n",
      "\n",
      "train r2 score  0.46791554132853086\n",
      "test r2 score  0.48237373988212284\n",
      "RMSE test VALUE: 1067.663\n"
     ]
    }
   ],
   "source": [
    "lasso=Lasso(random_state=10)\n",
    "lasso_model=lasso.fit(X_train_scaled,y_train)\n",
    "y_pred_lasso=lasso_model.predict(X_test_scaled)\n",
    "\n",
    "print('mean squared error ', mean_squared_error(y_test,y_pred_lasso))\n",
    "\n",
    "print('root mean square error ',np.sqrt(mean_squared_error(y_test,y_pred_lasso)))\n",
    "\n",
    "print('Adusted r square ',r2_score(y_test,y_pred_lasso))\n",
    "print()\n",
    "\n",
    "print('train r2 score ',lasso_model.score(X_train_scaled,y_train))\n",
    "print('test r2 score ',lasso_model.score(X_test_scaled,y_test))\n",
    "print(\"RMSE test VALUE:\", rmse_test)"
   ]
  },
  {
   "cell_type": "markdown",
   "id": "6becc4f6",
   "metadata": {},
   "source": [
    "# Lasso Tuned"
   ]
  },
  {
   "cell_type": "code",
   "execution_count": 1045,
   "id": "jPXBd93NmBF_",
   "metadata": {
    "colab": {
     "base_uri": "https://localhost:8080/"
    },
    "id": "jPXBd93NmBF_",
    "outputId": "480632cb-30c1-4fc7-9528-426bf4806b01"
   },
   "outputs": [
    {
     "name": "stderr",
     "output_type": "stream",
     "text": [
      "C:\\Users\\Naman\\anaconda3\\lib\\site-packages\\sklearn\\linear_model\\_coordinate_descent.py:530: ConvergenceWarning: Objective did not converge. You might want to increase the number of iterations. Duality gap: 1963747443.0414371, tolerance: 749377.7924852028\n",
      "  model = cd_fast.enet_coordinate_descent(\n",
      "C:\\Users\\Naman\\anaconda3\\lib\\site-packages\\sklearn\\linear_model\\_coordinate_descent.py:530: ConvergenceWarning: Objective did not converge. You might want to increase the number of iterations. Duality gap: 1923519483.18609, tolerance: 750981.8268604842\n",
      "  model = cd_fast.enet_coordinate_descent(\n",
      "C:\\Users\\Naman\\anaconda3\\lib\\site-packages\\sklearn\\linear_model\\_coordinate_descent.py:530: ConvergenceWarning: Objective did not converge. You might want to increase the number of iterations. Duality gap: 1833702674.7981594, tolerance: 718945.6902476575\n",
      "  model = cd_fast.enet_coordinate_descent(\n",
      "C:\\Users\\Naman\\anaconda3\\lib\\site-packages\\sklearn\\linear_model\\_coordinate_descent.py:530: ConvergenceWarning: Objective did not converge. You might want to increase the number of iterations. Duality gap: 1822518040.5725288, tolerance: 743134.6066799862\n",
      "  model = cd_fast.enet_coordinate_descent(\n",
      "C:\\Users\\Naman\\anaconda3\\lib\\site-packages\\sklearn\\linear_model\\_coordinate_descent.py:530: ConvergenceWarning: Objective did not converge. You might want to increase the number of iterations. Duality gap: 1917439687.4325805, tolerance: 746229.6358516457\n",
      "  model = cd_fast.enet_coordinate_descent(\n",
      "C:\\Users\\Naman\\anaconda3\\lib\\site-packages\\sklearn\\linear_model\\_coordinate_descent.py:530: ConvergenceWarning: Objective did not converge. You might want to increase the number of iterations. Duality gap: 1946682583.6902323, tolerance: 745691.096294052\n",
      "  model = cd_fast.enet_coordinate_descent(\n",
      "C:\\Users\\Naman\\anaconda3\\lib\\site-packages\\sklearn\\linear_model\\_coordinate_descent.py:530: ConvergenceWarning: Objective did not converge. You might want to increase the number of iterations. Duality gap: 1821406350.811858, tolerance: 731436.8722449202\n",
      "  model = cd_fast.enet_coordinate_descent(\n",
      "C:\\Users\\Naman\\anaconda3\\lib\\site-packages\\sklearn\\linear_model\\_coordinate_descent.py:530: ConvergenceWarning: Objective did not converge. You might want to increase the number of iterations. Duality gap: 1937446761.947878, tolerance: 744702.6843466731\n",
      "  model = cd_fast.enet_coordinate_descent(\n",
      "C:\\Users\\Naman\\anaconda3\\lib\\site-packages\\sklearn\\linear_model\\_coordinate_descent.py:530: ConvergenceWarning: Objective did not converge. You might want to increase the number of iterations. Duality gap: 1814602059.7568924, tolerance: 733607.6354289944\n",
      "  model = cd_fast.enet_coordinate_descent(\n",
      "C:\\Users\\Naman\\anaconda3\\lib\\site-packages\\sklearn\\linear_model\\_coordinate_descent.py:530: ConvergenceWarning: Objective did not converge. You might want to increase the number of iterations. Duality gap: 1954827882.5226843, tolerance: 739910.9184446742\n",
      "  model = cd_fast.enet_coordinate_descent(\n"
     ]
    },
    {
     "data": {
      "text/plain": [
       "GridSearchCV(cv=10, estimator=Lasso(),\n",
       "             param_grid=[{'alpha': [1e-15, 1e-10, 1e-08, 1e-05, 0.01, 0.1, 0.1,\n",
       "                                    0.2, 0.5, 0.9, 1, 2, 3, 4, 5, 6, 8, 10, 11,\n",
       "                                    14, 15, 18, 19, 20, 21, 23]}],\n",
       "             scoring='neg_mean_squared_error')"
      ]
     },
     "execution_count": 1045,
     "metadata": {},
     "output_type": "execute_result"
    }
   ],
   "source": [
    "possible_alpha = [{'alpha':[1e-15, 1e-10, 1e-8, 1e-5, 1e-2, \n",
    "                            1e-1, 0.1, 0.2, 0.5, 0.9,1, 2, 3,\n",
    "                           4, 5,6,8,10,11,14,15,18,19,20,21,23]}]\n",
    "\n",
    "lasso = Lasso()\n",
    "\n",
    "grid = GridSearchCV(estimator=lasso, param_grid=possible_alpha,\n",
    "                   cv = 10, scoring = \"neg_mean_squared_error\") # RMSE\n",
    "\n",
    "grid.fit(X_train_scaled,y_train)"
   ]
  },
  {
   "cell_type": "code",
   "execution_count": 1046,
   "id": "zE0o8SC-mPXw",
   "metadata": {
    "colab": {
     "base_uri": "https://localhost:8080/"
    },
    "id": "zE0o8SC-mPXw",
    "outputId": "da821ba7-3927-4c87-b2c2-de436fc4c3e3"
   },
   "outputs": [
    {
     "data": {
      "text/plain": [
       "{'alpha': 18}"
      ]
     },
     "execution_count": 1046,
     "metadata": {},
     "output_type": "execute_result"
    }
   ],
   "source": [
    "grid.best_params_"
   ]
  },
  {
   "cell_type": "code",
   "execution_count": 1047,
   "id": "HS5KrvEhmbKQ",
   "metadata": {
    "colab": {
     "base_uri": "https://localhost:8080/"
    },
    "id": "HS5KrvEhmbKQ",
    "outputId": "e111ee64-8a49-4d74-a0e3-5e599028fb89"
   },
   "outputs": [
    {
     "name": "stdout",
     "output_type": "stream",
     "text": [
      "mean squared error  1233157.9626991006\n",
      "root mean square error  1110.4764575168176\n",
      "Adusted r square  0.4790658432360524\n",
      "\n",
      "train r2 score  0.4662603923576659\n",
      "test r2 score  0.4790658432360524\n"
     ]
    }
   ],
   "source": [
    "lasso_tuned=Lasso(random_state=10,alpha=18)\n",
    "lasso_model_tuned=lasso_tuned.fit(X_train_scaled,y_train)\n",
    "y_pred_lasso_tune=lasso_model_tuned.predict(X_test_scaled)\n",
    "\n",
    "print('mean squared error ', mean_squared_error(y_test,y_pred_lasso_tune))\n",
    "\n",
    "print('root mean square error ',np.sqrt(mean_squared_error(y_test,y_pred_lasso_tune)))\n",
    "\n",
    "print('Adusted r square ',r2_score(y_test,y_pred_lasso_tune))\n",
    "print()\n",
    "\n",
    "print('train r2 score ',lasso_model_tuned.score(X_train_scaled,y_train))\n",
    "print('test r2 score ',lasso_model_tuned.score(X_test_scaled,y_test))\n"
   ]
  },
  {
   "cell_type": "markdown",
   "id": "fd063afd",
   "metadata": {},
   "source": [
    "# Sgd Regressor "
   ]
  },
  {
   "cell_type": "code",
   "execution_count": 1048,
   "id": "HkpPF2zg0KqA",
   "metadata": {
    "id": "HkpPF2zg0KqA"
   },
   "outputs": [],
   "source": [
    "from sklearn.linear_model import SGDRegressor"
   ]
  },
  {
   "cell_type": "code",
   "execution_count": 1049,
   "id": "JiWjvitD1WNI",
   "metadata": {
    "colab": {
     "base_uri": "https://localhost:8080/"
    },
    "id": "JiWjvitD1WNI",
    "outputId": "9c3d374e-95a4-4c6c-a479-e7a2ef9db20f"
   },
   "outputs": [
    {
     "name": "stdout",
     "output_type": "stream",
     "text": [
      "mean squared error  1229834.2680755244\n",
      "root mean square error  1108.978930401982\n",
      "Adusted r square  0.4790658432360524\n",
      "\n",
      "train r2 score  0.4672932374003458\n",
      "test r2 score  0.4804699018469085\n"
     ]
    }
   ],
   "source": [
    "sgd=SGDRegressor(random_state=10)\n",
    "sgd_model=sgd.fit(X_train_scaled,y_train)\n",
    "y_pred_sgd=sgd_model.predict(X_test_scaled)\n",
    "\n",
    "\n",
    "train_pred = sgd_model.predict(X_train_scaled)\n",
    "\n",
    "print('mean squared error ', mean_squared_error(y_test,y_pred_sgd))\n",
    "\n",
    "print('root mean square error ',np.sqrt(mean_squared_error(y_test,y_pred_sgd)))\n",
    "\n",
    "print('Adusted r square ',r2_score(y_test,y_pred_lasso_tune))\n",
    "print()\n",
    "\n",
    "print('train r2 score ',sgd_model.score(X_train_scaled,y_train))\n",
    "print('test r2 score ',sgd_model.score(X_test_scaled,y_test))"
   ]
  },
  {
   "cell_type": "markdown",
   "id": "709f1a3a",
   "metadata": {},
   "source": [
    "# Pipeline"
   ]
  },
  {
   "cell_type": "code",
   "execution_count": 1050,
   "id": "7707583d",
   "metadata": {},
   "outputs": [
    {
     "name": "stdout",
     "output_type": "stream",
     "text": [
      "train r 2 score  0.4679904617188646\n",
      "test r2  score  0.4817598283560993\n",
      "[0.50170384 0.45513249 0.42509704 0.46852237 0.45957789 0.43762992\n",
      " 0.48927012 0.48851479 0.44134467 0.48223489]\n",
      "\n",
      "average r2 score  0.4649028009511068\n"
     ]
    }
   ],
   "source": [
    "from sklearn.pipeline import Pipeline\n",
    "pipe=Pipeline((\n",
    "('sc',StandardScaler()), \n",
    "('pt',PowerTransformer()),\n",
    "('lr',LinearRegression()),))\n",
    "\n",
    "pipe.fit(X_train,y_train)\n",
    "\n",
    "print('train r 2 score ',pipe.score(X_train,y_train))\n",
    "print('test r2  score ',pipe.score(X_test,y_test))\n",
    "\n",
    "print(cross_val_score(pipe,X=X_train,y=y_train,cv=10))\n",
    "print()\n",
    "print('average r2 score ',np.mean(cross_val_score(pipe,X=X_train,y=y_train,cv=10)))"
   ]
  },
  {
   "cell_type": "code",
   "execution_count": 1051,
   "id": "93362f54",
   "metadata": {},
   "outputs": [
    {
     "name": "stdout",
     "output_type": "stream",
     "text": [
      "train r 2 score  0.4661985102053833\n",
      "test r2  score  0.4785076392869295\n"
     ]
    }
   ],
   "source": [
    "from sklearn.pipeline import Pipeline\n",
    "pipe=Pipeline((\n",
    "('pt',PowerTransformer()),\n",
    "('lr',LinearRegression()),))\n",
    "\n",
    "pipe.fit(X_train,y_train)\n",
    "\n",
    "print('train r 2 score ',pipe.score(X_train,y_train))\n",
    "print('test r2  score ',pipe.score(X_test,y_test))"
   ]
  },
  {
   "cell_type": "code",
   "execution_count": 1052,
   "id": "2ee0a426",
   "metadata": {},
   "outputs": [
    {
     "name": "stdout",
     "output_type": "stream",
     "text": [
      "mse -PT   1224964.6987077477\n",
      "Rmse -PT  1106.7812334457735\n",
      "r 2 square-PT  0.4825269984145323\n",
      "\n",
      "train score  0.46798161746533884\n",
      "test score  0.4825269984145323\n"
     ]
    }
   ],
   "source": [
    "X=df.drop('Item_Outlet_Sales',axis=1)\n",
    "y=df['Item_Outlet_Sales']\n",
    "\n",
    "\n",
    "X_train, X_test, y_train, y_test = train_test_split(X, y, test_size=0.2, random_state=10)\n",
    "#y = (y - y.mean()) / y.std()\n",
    "\n",
    "from sklearn.linear_model import LinearRegression \n",
    "lr=LinearRegression()\n",
    "\n",
    "#X_train_scaled=pd.DataFrame(sc.fit_transform(X_train),columns=X_train.columns)\n",
    "#X_test_scaled=pd.DataFrame(sc.transform(X_test),columns=X_test.columns)\n",
    "\n",
    "\n",
    "lr=LinearRegression()\n",
    "lr_model=lr.fit(X_train,y_train)\n",
    "y_pred_linear=lr_model.predict(X_test)\n",
    "\n",
    "print('mse -PT  ',mean_squared_error(y_test,y_pred_linear))\n",
    "print('Rmse -PT ',np.sqrt(mean_squared_error(y_test,y_pred_linear)))\n",
    "\n",
    "print('r 2 square-PT ',r2_score(y_test,y_pred_linear))\n",
    "print()\n",
    "\n",
    "print('train score ',lr_model.score(X_train,y_train))\n",
    "print('test score ',lr_model.score(X_test,y_test))"
   ]
  },
  {
   "cell_type": "code",
   "execution_count": 1053,
   "id": "87537c14",
   "metadata": {},
   "outputs": [
    {
     "data": {
      "text/html": [
       "<div>\n",
       "<style scoped>\n",
       "    .dataframe tbody tr th:only-of-type {\n",
       "        vertical-align: middle;\n",
       "    }\n",
       "\n",
       "    .dataframe tbody tr th {\n",
       "        vertical-align: top;\n",
       "    }\n",
       "\n",
       "    .dataframe thead th {\n",
       "        text-align: right;\n",
       "    }\n",
       "</style>\n",
       "<table border=\"1\" class=\"dataframe\">\n",
       "  <thead>\n",
       "    <tr style=\"text-align: right;\">\n",
       "      <th></th>\n",
       "      <th>Item_Weight</th>\n",
       "      <th>Item_Fat_Content</th>\n",
       "      <th>Item_Visibility</th>\n",
       "      <th>Item_Type</th>\n",
       "      <th>Item_MRP</th>\n",
       "      <th>Outlet_Identifier</th>\n",
       "      <th>Outlet_Size</th>\n",
       "      <th>Outlet_Location_Type</th>\n",
       "      <th>Outlet_Type</th>\n",
       "    </tr>\n",
       "    <tr>\n",
       "      <th>Item_Identifier</th>\n",
       "      <th></th>\n",
       "      <th></th>\n",
       "      <th></th>\n",
       "      <th></th>\n",
       "      <th></th>\n",
       "      <th></th>\n",
       "      <th></th>\n",
       "      <th></th>\n",
       "      <th></th>\n",
       "    </tr>\n",
       "  </thead>\n",
       "  <tbody>\n",
       "    <tr>\n",
       "      <th>FDX15</th>\n",
       "      <td>17.200</td>\n",
       "      <td>1</td>\n",
       "      <td>0.156299</td>\n",
       "      <td>10</td>\n",
       "      <td>162.1578</td>\n",
       "      <td>3</td>\n",
       "      <td>2</td>\n",
       "      <td>0</td>\n",
       "      <td>0</td>\n",
       "    </tr>\n",
       "    <tr>\n",
       "      <th>FDD44</th>\n",
       "      <td>8.050</td>\n",
       "      <td>2</td>\n",
       "      <td>0.078522</td>\n",
       "      <td>6</td>\n",
       "      <td>257.1646</td>\n",
       "      <td>4</td>\n",
       "      <td>1</td>\n",
       "      <td>0</td>\n",
       "      <td>0</td>\n",
       "    </tr>\n",
       "    <tr>\n",
       "      <th>DRH03</th>\n",
       "      <td>17.250</td>\n",
       "      <td>3</td>\n",
       "      <td>0.035119</td>\n",
       "      <td>4</td>\n",
       "      <td>93.4120</td>\n",
       "      <td>4</td>\n",
       "      <td>1</td>\n",
       "      <td>0</td>\n",
       "      <td>0</td>\n",
       "    </tr>\n",
       "    <tr>\n",
       "      <th>FDP44</th>\n",
       "      <td>16.500</td>\n",
       "      <td>2</td>\n",
       "      <td>0.079699</td>\n",
       "      <td>6</td>\n",
       "      <td>100.6332</td>\n",
       "      <td>2</td>\n",
       "      <td>2</td>\n",
       "      <td>1</td>\n",
       "      <td>0</td>\n",
       "    </tr>\n",
       "    <tr>\n",
       "      <th>FDE29</th>\n",
       "      <td>8.905</td>\n",
       "      <td>0</td>\n",
       "      <td>0.143129</td>\n",
       "      <td>5</td>\n",
       "      <td>58.8878</td>\n",
       "      <td>3</td>\n",
       "      <td>2</td>\n",
       "      <td>0</td>\n",
       "      <td>0</td>\n",
       "    </tr>\n",
       "    <tr>\n",
       "      <th>...</th>\n",
       "      <td>...</td>\n",
       "      <td>...</td>\n",
       "      <td>...</td>\n",
       "      <td>...</td>\n",
       "      <td>...</td>\n",
       "      <td>...</td>\n",
       "      <td>...</td>\n",
       "      <td>...</td>\n",
       "      <td>...</td>\n",
       "    </tr>\n",
       "    <tr>\n",
       "      <th>FDF09</th>\n",
       "      <td>6.215</td>\n",
       "      <td>1</td>\n",
       "      <td>0.012139</td>\n",
       "      <td>6</td>\n",
       "      <td>39.2848</td>\n",
       "      <td>0</td>\n",
       "      <td>0</td>\n",
       "      <td>2</td>\n",
       "      <td>0</td>\n",
       "    </tr>\n",
       "    <tr>\n",
       "      <th>FDG21</th>\n",
       "      <td>17.350</td>\n",
       "      <td>2</td>\n",
       "      <td>0.146527</td>\n",
       "      <td>12</td>\n",
       "      <td>147.9050</td>\n",
       "      <td>4</td>\n",
       "      <td>1</td>\n",
       "      <td>0</td>\n",
       "      <td>0</td>\n",
       "    </tr>\n",
       "    <tr>\n",
       "      <th>FDB49</th>\n",
       "      <td>8.300</td>\n",
       "      <td>2</td>\n",
       "      <td>0.030198</td>\n",
       "      <td>0</td>\n",
       "      <td>98.2384</td>\n",
       "      <td>4</td>\n",
       "      <td>1</td>\n",
       "      <td>0</td>\n",
       "      <td>0</td>\n",
       "    </tr>\n",
       "    <tr>\n",
       "      <th>NCS17</th>\n",
       "      <td>18.600</td>\n",
       "      <td>1</td>\n",
       "      <td>0.080627</td>\n",
       "      <td>8</td>\n",
       "      <td>92.5436</td>\n",
       "      <td>4</td>\n",
       "      <td>1</td>\n",
       "      <td>0</td>\n",
       "      <td>0</td>\n",
       "    </tr>\n",
       "    <tr>\n",
       "      <th>FDG29</th>\n",
       "      <td>17.600</td>\n",
       "      <td>1</td>\n",
       "      <td>0.056292</td>\n",
       "      <td>5</td>\n",
       "      <td>42.5454</td>\n",
       "      <td>3</td>\n",
       "      <td>2</td>\n",
       "      <td>0</td>\n",
       "      <td>0</td>\n",
       "    </tr>\n",
       "  </tbody>\n",
       "</table>\n",
       "<p>3720 rows × 9 columns</p>\n",
       "</div>"
      ],
      "text/plain": [
       "                 Item_Weight  Item_Fat_Content  Item_Visibility  Item_Type  \\\n",
       "Item_Identifier                                                              \n",
       "FDX15                 17.200                 1         0.156299         10   \n",
       "FDD44                  8.050                 2         0.078522          6   \n",
       "DRH03                 17.250                 3         0.035119          4   \n",
       "FDP44                 16.500                 2         0.079699          6   \n",
       "FDE29                  8.905                 0         0.143129          5   \n",
       "...                      ...               ...              ...        ...   \n",
       "FDF09                  6.215                 1         0.012139          6   \n",
       "FDG21                 17.350                 2         0.146527         12   \n",
       "FDB49                  8.300                 2         0.030198          0   \n",
       "NCS17                 18.600                 1         0.080627          8   \n",
       "FDG29                 17.600                 1         0.056292          5   \n",
       "\n",
       "                 Item_MRP  Outlet_Identifier  Outlet_Size  \\\n",
       "Item_Identifier                                             \n",
       "FDX15            162.1578                  3            2   \n",
       "FDD44            257.1646                  4            1   \n",
       "DRH03             93.4120                  4            1   \n",
       "FDP44            100.6332                  2            2   \n",
       "FDE29             58.8878                  3            2   \n",
       "...                   ...                ...          ...   \n",
       "FDF09             39.2848                  0            0   \n",
       "FDG21            147.9050                  4            1   \n",
       "FDB49             98.2384                  4            1   \n",
       "NCS17             92.5436                  4            1   \n",
       "FDG29             42.5454                  3            2   \n",
       "\n",
       "                 Outlet_Location_Type  Outlet_Type  \n",
       "Item_Identifier                                     \n",
       "FDX15                               0            0  \n",
       "FDD44                               0            0  \n",
       "DRH03                               0            0  \n",
       "FDP44                               1            0  \n",
       "FDE29                               0            0  \n",
       "...                               ...          ...  \n",
       "FDF09                               2            0  \n",
       "FDG21                               0            0  \n",
       "FDB49                               0            0  \n",
       "NCS17                               0            0  \n",
       "FDG29                               0            0  \n",
       "\n",
       "[3720 rows x 9 columns]"
      ]
     },
     "execution_count": 1053,
     "metadata": {},
     "output_type": "execute_result"
    }
   ],
   "source": [
    "X_train"
   ]
  },
  {
   "cell_type": "markdown",
   "id": "ec4218ef",
   "metadata": {
    "id": "ZJNWTDR414mI"
   },
   "source": [
    "# Test Data "
   ]
  },
  {
   "cell_type": "code",
   "execution_count": 1054,
   "id": "abc3e188",
   "metadata": {},
   "outputs": [
    {
     "data": {
      "text/html": [
       "<div>\n",
       "<style scoped>\n",
       "    .dataframe tbody tr th:only-of-type {\n",
       "        vertical-align: middle;\n",
       "    }\n",
       "\n",
       "    .dataframe tbody tr th {\n",
       "        vertical-align: top;\n",
       "    }\n",
       "\n",
       "    .dataframe thead th {\n",
       "        text-align: right;\n",
       "    }\n",
       "</style>\n",
       "<table border=\"1\" class=\"dataframe\">\n",
       "  <thead>\n",
       "    <tr style=\"text-align: right;\">\n",
       "      <th></th>\n",
       "      <th>Item_Identifier</th>\n",
       "      <th>Item_Weight</th>\n",
       "      <th>Item_Fat_Content</th>\n",
       "      <th>Item_Visibility</th>\n",
       "      <th>Item_Type</th>\n",
       "      <th>Item_MRP</th>\n",
       "      <th>Outlet_Identifier</th>\n",
       "      <th>Outlet_Establishment_Year</th>\n",
       "      <th>Outlet_Size</th>\n",
       "      <th>Outlet_Location_Type</th>\n",
       "      <th>Outlet_Type</th>\n",
       "    </tr>\n",
       "  </thead>\n",
       "  <tbody>\n",
       "    <tr>\n",
       "      <th>0</th>\n",
       "      <td>FDW58</td>\n",
       "      <td>20.750</td>\n",
       "      <td>Low Fat</td>\n",
       "      <td>0.007565</td>\n",
       "      <td>Snack Foods</td>\n",
       "      <td>107.8622</td>\n",
       "      <td>OUT049</td>\n",
       "      <td>1999</td>\n",
       "      <td>Medium</td>\n",
       "      <td>Tier 1</td>\n",
       "      <td>Supermarket Type1</td>\n",
       "    </tr>\n",
       "    <tr>\n",
       "      <th>1</th>\n",
       "      <td>FDW14</td>\n",
       "      <td>8.300</td>\n",
       "      <td>reg</td>\n",
       "      <td>0.038428</td>\n",
       "      <td>Dairy</td>\n",
       "      <td>87.3198</td>\n",
       "      <td>OUT017</td>\n",
       "      <td>2007</td>\n",
       "      <td>NaN</td>\n",
       "      <td>Tier 2</td>\n",
       "      <td>Supermarket Type1</td>\n",
       "    </tr>\n",
       "    <tr>\n",
       "      <th>2</th>\n",
       "      <td>NCN55</td>\n",
       "      <td>14.600</td>\n",
       "      <td>Low Fat</td>\n",
       "      <td>0.099575</td>\n",
       "      <td>Others</td>\n",
       "      <td>241.7538</td>\n",
       "      <td>OUT010</td>\n",
       "      <td>1998</td>\n",
       "      <td>NaN</td>\n",
       "      <td>Tier 3</td>\n",
       "      <td>Grocery Store</td>\n",
       "    </tr>\n",
       "    <tr>\n",
       "      <th>3</th>\n",
       "      <td>FDQ58</td>\n",
       "      <td>7.315</td>\n",
       "      <td>Low Fat</td>\n",
       "      <td>0.015388</td>\n",
       "      <td>Snack Foods</td>\n",
       "      <td>155.0340</td>\n",
       "      <td>OUT017</td>\n",
       "      <td>2007</td>\n",
       "      <td>NaN</td>\n",
       "      <td>Tier 2</td>\n",
       "      <td>Supermarket Type1</td>\n",
       "    </tr>\n",
       "    <tr>\n",
       "      <th>4</th>\n",
       "      <td>FDY38</td>\n",
       "      <td>NaN</td>\n",
       "      <td>Regular</td>\n",
       "      <td>0.118599</td>\n",
       "      <td>Dairy</td>\n",
       "      <td>234.2300</td>\n",
       "      <td>OUT027</td>\n",
       "      <td>1985</td>\n",
       "      <td>Medium</td>\n",
       "      <td>Tier 3</td>\n",
       "      <td>Supermarket Type3</td>\n",
       "    </tr>\n",
       "  </tbody>\n",
       "</table>\n",
       "</div>"
      ],
      "text/plain": [
       "  Item_Identifier  Item_Weight Item_Fat_Content  Item_Visibility    Item_Type  \\\n",
       "0           FDW58       20.750          Low Fat         0.007565  Snack Foods   \n",
       "1           FDW14        8.300              reg         0.038428        Dairy   \n",
       "2           NCN55       14.600          Low Fat         0.099575       Others   \n",
       "3           FDQ58        7.315          Low Fat         0.015388  Snack Foods   \n",
       "4           FDY38          NaN          Regular         0.118599        Dairy   \n",
       "\n",
       "   Item_MRP Outlet_Identifier  Outlet_Establishment_Year Outlet_Size  \\\n",
       "0  107.8622            OUT049                       1999      Medium   \n",
       "1   87.3198            OUT017                       2007         NaN   \n",
       "2  241.7538            OUT010                       1998         NaN   \n",
       "3  155.0340            OUT017                       2007         NaN   \n",
       "4  234.2300            OUT027                       1985      Medium   \n",
       "\n",
       "  Outlet_Location_Type        Outlet_Type  \n",
       "0               Tier 1  Supermarket Type1  \n",
       "1               Tier 2  Supermarket Type1  \n",
       "2               Tier 3      Grocery Store  \n",
       "3               Tier 2  Supermarket Type1  \n",
       "4               Tier 3  Supermarket Type3  "
      ]
     },
     "execution_count": 1054,
     "metadata": {},
     "output_type": "execute_result"
    }
   ],
   "source": [
    "test=pd.read_csv('C:/Users/Naman/Downloads/naman python/ana lytics/loan prediction/bigmart sales/test_AbJTz2l (1).csv')\n",
    "test.head()  "
   ]
  },
  {
   "cell_type": "code",
   "execution_count": 1055,
   "id": "53379b0b",
   "metadata": {},
   "outputs": [
    {
     "data": {
      "text/plain": [
       "Item_Identifier                 0\n",
       "Item_Weight                   976\n",
       "Item_Fat_Content                0\n",
       "Item_Visibility                 0\n",
       "Item_Type                       0\n",
       "Item_MRP                        0\n",
       "Outlet_Identifier               0\n",
       "Outlet_Establishment_Year       0\n",
       "Outlet_Size                  1606\n",
       "Outlet_Location_Type            0\n",
       "Outlet_Type                     0\n",
       "dtype: int64"
      ]
     },
     "execution_count": 1055,
     "metadata": {},
     "output_type": "execute_result"
    }
   ],
   "source": [
    "test.isnull().sum()"
   ]
  },
  {
   "cell_type": "code",
   "execution_count": 1056,
   "id": "38eb0e45",
   "metadata": {},
   "outputs": [],
   "source": [
    "test.set_index('Item_Identifier',inplace=True)"
   ]
  },
  {
   "cell_type": "code",
   "execution_count": 1057,
   "id": "70a9cef1",
   "metadata": {},
   "outputs": [
    {
     "data": {
      "text/plain": [
       "(5681, 10)"
      ]
     },
     "execution_count": 1057,
     "metadata": {},
     "output_type": "execute_result"
    }
   ],
   "source": [
    "test.shape"
   ]
  },
  {
   "cell_type": "code",
   "execution_count": 1058,
   "id": "19238415",
   "metadata": {},
   "outputs": [
    {
     "data": {
      "text/plain": [
       "(array([1, 2, 3, 4]),\n",
       " [Text(1, 0, 'Item_Weight'),\n",
       "  Text(2, 0, 'Item_Visibility'),\n",
       "  Text(3, 0, 'Item_MRP'),\n",
       "  Text(4, 0, 'Outlet_Establishment_Year')])"
      ]
     },
     "execution_count": 1058,
     "metadata": {},
     "output_type": "execute_result"
    },
    {
     "data": {
      "image/png": "[encoded data removed]",
      "text/plain": [
       "<Figure size 576x432 with 1 Axes>"
      ]
     },
     "metadata": {
      "needs_background": "light"
     },
     "output_type": "display_data"
    }
   ],
   "source": [
    "\n",
    "plt.figure(figsize=[8,6])\n",
    "test.boxplot()\n",
    "plt.xticks(rotation=90)"
   ]
  },
  {
   "cell_type": "markdown",
   "id": "21476e5f",
   "metadata": {},
   "source": [
    "q1=test.quantile(0.25)\n",
    "q3=test.quantile(0.75)\n",
    "iqr=q3-q1\n",
    "\n",
    "ll=q1-1.5*iqr\n",
    "ul=q3+1.5*iqr\n",
    "\n",
    "test=test[~((test >ul ) | ( test <ll )).any(axis=1)]"
   ]
  },
  {
   "cell_type": "code",
   "execution_count": 1059,
   "id": "fabca7af",
   "metadata": {},
   "outputs": [
    {
     "data": {
      "text/plain": [
       "(array([1, 2, 3, 4]),\n",
       " [Text(1, 0, 'Item_Weight'),\n",
       "  Text(2, 0, 'Item_Visibility'),\n",
       "  Text(3, 0, 'Item_MRP'),\n",
       "  Text(4, 0, 'Outlet_Establishment_Year')])"
      ]
     },
     "execution_count": 1059,
     "metadata": {},
     "output_type": "execute_result"
    },
    {
     "data": {
      "image/png": "[encoded data removed]",
      "text/plain": [
       "<Figure size 576x432 with 1 Axes>"
      ]
     },
     "metadata": {
      "needs_background": "light"
     },
     "output_type": "display_data"
    }
   ],
   "source": [
    "\n",
    "plt.figure(figsize=[8,6])\n",
    "test.boxplot()\n",
    "plt.xticks(rotation=90)"
   ]
  },
  {
   "cell_type": "code",
   "execution_count": 1060,
   "id": "8c95cf96",
   "metadata": {},
   "outputs": [],
   "source": [
    "from sklearn.preprocessing import LabelEncoder\n",
    "le=LabelEncoder()\n",
    "\n",
    "test.Item_Fat_Content=le.fit_transform(test.Item_Fat_Content)\n",
    "test.Item_Type=le.fit_transform(test.Item_Type)\n",
    "#test.Outlet_Identifier=le.fit_transform(test.Outlet_Identifier)\n",
    "test.Outlet_Size=le.fit_transform(test.Outlet_Size)\n",
    "test.Outlet_Location_Type=le.fit_transform(test.Outlet_Location_Type)\n",
    "test.Outlet_Type=le.fit_transform(test.Outlet_Type)"
   ]
  },
  {
   "cell_type": "code",
   "execution_count": 1061,
   "id": "242bb4ec",
   "metadata": {},
   "outputs": [
    {
     "data": {
      "text/html": [
       "<div>\n",
       "<style scoped>\n",
       "    .dataframe tbody tr th:only-of-type {\n",
       "        vertical-align: middle;\n",
       "    }\n",
       "\n",
       "    .dataframe tbody tr th {\n",
       "        vertical-align: top;\n",
       "    }\n",
       "\n",
       "    .dataframe thead th {\n",
       "        text-align: right;\n",
       "    }\n",
       "</style>\n",
       "<table border=\"1\" class=\"dataframe\">\n",
       "  <thead>\n",
       "    <tr style=\"text-align: right;\">\n",
       "      <th></th>\n",
       "      <th>Item_Weight</th>\n",
       "      <th>Item_Fat_Content</th>\n",
       "      <th>Item_Visibility</th>\n",
       "      <th>Item_Type</th>\n",
       "      <th>Item_MRP</th>\n",
       "      <th>Outlet_Identifier</th>\n",
       "      <th>Outlet_Establishment_Year</th>\n",
       "      <th>Outlet_Size</th>\n",
       "      <th>Outlet_Location_Type</th>\n",
       "      <th>Outlet_Type</th>\n",
       "    </tr>\n",
       "    <tr>\n",
       "      <th>Item_Identifier</th>\n",
       "      <th></th>\n",
       "      <th></th>\n",
       "      <th></th>\n",
       "      <th></th>\n",
       "      <th></th>\n",
       "      <th></th>\n",
       "      <th></th>\n",
       "      <th></th>\n",
       "      <th></th>\n",
       "      <th></th>\n",
       "    </tr>\n",
       "  </thead>\n",
       "  <tbody>\n",
       "    <tr>\n",
       "      <th>FDW58</th>\n",
       "      <td>20.750</td>\n",
       "      <td>1</td>\n",
       "      <td>0.007565</td>\n",
       "      <td>13</td>\n",
       "      <td>107.8622</td>\n",
       "      <td>OUT049</td>\n",
       "      <td>1999</td>\n",
       "      <td>1</td>\n",
       "      <td>0</td>\n",
       "      <td>1</td>\n",
       "    </tr>\n",
       "    <tr>\n",
       "      <th>FDW14</th>\n",
       "      <td>8.300</td>\n",
       "      <td>4</td>\n",
       "      <td>0.038428</td>\n",
       "      <td>4</td>\n",
       "      <td>87.3198</td>\n",
       "      <td>OUT017</td>\n",
       "      <td>2007</td>\n",
       "      <td>3</td>\n",
       "      <td>1</td>\n",
       "      <td>1</td>\n",
       "    </tr>\n",
       "    <tr>\n",
       "      <th>NCN55</th>\n",
       "      <td>14.600</td>\n",
       "      <td>1</td>\n",
       "      <td>0.099575</td>\n",
       "      <td>11</td>\n",
       "      <td>241.7538</td>\n",
       "      <td>OUT010</td>\n",
       "      <td>1998</td>\n",
       "      <td>3</td>\n",
       "      <td>2</td>\n",
       "      <td>0</td>\n",
       "    </tr>\n",
       "    <tr>\n",
       "      <th>FDQ58</th>\n",
       "      <td>7.315</td>\n",
       "      <td>1</td>\n",
       "      <td>0.015388</td>\n",
       "      <td>13</td>\n",
       "      <td>155.0340</td>\n",
       "      <td>OUT017</td>\n",
       "      <td>2007</td>\n",
       "      <td>3</td>\n",
       "      <td>1</td>\n",
       "      <td>1</td>\n",
       "    </tr>\n",
       "    <tr>\n",
       "      <th>FDY38</th>\n",
       "      <td>NaN</td>\n",
       "      <td>2</td>\n",
       "      <td>0.118599</td>\n",
       "      <td>4</td>\n",
       "      <td>234.2300</td>\n",
       "      <td>OUT027</td>\n",
       "      <td>1985</td>\n",
       "      <td>1</td>\n",
       "      <td>2</td>\n",
       "      <td>3</td>\n",
       "    </tr>\n",
       "  </tbody>\n",
       "</table>\n",
       "</div>"
      ],
      "text/plain": [
       "                 Item_Weight  Item_Fat_Content  Item_Visibility  Item_Type  \\\n",
       "Item_Identifier                                                              \n",
       "FDW58                 20.750                 1         0.007565         13   \n",
       "FDW14                  8.300                 4         0.038428          4   \n",
       "NCN55                 14.600                 1         0.099575         11   \n",
       "FDQ58                  7.315                 1         0.015388         13   \n",
       "FDY38                    NaN                 2         0.118599          4   \n",
       "\n",
       "                 Item_MRP Outlet_Identifier  Outlet_Establishment_Year  \\\n",
       "Item_Identifier                                                          \n",
       "FDW58            107.8622            OUT049                       1999   \n",
       "FDW14             87.3198            OUT017                       2007   \n",
       "NCN55            241.7538            OUT010                       1998   \n",
       "FDQ58            155.0340            OUT017                       2007   \n",
       "FDY38            234.2300            OUT027                       1985   \n",
       "\n",
       "                 Outlet_Size  Outlet_Location_Type  Outlet_Type  \n",
       "Item_Identifier                                                  \n",
       "FDW58                      1                     0            1  \n",
       "FDW14                      3                     1            1  \n",
       "NCN55                      3                     2            0  \n",
       "FDQ58                      3                     1            1  \n",
       "FDY38                      1                     2            3  "
      ]
     },
     "execution_count": 1061,
     "metadata": {},
     "output_type": "execute_result"
    }
   ],
   "source": [
    "test.head()"
   ]
  },
  {
   "cell_type": "code",
   "execution_count": 1062,
   "id": "8ba8eaaa",
   "metadata": {},
   "outputs": [
    {
     "data": {
      "text/plain": [
       "(5681, 10)"
      ]
     },
     "execution_count": 1062,
     "metadata": {},
     "output_type": "execute_result"
    }
   ],
   "source": [
    "test.shape"
   ]
  },
  {
   "cell_type": "code",
   "execution_count": 1063,
   "id": "501daceb",
   "metadata": {},
   "outputs": [
    {
     "data": {
      "text/plain": [
       "Item_Weight             0\n",
       "Item_Fat_Content        0\n",
       "Item_Visibility         0\n",
       "Item_Type               0\n",
       "Item_MRP                0\n",
       "Outlet_Identifier       0\n",
       "Outlet_Size             0\n",
       "Outlet_Location_Type    0\n",
       "Outlet_Type             0\n",
       "dtype: int64"
      ]
     },
     "execution_count": 1063,
     "metadata": {},
     "output_type": "execute_result"
    }
   ],
   "source": [
    "X_test_scaled.isnull().sum()"
   ]
  },
  {
   "cell_type": "markdown",
   "id": "f4740112",
   "metadata": {},
   "source": [
    "test=test.dropna(subset=['Item_Weight'])"
   ]
  },
  {
   "cell_type": "code",
   "execution_count": 1064,
   "id": "5408ecae",
   "metadata": {},
   "outputs": [],
   "source": [
    "from sklearn.model_selection import train_test_split\n",
    "\n",
    "X_test=test[['Item_Weight', 'Item_Fat_Content', 'Item_Visibility', 'Item_Type','Item_MRP']]\n",
    "\n",
    "\n",
    "from sklearn.impute import KNNImputer\n",
    "knn=KNNImputer()\n",
    "\n",
    "X_test_impute=pd.DataFrame(knn.fit_transform(X_test),columns=X_test.columns)\n",
    "\n",
    "from sklearn.preprocessing import StandardScaler\n",
    "sc=StandardScaler()\n",
    "\n",
    "X_test_data=pd.DataFrame(sc.fit_transform(X_test_impute),columns=X_test_impute.columns)\n",
    "\n"
   ]
  },
  {
   "cell_type": "code",
   "execution_count": 1065,
   "id": "70dafd02",
   "metadata": {},
   "outputs": [
    {
     "data": {
      "text/html": [
       "<div>\n",
       "<style scoped>\n",
       "    .dataframe tbody tr th:only-of-type {\n",
       "        vertical-align: middle;\n",
       "    }\n",
       "\n",
       "    .dataframe tbody tr th {\n",
       "        vertical-align: top;\n",
       "    }\n",
       "\n",
       "    .dataframe thead th {\n",
       "        text-align: right;\n",
       "    }\n",
       "</style>\n",
       "<table border=\"1\" class=\"dataframe\">\n",
       "  <thead>\n",
       "    <tr style=\"text-align: right;\">\n",
       "      <th></th>\n",
       "      <th>Item_Weight</th>\n",
       "      <th>Item_Fat_Content</th>\n",
       "      <th>Item_Visibility</th>\n",
       "      <th>Item_Type</th>\n",
       "      <th>Item_MRP</th>\n",
       "    </tr>\n",
       "  </thead>\n",
       "  <tbody>\n",
       "    <tr>\n",
       "      <th>0</th>\n",
       "      <td>1.829702</td>\n",
       "      <td>-0.575284</td>\n",
       "      <td>-1.134077</td>\n",
       "      <td>1.366916</td>\n",
       "      <td>-0.536555</td>\n",
       "    </tr>\n",
       "    <tr>\n",
       "      <th>1</th>\n",
       "      <td>-0.997814</td>\n",
       "      <td>4.104698</td>\n",
       "      <td>-0.531850</td>\n",
       "      <td>-0.766450</td>\n",
       "      <td>-0.868937</td>\n",
       "    </tr>\n",
       "    <tr>\n",
       "      <th>2</th>\n",
       "      <td>0.432977</td>\n",
       "      <td>-0.575284</td>\n",
       "      <td>0.661316</td>\n",
       "      <td>0.892835</td>\n",
       "      <td>1.629848</td>\n",
       "    </tr>\n",
       "  </tbody>\n",
       "</table>\n",
       "</div>"
      ],
      "text/plain": [
       "   Item_Weight  Item_Fat_Content  Item_Visibility  Item_Type  Item_MRP\n",
       "0     1.829702         -0.575284        -1.134077   1.366916 -0.536555\n",
       "1    -0.997814          4.104698        -0.531850  -0.766450 -0.868937\n",
       "2     0.432977         -0.575284         0.661316   0.892835  1.629848"
      ]
     },
     "execution_count": 1065,
     "metadata": {},
     "output_type": "execute_result"
    }
   ],
   "source": [
    "X_test_data.head(3)"
   ]
  },
  {
   "cell_type": "code",
   "execution_count": 1066,
   "id": "87d29341",
   "metadata": {},
   "outputs": [
    {
     "data": {
      "text/plain": [
       "((3720, 9), (930, 9))"
      ]
     },
     "execution_count": 1066,
     "metadata": {},
     "output_type": "execute_result"
    }
   ],
   "source": [
    "X_train_scaled.shape,X_test_scaled.shape"
   ]
  },
  {
   "cell_type": "code",
   "execution_count": 1067,
   "id": "9174312c",
   "metadata": {},
   "outputs": [
    {
     "data": {
      "text/plain": [
       "Index(['Item_Weight', 'Item_Fat_Content', 'Item_Visibility', 'Item_Type',\n",
       "       'Item_MRP'],\n",
       "      dtype='object')"
      ]
     },
     "execution_count": 1067,
     "metadata": {},
     "output_type": "execute_result"
    }
   ],
   "source": [
    "X_test_data.columns"
   ]
  },
  {
   "cell_type": "code",
   "execution_count": 1068,
   "id": "c8b95b0d",
   "metadata": {},
   "outputs": [
    {
     "name": "stdout",
     "output_type": "stream",
     "text": [
      "r 2 square-PT  0.4661098116333767\n",
      "\n",
      "train score  0.4604893482601635\n",
      "test score  0.4661098116333767\n"
     ]
    }
   ],
   "source": [
    "X=df.loc[:,['Item_Weight', 'Item_Fat_Content', 'Item_Visibility', 'Item_Type',\n",
    "       'Item_MRP']]\n",
    "\n",
    "\n",
    "X_train, X_test, y_train, y_test = train_test_split( X, y, test_size=0.2,random_state=10)\n",
    "\n",
    "\n",
    "X_train_scaled=pd.DataFrame(sc.fit_transform(X_train),columns=X_train.columns)\n",
    "X_test_scaled=pd.DataFrame(sc.transform(X_test),columns=X_test.columns)\n",
    "\n",
    "lr_model3=LR.fit(X_train_scaled,y_train)\n",
    "y_pred3=lr_model3.predict(X_test_scaled)\n",
    "\n",
    "\n",
    "print('r 2 square-PT ',r2_score(y_test,y_pred3))\n",
    "print()\n",
    "\n",
    "print('train score ',lr_model3.score(X_train_scaled,y_train))\n",
    "print('test score ',lr_model3.score(X_test_scaled,y_test))\n",
    "\n",
    "y_pred__final=lr_model3.predict(X_test_data)"
   ]
  },
  {
   "cell_type": "code",
   "execution_count": 1069,
   "id": "f7b0040e",
   "metadata": {},
   "outputs": [],
   "source": [
    "test['Item_Outlet_Sales']=y_pred__final"
   ]
  },
  {
   "cell_type": "code",
   "execution_count": 1070,
   "id": "eb4e5f2d",
   "metadata": {},
   "outputs": [],
   "source": [
    "final_pred= pd.DataFrame({\n",
    "               'Outlet_Identifier':test['Outlet_Identifier'],'Item_Outlet_Sales':test['Item_Outlet_Sales']})"
   ]
  },
  {
   "cell_type": "code",
   "execution_count": 1071,
   "id": "32c336e8",
   "metadata": {},
   "outputs": [
    {
     "data": {
      "text/html": [
       "<div>\n",
       "<style scoped>\n",
       "    .dataframe tbody tr th:only-of-type {\n",
       "        vertical-align: middle;\n",
       "    }\n",
       "\n",
       "    .dataframe tbody tr th {\n",
       "        vertical-align: top;\n",
       "    }\n",
       "\n",
       "    .dataframe thead th {\n",
       "        text-align: right;\n",
       "    }\n",
       "</style>\n",
       "<table border=\"1\" class=\"dataframe\">\n",
       "  <thead>\n",
       "    <tr style=\"text-align: right;\">\n",
       "      <th></th>\n",
       "      <th>Outlet_Identifier</th>\n",
       "      <th>Item_Outlet_Sales</th>\n",
       "    </tr>\n",
       "    <tr>\n",
       "      <th>Item_Identifier</th>\n",
       "      <th></th>\n",
       "      <th></th>\n",
       "    </tr>\n",
       "  </thead>\n",
       "  <tbody>\n",
       "    <tr>\n",
       "      <th>FDW58</th>\n",
       "      <td>OUT049</td>\n",
       "      <td>1713.665002</td>\n",
       "    </tr>\n",
       "    <tr>\n",
       "      <th>FDW14</th>\n",
       "      <td>OUT017</td>\n",
       "      <td>1443.486476</td>\n",
       "    </tr>\n",
       "    <tr>\n",
       "      <th>NCN55</th>\n",
       "      <td>OUT010</td>\n",
       "      <td>3890.001271</td>\n",
       "    </tr>\n",
       "    <tr>\n",
       "      <th>FDQ58</th>\n",
       "      <td>OUT017</td>\n",
       "      <td>2512.344101</td>\n",
       "    </tr>\n",
       "    <tr>\n",
       "      <th>FDY38</th>\n",
       "      <td>OUT027</td>\n",
       "      <td>3777.437758</td>\n",
       "    </tr>\n",
       "  </tbody>\n",
       "</table>\n",
       "</div>"
      ],
      "text/plain": [
       "                Outlet_Identifier  Item_Outlet_Sales\n",
       "Item_Identifier                                     \n",
       "FDW58                      OUT049        1713.665002\n",
       "FDW14                      OUT017        1443.486476\n",
       "NCN55                      OUT010        3890.001271\n",
       "FDQ58                      OUT017        2512.344101\n",
       "FDY38                      OUT027        3777.437758"
      ]
     },
     "execution_count": 1071,
     "metadata": {},
     "output_type": "execute_result"
    }
   ],
   "source": [
    "final_pred.head()"
   ]
  },
  {
   "cell_type": "code",
   "execution_count": 1072,
   "id": "d752b448",
   "metadata": {},
   "outputs": [],
   "source": [
    "final_pred.to_csv('Bigmart_Sales_Prediction_final__1.csv')"
   ]
  },
  {
   "cell_type": "code",
   "execution_count": null,
   "id": "01e2474e",
   "metadata": {},
   "outputs": [],
   "source": []
  }
 ],
 "metadata": {
  "colab": {
   "name": "Big Mart Sales Prediction.ipynb",
   "provenance": []
  },
  "kernelspec": {
   "display_name": "Python 3",
   "language": "python",
   "name": "python3"
  },
  "language_info": {
   "codemirror_mode": {
    "name": "ipython",
    "version": 3
   },
   "file_extension": ".py",
   "mimetype": "text/x-python",
   "name": "python",
   "nbconvert_exporter": "python",
   "pygments_lexer": "ipython3",
   "version": "3.8.8"
  }
 },
 "nbformat": 4,
 "nbformat_minor": 5
}
